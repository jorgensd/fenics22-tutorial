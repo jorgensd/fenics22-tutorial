{
 "cells": [
  {
   "cell_type": "markdown",
   "id": "51e6f0eb",
   "metadata": {
    "slideshow": {
     "slide_type": "slide"
    },
    "tags": []
   },
   "source": [
    "# Stokes equation"
   ]
  },
  {
   "cell_type": "markdown",
   "id": "12afe587-a28c-491e-abc0-58b0088a4be7",
   "metadata": {},
   "source": [
    "Authors: J.S. Dokken, M.W. Scroggs, S. Roggendorf"
   ]
  },
  {
   "cell_type": "markdown",
   "id": "120e279b",
   "metadata": {
    "slideshow": {
     "slide_type": "notes"
    },
    "tags": []
   },
   "source": [
    "In "
   ]
  },
  {
   "cell_type": "markdown",
   "id": "026d6390",
   "metadata": {},
   "source": [
    "Import some stuff"
   ]
  },
  {
   "cell_type": "code",
   "execution_count": 1,
   "id": "eb7ac5d2",
   "metadata": {
    "tags": []
   },
   "outputs": [],
   "source": [
    "from dolfinx import fem, mesh\n",
    "from ufl import (VectorElement, EnrichedElement, FiniteElement,\n",
    "                 SpatialCoordinate, TrialFunction, TestFunction,\n",
    "                 as_vector, cos, sin, inner, div, grad, dx, pi)\n",
    "import numpy as np\n",
    "from petsc4py import PETSc\n",
    "from mpi4py import MPI\n",
    "import basix\n",
    "import basix.ufl_wrapper\n",
    "\n",
    "import matplotlib.pylab as plt"
   ]
  },
  {
   "cell_type": "markdown",
   "id": "e43b24b7",
   "metadata": {
    "slideshow": {
     "slide_type": "fragment"
    },
    "tags": []
   },
   "source": [
    "## Defining a Stokes solver"
   ]
  },
  {
   "cell_type": "markdown",
   "id": "56b7f168",
   "metadata": {
    "slideshow": {
     "slide_type": "notes"
    },
    "tags": []
   },
   "source": [
    "TODO: some text here, probably split this code into multiple cells."
   ]
  },
  {
   "cell_type": "code",
   "execution_count": 9,
   "id": "12d85f47",
   "metadata": {},
   "outputs": [],
   "source": [
    "def u_ex(x):\n",
    "    sinx = sin(pi * x[0]) \n",
    "    siny = sin(pi * x[1])\n",
    "    cosx = cos(pi * x[0])\n",
    "    cosy = cos(pi * x[1])\n",
    "    c_factor = 2 * pi * sinx * siny\n",
    "    return c_factor * as_vector((cosy * sinx, - cosx * siny))\n",
    "\n",
    "def p_ex(x):\n",
    "    return sin(2 * pi * x[0]) * sin(2 * pi * x[1])\n",
    "\n",
    "def source(x):\n",
    "    u, p = u_ex(x), p_ex(x)\n",
    "    return - div(grad(u)) + grad(p)\n",
    "\n",
    "def assemble_scalar(J, comm: MPI.Comm):\n",
    "    scalar_form = fem.form(J)\n",
    "    local_J = fem.assemble_scalar(scalar_form)\n",
    "    return comm.allreduce(local_J, op=MPI.SUM)\n",
    "\n",
    "\n",
    "def solve_stokes(u_element, p_element, domain):\n",
    "    V = fem.FunctionSpace(domain, u_element)\n",
    "    Q = fem.FunctionSpace(domain, p_element)\n",
    "\n",
    "    \n",
    "    # Velocity boundary condition\n",
    "    g = fem.Function(V)\n",
    "    g.x.set(0.0)\n",
    "    tdim = domain.topology.dim\n",
    "    domain.topology.create_connectivity(tdim - 1, tdim)\n",
    "    bdry_facets = mesh.exterior_facet_indices(domain.topology)\n",
    "    dofs = fem.locate_dofs_topological(V, tdim - 1, bdry_facets)\n",
    "    bcv = fem.dirichletbc(g, dofs)\n",
    "    bcs = [bcv]\n",
    "\n",
    "    # Define variational problem\n",
    "    u, p = TrialFunction(V), TrialFunction(Q)\n",
    "    v, q = TestFunction(V), TestFunction(Q)\n",
    "    x = SpatialCoordinate(domain)\n",
    "    f = source(x)\n",
    "    a_00 = inner(grad(u), grad(v)) * dx\n",
    "    a_01 = - inner(p, div(v)) * dx\n",
    "    a_10 = - inner(div(u), q) * dx\n",
    "    a = fem.form([[a_00, a_01],\n",
    "                  [a_10, None]])\n",
    "    rhs_form = fem.form([inner(f, v) * dx,\n",
    "                  inner(fem.Constant(domain, 0.), q) * dx])\n",
    "    lhs_form = fem.form(a)\n",
    "\n",
    "\n",
    "\n",
    "    # Assemble LHS matrix and RHS vector\n",
    "    A = fem.petsc.assemble_matrix_nest(lhs_form, bcs=bcs)\n",
    "    A.assemble()\n",
    "\n",
    "    # We create a nested matrix `P` to use as the preconditioner. The\n",
    "    # top-left block of `P` is shared with the top-left block of `A`. The\n",
    "    # bottom-right diagonal entry is assembled from the form `a_p11`:\n",
    "\n",
    "        # We will use a block-diagonal preconditioner to solve this problem:\n",
    "    a_p11 = fem.form(inner(p, q) * dx)\n",
    "    a_p = [[a[0][0], None],\n",
    "           [None, a_p11]]\n",
    "    \n",
    "    P11 = fem.petsc.assemble_matrix(a_p11, [])\n",
    "    P = PETSc.Mat().createNest([[A.getNestSubMatrix(0, 0), None], [None, P11]])\n",
    "    P.assemble()\n",
    "    b = fem.petsc.assemble_vector_nest(rhs_form)\n",
    "    fem.petsc.apply_lifting_nest(b, a, bcs=bcs)\n",
    "\n",
    "    # Sum contributions from ghost entries on the owner\n",
    "    for b_sub in b.getNestSubVecs():\n",
    "        b_sub.ghostUpdate(addv=PETSc.InsertMode.ADD, mode=PETSc.ScatterMode.REVERSE)\n",
    "\n",
    "    # Set Dirichlet boundary condition values in the RHS\n",
    "    bcs0 = fem.bcs_by_block(fem.extract_function_spaces(rhs_form), bcs)\n",
    "    fem.petsc.set_bc_nest(b, bcs0)\n",
    "\n",
    "    # Create nullspace vector\n",
    "    null_vec = fem.petsc.create_vector_nest(rhs_form)\n",
    "\n",
    "    # Set velocity part to zero and the pressure part to a non-zero constant\n",
    "    null_vecs = null_vec.getNestSubVecs()\n",
    "    null_vecs[0].set(0.0), null_vecs[1].set(1.0)\n",
    "\n",
    "    # Normalize the vector, create a nullspace object, and attach it to the\n",
    "    # matrix\n",
    "    null_vec.normalize()\n",
    "    nsp = PETSc.NullSpace().create(vectors=[null_vec])\n",
    "    assert nsp.test(A)\n",
    "    A.setNullSpace(nsp)\n",
    "  \n",
    "    # Now we create a Krylov Subspace Solver `ksp`. We configure it to use\n",
    "    # the MINRES method, and a block-diagonal preconditioner using PETSc's\n",
    "    # additive fieldsplit type preconditioner:\n",
    "\n",
    "    # +\n",
    "    ksp = PETSc.KSP().create(domain.comm)\n",
    "    ksp.setOperators(A, P)\n",
    "    ksp.setType(\"minres\")\n",
    "    ksp.setTolerances(rtol=1e-9)\n",
    "    ksp.getPC().setType(\"fieldsplit\")\n",
    "    ksp.getPC().setFieldSplitType(PETSc.PC.CompositeType.ADDITIVE)\n",
    "\n",
    "    # Define the matrix blocks in the preconditioner with the velocity and\n",
    "    # pressure matrix index sets\n",
    "    nested_IS = P.getNestISs()\n",
    "    ksp.getPC().setFieldSplitIS(\n",
    "        (\"u\", nested_IS[0][0]),\n",
    "        (\"p\", nested_IS[0][1]))\n",
    "\n",
    "    # Set the preconditioners for each block\n",
    "    ksp_u, ksp_p = ksp.getPC().getFieldSplitSubKSP()\n",
    "    ksp_u.setType(\"preonly\")\n",
    "    ksp_u.getPC().setType(\"gamg\")\n",
    "    ksp_p.setType(\"preonly\")\n",
    "    ksp_p.getPC().setType(\"jacobi\")\n",
    "    ksp.setFromOptions()\n",
    "\n",
    "    # Compute the solution\n",
    "    u = fem.Function(V)\n",
    "    p = fem.Function(Q)\n",
    "    w = PETSc.Vec().createNest([u.vector, p.vector])\n",
    "    ksp.solve(b, w)\n",
    "    assert ksp.getConvergedReason() > 0\n",
    "    u.x.scatter_forward()\n",
    "    p.x.scatter_forward()\n",
    "\n",
    "    # Error computation\n",
    "    error_u = u - u_ex(x)\n",
    "    H1_u = inner(error_u, error_u) * dx + inner(grad(error_u), grad(error_u)) * dx\n",
    "    velocity_error = np.sqrt(assemble_scalar(H1_u, domain.comm))\n",
    "    error_p = p - p_ex(x)\n",
    "    L2_p = fem.form(error_p * error_p * dx)\n",
    "    pressure_error = np.sqrt(assemble_scalar(L2_p, domain.comm))\n",
    "    return velocity_error, pressure_error"
   ]
  },
  {
   "cell_type": "markdown",
   "id": "87eb6098",
   "metadata": {
    "slideshow": {
     "slide_type": "notes"
    },
    "tags": []
   },
   "source": [
    "TODO: some text here"
   ]
  },
  {
   "cell_type": "code",
   "execution_count": 10,
   "id": "52a2704e",
   "metadata": {},
   "outputs": [],
   "source": [
    "def compute_errors(element_u, element_p, refinments=5):\n",
    "    N0 = 7\n",
    "    hs = np.zeros(nmeshes)\n",
    "    u_errors = np.zeros(nmeshes)\n",
    "    p_errors = np.zeros(nmeshes)\n",
    "    comm = MPI.COMM_WORLD\n",
    "    for i in range(refinements):\n",
    "        # This works\n",
    "        N = N0 * 2**i\n",
    "        domain = mesh.create_unit_square(comm, N, N, \n",
    "                                         cell_type=mesh.CellType.triangle)\n",
    "        u_errors[i] , p_errors[i] = solve_stokes(element_u, element_p, domain)\n",
    "        hs[i] = 1. / N\n",
    "    return hs, u_errors, p_errors"
   ]
  },
  {
   "cell_type": "markdown",
   "id": "6013d685",
   "metadata": {
    "slideshow": {
     "slide_type": "subslide"
    },
    "tags": []
   },
   "source": [
    "## The elements"
   ]
  },
  {
   "cell_type": "markdown",
   "id": "e325a904",
   "metadata": {
    "lines_to_next_cell": 0,
    "tags": []
   },
   "source": [
    "We now use the Stokes solver we have defined to experiment with a range of element pairs that can be used. First, we define a function that takes an element as input and plots a graph showing the error as $h$ is decreased."
   ]
  },
  {
   "cell_type": "code",
   "execution_count": 11,
   "id": "9ec19416",
   "metadata": {
    "lines_to_next_cell": 0
   },
   "outputs": [],
   "source": [
    "def error_plot(element_u, element_p, convergence=None, nmeshes=5):\n",
    "    hs, v_errors, p_errors = compute_errors(element_u, element_p, nmeshes)\n",
    "\n",
    "    legend = []\n",
    "    if convergence is not None:\n",
    "        y_value = v_errors[-1] * 1.4\n",
    "        plt.plot([hs[0], hs[-1]], [y_value * (hs[0] / hs[-1])**convergence, y_value], \"k--\")\n",
    "        legend.append(f\"order {convergence}\")\n",
    "    print(hs, v_errors, p_errors)\n",
    "    plt.plot(hs, v_errors, \"bo-\")\n",
    "    plt.plot(hs, p_errors, \"ro-\")\n",
    "    legend += [\"velocity\", \"pressure\"]\n",
    "    plt.legend(legend)\n",
    "    plt.xscale(\"log\")\n",
    "    plt.yscale(\"log\")\n",
    "    plt.axis(\"equal\")\n",
    "    plt.ylabel(\"Error in energy norm\")\n",
    "    plt.xlabel(\"$h$\")\n",
    "    plt.xlim(plt.xlim()[::-1])\n",
    "    plt.grid(True)"
   ]
  },
  {
   "cell_type": "markdown",
   "id": "5089c8cf",
   "metadata": {
    "tags": []
   },
   "source": [
    "## Piecewise constant pressure spaces"
   ]
  },
  {
   "cell_type": "markdown",
   "id": "f8de7f59",
   "metadata": {},
   "source": [
    "For our first element, we pair piecewise linear elements with piecewise constants.\n",
    "\n",
    "<img src='./img/element-Lagrange-triangle-1-dofs-large.png' style='width:100px' /><img src='./img/element-Lagrange-triangle-0-dofs-large.png' style='width:100px' />\n",
    "\n",
    "Using these elements, we do not converge to the solution."
   ]
  },
  {
   "cell_type": "code",
   "execution_count": 13,
   "id": "0a7d18cc",
   "metadata": {},
   "outputs": [
    {
     "name": "stdout",
     "output_type": "stream",
     "text": [
      "[0.14285714 0.07142857 0.03571429 0.01785714 0.00892857] [14.08968714 14.08968714 14.08968714 14.08968714 14.08968714] [  79.92400619  164.81112685  332.14283128  665.55123932 1331.73593983]\n"
     ]
    },
    {
     "data": {
      "image/png": "[encoded data removed]",
      "text/plain": [
       "<Figure size 432x288 with 1 Axes>"
      ]
     },
     "metadata": {
      "needs_background": "light"
     },
     "output_type": "display_data"
    }
   ],
   "source": [
    "element_u = VectorElement(\"Lagrange\", \"triangle\", 1)\n",
    "element_p = FiniteElement(\"DG\", \"triangle\", 0)\n",
    "error_plot(element_u, element_p)"
   ]
  },
  {
   "cell_type": "markdown",
   "id": "afdb0478",
   "metadata": {},
   "source": [
    "One way to obtain convergence with a piecewise constant pressure space is to use a piecewise quadratic space for the velocity (Fortin, 1972).\n",
    "\n",
    "<img src='./img/element-Lagrange-triangle-2-dofs-large.png' style='width:100px' /><img src='./img/element-Lagrange-triangle-0-dofs-large.png' style='width:100px' />"
   ]
  },
  {
   "cell_type": "code",
   "execution_count": 14,
   "id": "1bc5a774",
   "metadata": {
    "lines_to_next_cell": 2
   },
   "outputs": [
    {
     "name": "stdout",
     "output_type": "stream",
     "text": [
      "[0.14285714 0.07142857 0.03571429 0.01785714 0.00892857] [0.80737519 0.21906002 0.064031   0.02278226 0.00989817] [0.14836316 0.07470491 0.0374005  0.01870138 0.00935036]\n"
     ]
    },
    {
     "data": {
      "image/png": "[encoded data removed]",
      "text/plain": [
       "<Figure size 432x288 with 1 Axes>"
      ]
     },
     "metadata": {
      "needs_background": "light"
     },
     "output_type": "display_data"
    }
   ],
   "source": [
    "element_u = VectorElement(\"Lagrange\", \"triangle\", 2)\n",
    "element_p = FiniteElement(\"DG\", \"triangle\", 0)\n",
    "error_plot(element_u, element_p, 1)"
   ]
  },
  {
   "cell_type": "markdown",
   "id": "ede4beca",
   "metadata": {},
   "source": [
    "Alternatively, the same order convergence can be achieved using fewer degrees of freedom if a Crouzeix-Raviart element is used for the velocity space (Crouziex, Raviart, 1973).\n",
    "\n",
    "<img src='./img/element-Crouzeix-Raviart-triangle-1-dofs-large.png' style='width:100px' /><img src='./img/element-Lagrange-triangle-0-dofs-large.png' style='width:100px' />"
   ]
  },
  {
   "cell_type": "code",
   "execution_count": null,
   "id": "7b8e5628",
   "metadata": {},
   "outputs": [],
   "source": [
    "element_u = VectorElement(\"CR\", \"triangle\", 1)\n",
    "element_p = FiniteElement(\"DG\", \"triangle\", 0)\n",
    "error_plot(element_u, element_p, 1)"
   ]
  },
  {
   "cell_type": "markdown",
   "id": "e9b946c3",
   "metadata": {
    "tags": []
   },
   "source": [
    "## Piecewise linear pressure space"
   ]
  },
  {
   "cell_type": "markdown",
   "id": "97b57bb0",
   "metadata": {},
   "source": [
    "When using a piecewise linear pressure space, we could again try using a velocity space one degree higher, but we would again observe that there is no convergence. In order to achieve convergence, we can augment the quadratic space with a cubic bubble function on the triangle (Crouziex, Falk, 1988).\n",
    "\n",
    "<img src='./img/element-bubble-enriched-Lagrange-triangle-2-dofs-large.png' style='width:100px' /><img src='./img/element-Lagrange-triangle-1-dofs-large.png' style='width:100px' />"
   ]
  },
  {
   "cell_type": "code",
   "execution_count": null,
   "id": "090c7af3",
   "metadata": {},
   "outputs": [],
   "source": [
    "enriched_element = FiniteElement(\"Lagrange\", \"triangle\", 2) + FiniteElement(\"Bubble\", \"triangle\", 3)\n",
    "element_u = VectorElement(enriched_element)\n",
    "element_p = FiniteElement(\"DG\", \"triangle\", 1)\n",
    "error_plot(element_u, element_p, 2)"
   ]
  },
  {
   "cell_type": "markdown",
   "id": "c78dee90",
   "metadata": {},
   "source": [
    "## Piecewise quadratic pressure space"
   ]
  },
  {
   "cell_type": "markdown",
   "id": "1a5ab5e1",
   "metadata": {},
   "source": [
    "When using a piecewise quadratic space, we can use a cubic velocity space augmented with quartic bubbles (Crouzeix, Falk, 1988).\n",
    "\n",
    "<img src='./img/element-bubble-enriched-Lagrange-triangle-3-dofs-large.png' style='width:100px' /><img src='./img/element-Lagrange-triangle-2-dofs-large.png' style='width:100px' />\n",
    "\n",
    "We have to define this velocity element as a custom element (it cannot be created as an enriched element, as the basis functions of degree 3 Lagrange and degree 4 bubbles are not linearly independent). More examples of how custom elements can be created can be found [in the Basix documentation](https://docs.fenicsproject.org/basix/v0.5.0/python/demo/demo_custom_element.py.html)."
   ]
  },
  {
   "cell_type": "markdown",
   "id": "08bae35b",
   "metadata": {},
   "source": [
    "### Defining the polynomial space\n",
    "\n",
    "When creating a custom element, we must input the coefficients that define a basis of the set of polynomials that our element spans. In this example, we will represent the 9 functions in our space in terms of the 10 orthonormal polynomials of degree $\\leqslant3$ on a quadrilateral, so we create a 9 by 10 matrix.\n",
    "\n",
    "A polynomial $f$ on the triangle can be written as\n",
    "$$f(x,y)=\\sum_i\\left(\\int_0^1\\int_0^{1-y}f(x, y)q_i(x, y) \\,\\mathrm{d}x\\,\\mathrm{d}y\\right)q_i(x,y),$$\n",
    "where $q_0$, $q_1$, ... are the orthonormal polynomials. The entries of our coefficient matrix are these integrals."
   ]
  },
  {
   "cell_type": "code",
   "execution_count": null,
   "id": "8eb61dbb",
   "metadata": {},
   "outputs": [],
   "source": [
    "wcoeffs = np.zeros((12, 15))\n",
    "pts, wts = basix.make_quadrature(basix.CellType.triangle, 8)\n",
    "poly = basix.tabulate_polynomials(basix.PolynomialType.legendre, basix.CellType.triangle, 4, pts)\n",
    "x = pts[:, 0]\n",
    "y = pts[:, 1]\n",
    "for j, f in enumerate([\n",
    "    1, x, y, x**2*y, x*y**2, (1-x-y)**2*y, (1-x-y)*y**2, x**2*(1-x-y), x*(1-x-y)**2,\n",
    "    x*y*(1-x-y), x**2*y*(1-x-y), x*y**2*(1-x-y)\n",
    "]):\n",
    "    for i in range(15):\n",
    "        wcoeffs[j, i] = sum(f * poly[i, :] * wts)"
   ]
  },
  {
   "cell_type": "markdown",
   "id": "4d73e102",
   "metadata": {},
   "source": [
    "### Interpolation\n",
    "\n",
    "Next, we compute the points and matrices that define how functions can be interpolated into this space. For this element, all the DOFs are point evaluations, so we create lists of these points and (reshaped) identity matrices."
   ]
  },
  {
   "cell_type": "code",
   "execution_count": null,
   "id": "6ad29eb2",
   "metadata": {},
   "outputs": [],
   "source": [
    "x = [[], [], [], []]\n",
    "x[0].append(np.array([[0.0, 0.0]]))\n",
    "x[0].append(np.array([[1.0, 0.0]]))\n",
    "x[0].append(np.array([[0.0, 1.0]]))\n",
    "x[1].append(np.array([[2 / 3, 1 / 3], [1 / 3, 2 / 3]]))\n",
    "x[1].append(np.array([[0.0, 1 / 3], [0.0, 2 / 3]]))\n",
    "x[1].append(np.array([[1 / 3, 0.0], [2 / 3, 0.0]]))\n",
    "x[2].append(np.array([[1 / 4, 1 / 4], [1 / 2, 1 / 4], [1 / 4, 1 / 2]]))\n",
    "\n",
    "M = [[], [], [], []]\n",
    "for _ in range(3):\n",
    "    M[0].append(np.array([[[[1.]]]]))\n",
    "for _ in range(3):\n",
    "    M[1].append(np.array([[[[1.], [0.]]], [[[0.], [1.]]]]))\n",
    "M[2].append(np.array([[[[1.], [0.], [0.]]], [[[0.], [1.], [0.]]], [[[0.], [0.], [1.]]]]))"
   ]
  },
  {
   "cell_type": "markdown",
   "id": "81994537",
   "metadata": {},
   "source": [
    "### Creating the element\n",
    "\n",
    "We now create the element by passing in the information we created above, as well as the cell type, value shape, number of derivatives used by the DOFs, map type, whether the element is discontinuous, the highest degree Lagrange space that is a subspace of the element, and the polynomial degree of the element."
   ]
  },
  {
   "cell_type": "code",
   "execution_count": null,
   "id": "7c9c03cc",
   "metadata": {},
   "outputs": [],
   "source": [
    "p3_plus_bubbles = basix.ufl_wrapper.BasixElement(basix.create_custom_element(\n",
    "    basix.CellType.triangle, [], wcoeffs, x, M, 0, basix.MapType.identity, False, 3, 4))\n",
    "element_u = VectorElement(p3_plus_bubbles)\n",
    "element_p = FiniteElement(\"DG\", \"triangle\", 2)\n",
    "error_plot(element_u, element_p, 3, 4)"
   ]
  },
  {
   "cell_type": "markdown",
   "id": "94450f5a",
   "metadata": {},
   "source": [
    "## References\n",
    "\n",
    "Crouzeix, Michel and Falk, Richard S. Nonconforming finite elements for the Stokes problem, *Mathematics of Computation* 52, 437–456, 1989. [DOI: [10.2307/2008475](https://doi.org/10.2307/2008475)]\n",
    "\n",
    "Crouzeix, Michel and Raviart, Pierre-Arnaud. Conforming and nonconforming finite element methods for solving the stationary Stokes equations, *Revue Française d'Automatique, Informatique et Recherche Opérationnelle* 3, 33–75, 1973. [DOI: [10.1051/m2an/197307R300331](https://doi.org/10.1051/m2an/197307R300331)]\n",
    "\n",
    "Fortin, Michel. Calcul numérique des écoulements des fluides de Bingham et des fluides newtoniens incompressibles par la méthode des éléments finis (PhD thesis), Univ. Paris, 1972.\n",
    "\n",
    "The images of elements used in this example were taken from DefElement:<br />\n",
    "The DefElement contributors. DefElement: an encyclopedia of finite element definitions, 2022, https://defelement.com [Online; accessed: 15-August-2022]."
   ]
  },
  {
   "cell_type": "code",
   "execution_count": null,
   "id": "c8534a58-1513-41a2-91d9-2221adcacfb7",
   "metadata": {},
   "outputs": [],
   "source": []
  }
 ],
 "metadata": {
  "jupytext": {
   "formats": "ipynb,py:light"
  },
  "kernelspec": {
   "display_name": "Python 3 (ipykernel)",
   "language": "python",
   "name": "python3"
  },
  "language_info": {
   "codemirror_mode": {
    "name": "ipython",
    "version": 3
   },
   "file_extension": ".py",
   "mimetype": "text/x-python",
   "name": "python",
   "nbconvert_exporter": "python",
   "pygments_lexer": "ipython3",
   "version": "3.10.4"
  }
 },
 "nbformat": 4,
 "nbformat_minor": 5
}
