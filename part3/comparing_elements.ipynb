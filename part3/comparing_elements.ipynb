{
 "cells": [
  {
   "cell_type": "markdown",
   "id": "1ea66286",
   "metadata": {
    "slideshow": {
     "slide_type": "slide"
    },
    "tags": []
   },
   "source": [
    "# Elements for Stokes"
   ]
  },
  {
   "cell_type": "markdown",
   "id": "0ef14012",
   "metadata": {
    "slideshow": {
     "slide_type": "notes"
    },
    "tags": []
   },
   "source": [
    "Hello there!"
   ]
  },
  {
   "cell_type": "markdown",
   "id": "010a1038",
   "metadata": {},
   "source": [
    "Import some stuff"
   ]
  },
  {
   "cell_type": "code",
   "execution_count": 1,
   "id": "54587bdc",
   "metadata": {
    "tags": []
   },
   "outputs": [],
   "source": [
    "from dolfinx import fem, mesh\n",
    "from dolfinx import cpp as _cpp\n",
    "\n",
    "import ufl\n",
    "import numpy as np\n",
    "from petsc4py import PETSc\n",
    "from mpi4py import MPI\n",
    "import basix\n",
    "import basix.ufl_wrapper\n",
    "\n",
    "import matplotlib.pylab as plt"
   ]
  },
  {
   "cell_type": "markdown",
   "id": "964a6e36",
   "metadata": {
    "slideshow": {
     "slide_type": "fragment"
    },
    "tags": []
   },
   "source": [
    "## Defining a Stokes solver"
   ]
  },
  {
   "cell_type": "markdown",
   "id": "504f1e51",
   "metadata": {
    "slideshow": {
     "slide_type": "notes"
    },
    "tags": []
   },
   "source": [
    "TODO: some text here, probably split this code into multiple cells."
   ]
  },
  {
   "cell_type": "code",
   "execution_count": 2,
   "id": "a4291de5",
   "metadata": {},
   "outputs": [],
   "source": [
    "def velocity(x, y):\n",
    "    a = 2*np.pi*ufl.sin(np.pi*x)*ufl.sin(np.pi*y)\n",
    "    b = ufl.sin(np.pi*x)*ufl.cos(np.pi*y)\n",
    "    c = ufl.cos(np.pi*x)*ufl.sin(np.pi*y)\n",
    "\n",
    "    return (a*b, -a*c)\n",
    "\n",
    "\n",
    "def rhs(x, y):\n",
    "    f1 = ufl.sin(2*np.pi*y)*(ufl.cos(2*np.pi*x) - 2*np.pi**2*ufl.cos(2*np.pi*x) + np.pi**2)\n",
    "    f2 = ufl.sin(2*np.pi*x)*(ufl.cos(2*np.pi*y) + 2*np.pi**2*ufl.cos(2*np.pi*y) - np.pi**2)\n",
    "\n",
    "    return(2*np.pi*f1, 2*np.pi*f2)\n",
    "\n",
    "\n",
    "def solve_stokes(element, domain):\n",
    "    V = fem.FunctionSpace(domain, element.sub_elements()[0])\n",
    "    Q = fem.FunctionSpace(domain, element.sub_elements()[1])\n",
    "    x = ufl.SpatialCoordinate(domain)\n",
    "    u_soln = ufl.as_vector(velocity(x[0], x[1]))\n",
    "\n",
    "    # Velocity boundary condition\n",
    "    g = fem.Function(V)\n",
    "    g.x.set(0.0)\n",
    "    bdry_facets = mesh.locate_entities_boundary(\n",
    "        domain, domain.topology.dim - 1, lambda x: np.ones(x.shape[1], dtype=np.bool8))\n",
    "    dofs = fem.locate_dofs_topological(V, domain.topology.dim-1, bdry_facets)\n",
    "    bcv = fem.dirichletbc(g, dofs)\n",
    "\n",
    "    bcs = [bcv]\n",
    "\n",
    "    # Define variational problem\n",
    "    u, p = ufl.TrialFunction(V), ufl.TrialFunction(Q)\n",
    "    v, q = ufl.TestFunction(V), ufl.TestFunction(Q)\n",
    "    f = fem.Function(V)\n",
    "    f_expr = fem.Expression(ufl.as_vector(rhs(x[0], x[1])), V.element.interpolation_points())\n",
    "    f.interpolate(f_expr)\n",
    "    a = fem.form([[ufl.inner(ufl.grad(u), ufl.grad(v)) * ufl.dx, ufl.inner(p, ufl.div(v)) * ufl.dx],\n",
    "              [ufl.inner(ufl.div(u), q) * ufl.dx, None]])\n",
    "    L = fem.form([ufl.inner(f, v) * ufl.dx, ufl.inner(fem.Constant(domain, PETSc.ScalarType(0)), q) * ufl.dx])\n",
    "\n",
    "    # We will use a block-diagonal preconditioner to solve this problem:\n",
    "\n",
    "    a_p11 = fem.form(ufl.inner(p, q) * ufl.dx)\n",
    "    a_p = [[a[0][0], None],\n",
    "           [None, a_p11]]\n",
    "\n",
    "    # Assemble LHS matrix and RHS vector\n",
    "    A = fem.petsc.assemble_matrix_nest(a, bcs=bcs)\n",
    "    A.assemble()\n",
    "\n",
    "    # We create a nested matrix `P` to use as the preconditioner. The\n",
    "    # top-left block of `P` is shared with the top-left block of `A`. The\n",
    "    # bottom-right diagonal entry is assembled from the form `a_p11`:\n",
    "\n",
    "    P11 = fem.petsc.assemble_matrix(a_p11, [])\n",
    "    P = PETSc.Mat().createNest([[A.getNestSubMatrix(0, 0), None], [None, P11]])\n",
    "    P.assemble()\n",
    "    b = fem.petsc.assemble_vector_nest(L)\n",
    "\n",
    "    fem.petsc.apply_lifting_nest(b, a, bcs=bcs)\n",
    "    # Sum contributions from ghost entries on the owner\n",
    "    for b_sub in b.getNestSubVecs():\n",
    "        b_sub.ghostUpdate(addv=PETSc.InsertMode.ADD, mode=PETSc.ScatterMode.REVERSE)\n",
    "\n",
    "    # Set Dirichlet boundary condition values in the RHS\n",
    "    bcs0 = fem.bcs_by_block(fem.extract_function_spaces(L), bcs)\n",
    "    fem.petsc.set_bc_nest(b, bcs0)\n",
    "\n",
    "    # Create nullspace vector\n",
    "    null_vec = fem.petsc.create_vector_nest(L)\n",
    "\n",
    "    # Set velocity part to zero and the pressure part to a non-zero constant\n",
    "    null_vecs = null_vec.getNestSubVecs()\n",
    "    null_vecs[0].set(0.0), null_vecs[1].set(1.0)\n",
    "\n",
    "    # Normalize the vector, create a nullspace object, and attach it to the\n",
    "    # matrix\n",
    "    null_vec.normalize()\n",
    "    nsp = PETSc.NullSpace().create(vectors=[null_vec])\n",
    "    assert nsp.test(A)\n",
    "    A.setNullSpace(nsp)\n",
    "    # Now we create a Krylov Subspace Solver `ksp`. We configure it to use\n",
    "    # the MINRES method, and a block-diagonal preconditioner using PETSc's\n",
    "    # additive fieldsplit type preconditioner:\n",
    "\n",
    "    # +\n",
    "    ksp = PETSc.KSP().create(domain.comm)\n",
    "    ksp.setOperators(A, P)\n",
    "    ksp.setType(\"minres\")\n",
    "    ksp.setTolerances(rtol=1e-9)\n",
    "    ksp.getPC().setType(\"fieldsplit\")\n",
    "    ksp.getPC().setFieldSplitType(PETSc.PC.CompositeType.ADDITIVE)\n",
    "\n",
    "    # Define the matrix blocks in the preconditioner with the velocity and\n",
    "    # pressure matrix index sets\n",
    "    nested_IS = P.getNestISs()\n",
    "    ksp.getPC().setFieldSplitIS(\n",
    "        (\"u\", nested_IS[0][0]),\n",
    "        (\"p\", nested_IS[0][1]))\n",
    "\n",
    "    # Set the preconditioners for each block\n",
    "    ksp_u, ksp_p = ksp.getPC().getFieldSplitSubKSP()\n",
    "    ksp_u.setType(\"preonly\")\n",
    "    ksp_u.getPC().setType(\"gamg\")\n",
    "    ksp_p.setType(\"preonly\")\n",
    "    ksp_p.getPC().setType(\"jacobi\")\n",
    "\n",
    "    # Monitor the convergence of the KSP\n",
    "    ksp.setFromOptions()\n",
    "    # Compute the solution\n",
    "    u = fem.Function(V)\n",
    "    p = fem.Function(Q)\n",
    "    x = PETSc.Vec().createNest([_cpp.la.petsc.create_vector_wrap(u.x), _cpp.la.petsc.create_vector_wrap(p.x)])\n",
    "    ksp.solve(b, x)\n",
    "    u.x.scatter_forward()\n",
    "    p.x.scatter_forward()\n",
    "\n",
    "    error = u - u_soln\n",
    "    velocity_error = domain.comm.allreduce(\n",
    "        fem.assemble.assemble_scalar(\n",
    "            fem.form(ufl.inner(error, error) * ufl.dx + ufl.inner(ufl.grad(error), ufl.grad(error)) * ufl.dx)) ** 0.5,\n",
    "            # fem.form(ufl.inner(error, error) * ufl.dx)) ** 0.5,\n",
    "        op=MPI.SUM)\n",
    "    \n",
    "    # TODO\n",
    "    from random import random\n",
    "    pressure_error = random()\n",
    "    \n",
    "    return velocity_error, pressure_error"
   ]
  },
  {
   "cell_type": "markdown",
   "id": "83195fb8",
   "metadata": {
    "slideshow": {
     "slide_type": "notes"
    },
    "tags": []
   },
   "source": [
    "TODO: some text here"
   ]
  },
  {
   "cell_type": "code",
   "execution_count": 3,
   "id": "9e553442",
   "metadata": {},
   "outputs": [],
   "source": [
    "def compute_errors(element, nmeshes=5):\n",
    "    N0 = 10\n",
    "    hs = []\n",
    "    velocity_errors = []\n",
    "    pressure_errors = []\n",
    "    for k in range(nmeshes):\n",
    "        N = N0 * 2 ** k\n",
    "        hs.append(1./N)\n",
    "        domain = mesh.create_rectangle(\n",
    "            MPI.COMM_WORLD, [np.array([0, 0]), np.array([1, 1])],\n",
    "            [N, N], mesh.CellType.triangle, mesh.GhostMode.none)\n",
    "        e1, e2 = solve_stokes(element, domain)\n",
    "        velocity_errors.append(e1)\n",
    "        pressure_errors.append(e2)\n",
    "    return hs, velocity_errors, pressure_errors"
   ]
  },
  {
   "cell_type": "markdown",
   "id": "496d0c50",
   "metadata": {
    "slideshow": {
     "slide_type": "subslide"
    },
    "tags": []
   },
   "source": [
    "## The elements"
   ]
  },
  {
   "cell_type": "markdown",
   "id": "9ceb9ba8",
   "metadata": {
    "lines_to_next_cell": 0,
    "tags": []
   },
   "source": [
    "We now use the Stokes solver we have defined to experiment with a range of element pairs that can be used. First, we define a function that takes an element as input and plots a graph showing the error as $h$ is decreased."
   ]
  },
  {
   "cell_type": "code",
   "execution_count": 4,
   "id": "c7cec1b6",
   "metadata": {
    "lines_to_next_cell": 0
   },
   "outputs": [],
   "source": [
    "%matplotlib inline\n",
    "\n",
    "def error_plot(element, convergence=None, nmeshes=5):\n",
    "    hs, v_errors, p_errors = compute_errors(element, nmeshes)\n",
    "\n",
    "    legend = []\n",
    "    if convergence is not None:\n",
    "        y_value = v_errors[-1] * 1.4\n",
    "        plt.plot([hs[0], hs[-1]], [y_value * (hs[0] / hs[-1])**convergence, y_value], \"k--\")\n",
    "        legend.append(f\"order {convergence}\")\n",
    "    plt.plot(hs, v_errors, \"bo-\")\n",
    "    # plt.plot(hs, p_errors, \"ro-\")\n",
    "    legend += [\"velocity\", \"pressure\"]\n",
    "    plt.legend(legend)\n",
    "    plt.xscale(\"log\")\n",
    "    plt.yscale(\"log\")\n",
    "    plt.axis(\"equal\")\n",
    "    plt.ylabel(\"Error in energy norm\")\n",
    "    plt.xlabel(\"$h$\")\n",
    "    plt.xlim(plt.xlim()[::-1])"
   ]
  },
  {
   "cell_type": "markdown",
   "id": "babc54a3-8d6c-4d6c-9ec0-6074bc69a727",
   "metadata": {
    "tags": []
   },
   "source": [
    "## Piecewise constant pressure spaces"
   ]
  },
  {
   "cell_type": "markdown",
   "id": "40fa980e-4da9-4e95-8e0f-0c252dc5efc1",
   "metadata": {},
   "source": [
    "For our first element, we pair piecewise linear elements with piecewise constants.\n",
    "\n",
    "<img src='./img/element-Lagrange-triangle-1-dofs-large.png' style='width:100px' /><img src='./img/element-Lagrange-triangle-0-dofs-large.png' style='width:100px' />\n",
    "\n",
    "Using these elements, we do not converge to the solution."
   ]
  },
  {
   "cell_type": "code",
   "execution_count": null,
   "id": "08bd17f6-08ef-45d4-93c9-81a2a2ba93bb",
   "metadata": {},
   "outputs": [],
   "source": [
    "element = ufl.MixedElement(\n",
    "    ufl.VectorElement(\"Lagrange\", \"triangle\", 1),\n",
    "    ufl.FiniteElement(\"DG\", \"triangle\", 0))\n",
    "\n",
    "error_plot(element)"
   ]
  },
  {
   "cell_type": "markdown",
   "id": "58f779db-4310-47a1-a244-bbb754ac3c98",
   "metadata": {},
   "source": [
    "One way to obtain convergence with a piecewise constant pressure space is to use a piecewise quadratic space for the velocity (Fortin, 1972).\n",
    "\n",
    "<img src='./img/element-Lagrange-triangle-2-dofs-large.png' style='width:100px' /><img src='./img/element-Lagrange-triangle-0-dofs-large.png' style='width:100px' />"
   ]
  },
  {
   "cell_type": "code",
   "execution_count": null,
   "id": "e0f4fa3b",
   "metadata": {
    "lines_to_next_cell": 2
   },
   "outputs": [],
   "source": [
    "element = ufl.MixedElement(\n",
    "    ufl.VectorElement(\"Lagrange\", \"triangle\", 2),\n",
    "    ufl.FiniteElement(\"DG\", \"triangle\", 0))\n",
    "\n",
    "error_plot(element, 1)"
   ]
  },
  {
   "cell_type": "markdown",
   "id": "a8c698b7-16dc-4a3b-8d0c-75b399d40867",
   "metadata": {},
   "source": [
    "Alternatively, the same order convergence can be achieved using fewer degrees of freedom if a Crouzeix-Raviart element is used for the velocity space (Crouziex, Raviart, 1973).\n",
    "\n",
    "<img src='./img/element-Crouzeix-Raviart-triangle-1-dofs-large.png' style='width:100px' /><img src='./img/element-Lagrange-triangle-0-dofs-large.png' style='width:100px' />"
   ]
  },
  {
   "cell_type": "code",
   "execution_count": null,
   "id": "e6636e21-90ce-4a01-8960-f41fa6328b66",
   "metadata": {},
   "outputs": [],
   "source": [
    "element = ufl.MixedElement(\n",
    "    ufl.VectorElement(\"CR\", \"triangle\", 1),\n",
    "    ufl.FiniteElement(\"DG\", \"triangle\", 0))\n",
    "\n",
    "error_plot(element, 1)"
   ]
  },
  {
   "cell_type": "markdown",
   "id": "28307a71-0baa-4f3d-8b07-3d3a83c09ba2",
   "metadata": {
    "tags": []
   },
   "source": [
    "## Piecewise linear pressure space"
   ]
  },
  {
   "cell_type": "markdown",
   "id": "4f2a6d0e-e722-44fb-8682-97bee8addb9c",
   "metadata": {},
   "source": [
    "When using a piecewise linear pressure space, we could again try using a velocity space one degree higher, but we would again observe that there is no convergence. In order to achieve convergence, we can augment the quadratic space with a cubic bubble function on the triangle (Crouziex, Falk, 1988).\n",
    "\n",
    "<img src='./img/element-bubble-enriched-Lagrange-triangle-2-dofs-large.png' style='width:100px' /><img src='./img/element-Lagrange-triangle-1-dofs-large.png' style='width:100px' />"
   ]
  },
  {
   "cell_type": "code",
   "execution_count": null,
   "id": "ae296215-3c42-44a1-8c02-46c41cb3c8b4",
   "metadata": {},
   "outputs": [],
   "source": [
    "element = ufl.MixedElement(\n",
    "    ufl.VectorElement(ufl.EnrichedElement(\n",
    "        ufl.FiniteElement(\"Lagrange\", \"triangle\", 2),\n",
    "        ufl.FiniteElement(\"Bubble\", \"triangle\", 3))),\n",
    "    ufl.FiniteElement(\"DG\", \"triangle\", 1))\n",
    "\n",
    "error_plot(element, 2)"
   ]
  },
  {
   "cell_type": "markdown",
   "id": "b77b4fde-cae2-406d-82f0-490a0679d283",
   "metadata": {},
   "source": [
    "## Piecewise quadratic pressure space"
   ]
  },
  {
   "cell_type": "markdown",
   "id": "9f385dd1-90f8-415c-b40d-6504fb339b74",
   "metadata": {},
   "source": [
    "When using a piecewise quadratic space, we can use a cubic velocity space augmented with quartic bubbles (Crouzeix, Falk, 1988).\n",
    "\n",
    "<img src='./img/element-bubble-enriched-Lagrange-triangle-3-dofs-large.png' style='width:100px' /><img src='./img/element-Lagrange-triangle-2-dofs-large.png' style='width:100px' />\n",
    "\n",
    "We have to define this velocity element as a custom element (it cannot be created as an enriched element, as the basis functions of degree 3 Lagrange and degree 4 bubbles are not linearly independent). More examples of how custom elements can be created can be found [in the Basix documentation](https://docs.fenicsproject.org/basix/v0.5.0/python/demo/demo_custom_element.py.html)."
   ]
  },
  {
   "cell_type": "markdown",
   "id": "1d9d098f-5850-469b-b0c0-e98d2f63efef",
   "metadata": {},
   "source": [
    "### Defining the polynomial space\n",
    "\n",
    "When creating a custom element, we must input the coefficients that define a basis of the set of polynomials that our element spans. In this example, we will represent the 9 functions in our space in terms of the 10 orthonormal polynomials of degree $\\leqslant3$ on a quadrilateral, so we create a 9 by 10 matrix.\n",
    "\n",
    "A polynomial $f$ on the triangle can be written as\n",
    "$$f(x,y)=\\sum_i\\left(\\int_0^1\\int_0^{1-y}f(x, y)q_i(x, y) \\,\\mathrm{d}x\\,\\mathrm{d}y\\right)q_i(x,y),$$\n",
    "where $q_0$, $q_1$, ... are the orthonormal polynomials. The entries of our coefficient matrix are these integrals."
   ]
  },
  {
   "cell_type": "code",
   "execution_count": null,
   "id": "d029cc7f-2a42-462f-9b6d-7a027bf443d3",
   "metadata": {},
   "outputs": [],
   "source": [
    "wcoeffs = np.zeros((12, 15))\n",
    "pts, wts = basix.make_quadrature(basix.CellType.triangle, 8)\n",
    "poly = basix.tabulate_polynomials(basix.PolynomialType.legendre, basix.CellType.triangle, 4, pts)\n",
    "x = pts[:, 0]\n",
    "y = pts[:, 1]\n",
    "for j, f in enumerate([\n",
    "    1, x, y, x**2*y, x*y**2, (1-x-y)**2*y, (1-x-y)*y**2, x**2*(1-x-y), x*(1-x-y)**2,\n",
    "    x*y*(1-x-y), x**2*y*(1-x-y), x*y**2*(1-x-y)\n",
    "]):\n",
    "    for i in range(15):\n",
    "        wcoeffs[j, i] = sum(f * poly[i, :] * wts)"
   ]
  },
  {
   "cell_type": "markdown",
   "id": "69675eec-1c56-44b4-a609-53e68c76c451",
   "metadata": {},
   "source": [
    "### Interpolation\n",
    "\n",
    "Next, we compute the points and matrices that define how functions can be interpolated into this space. For this element, all the DOFs are point evaluations, so we create lists of these points and (reshaped) identity matrices."
   ]
  },
  {
   "cell_type": "code",
   "execution_count": null,
   "id": "0b648d50-86e8-4c22-922d-4530fd19b7fc",
   "metadata": {},
   "outputs": [],
   "source": [
    "x = [[], [], [], []]\n",
    "x[0].append(np.array([[0.0, 0.0]]))\n",
    "x[0].append(np.array([[1.0, 0.0]]))\n",
    "x[0].append(np.array([[0.0, 1.0]]))\n",
    "x[1].append(np.array([[2 / 3, 1 / 3], [1 / 3, 2 / 3]]))\n",
    "x[1].append(np.array([[0.0, 1 / 3], [0.0, 2 / 3]]))\n",
    "x[1].append(np.array([[1 / 3, 0.0], [2 / 3, 0.0]]))\n",
    "x[2].append(np.array([[1 / 4, 1 / 4], [1 / 2, 1 / 4], [1 / 4, 1 / 2]]))\n",
    "\n",
    "M = [[], [], [], []]\n",
    "for _ in range(3):\n",
    "    M[0].append(np.array([[[[1.]]]]))\n",
    "for _ in range(3):\n",
    "    M[1].append(np.array([[[[1.], [0.]]], [[[0.], [1.]]]]))\n",
    "M[2].append(np.array([[[[1.], [0.], [0.]]], [[[0.], [1.], [0.]]], [[[0.], [0.], [1.]]]]))"
   ]
  },
  {
   "cell_type": "markdown",
   "id": "afe51512-017b-4ce0-bf48-9053fa0792e3",
   "metadata": {},
   "source": [
    "### Creating the element\n",
    "\n",
    "We now create the element by passing in the information we created above, as well as the cell type, value shape, number of derivatives used by the DOFs, map type, whether the element is discontinuous, the highest degree Lagrange space that is a subspace of the element, and the polynomial degree of the element."
   ]
  },
  {
   "cell_type": "code",
   "execution_count": null,
   "id": "6f2564d0-350c-4b45-a45d-e2d1209f9b22",
   "metadata": {},
   "outputs": [],
   "source": [
    "p3_plus_bubbles = basix.ufl_wrapper.BasixElement(basix.create_custom_element(\n",
    "    basix.CellType.triangle, [], wcoeffs, x, M, 0, basix.MapType.identity, False, 3, 4))\n",
    "element = ufl.MixedElement(ufl.VectorElement(p3_plus_bubbles), ufl.FiniteElement(\"DG\", \"triangle\", 2))\n",
    "\n",
    "error_plot(element, 3, 3)"
   ]
  },
  {
   "cell_type": "markdown",
   "id": "1589e5d3",
   "metadata": {},
   "source": [
    "## References\n",
    "\n",
    "Crouzeix, Michel and Falk, Richard S. Nonconforming finite elements for the Stokes problem, *Mathematics of Computation* 52, 437–456, 1989. [DOI: [10.2307/2008475](https://doi.org/10.2307/2008475)]\n",
    "\n",
    "Crouzeix, Michel and Raviart, Pierre-Arnaud. Conforming and nonconforming finite element methods for solving the stationary Stokes equations, *Revue Française d'Automatique, Informatique et Recherche Opérationnelle* 3, 33–75, 1973. [DOI: [10.1051/m2an/197307R300331](https://doi.org/10.1051/m2an/197307R300331)]\n",
    "\n",
    "Fortin, Michel. Calcul numérique des écoulements des fluides de Bingham et des fluides newtoniens incompressibles par la méthode des éléments finis (PhD thesis), Univ. Paris, 1972.\n",
    "\n",
    "The images of elements used in this example were taken from DefElement:<br />\n",
    "The DefElement contributors. DefElement: an encyclopedia of finite element definitions, 2022, https://defelement.com [Online; accessed: 15-August-2022]."
   ]
  }
 ],
 "metadata": {
  "jupytext": {
   "formats": "ipynb,py:light"
  },
  "kernelspec": {
   "display_name": "Python 3 (ipykernel)",
   "language": "python",
   "name": "python3"
  },
  "language_info": {
   "codemirror_mode": {
    "name": "ipython",
    "version": 3
   },
   "file_extension": ".py",
   "mimetype": "text/x-python",
   "name": "python",
   "nbconvert_exporter": "python",
   "pygments_lexer": "ipython3",
   "version": "3.10.4"
  }
 },
 "nbformat": 4,
 "nbformat_minor": 5
}
