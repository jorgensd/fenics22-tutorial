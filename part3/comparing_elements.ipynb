{
 "cells": [
  {
   "cell_type": "markdown",
   "id": "1ea66286",
   "metadata": {
    "slideshow": {
     "slide_type": "slide"
    },
    "tags": []
   },
   "source": [
    "# Elements for Stokes"
   ]
  },
  {
   "cell_type": "markdown",
   "id": "0ef14012",
   "metadata": {
    "slideshow": {
     "slide_type": "notes"
    },
    "tags": []
   },
   "source": [
    "Hello there!"
   ]
  },
  {
   "cell_type": "markdown",
   "id": "010a1038",
   "metadata": {},
   "source": [
    "Import some stuff"
   ]
  },
  {
   "cell_type": "code",
   "execution_count": 1,
   "id": "54587bdc",
   "metadata": {
    "tags": []
   },
   "outputs": [],
   "source": [
    "from dolfinx import cpp, fem, mesh\n",
    "\n",
    "import ufl\n",
    "import numpy as np\n",
    "from petsc4py import PETSc\n",
    "from mpi4py import MPI\n",
    "import basix\n",
    "import basix.ufl_wrapper\n",
    "\n",
    "import matplotlib.pylab as plt"
   ]
  },
  {
   "cell_type": "markdown",
   "id": "964a6e36",
   "metadata": {
    "slideshow": {
     "slide_type": "fragment"
    },
    "tags": []
   },
   "source": [
    "## Defining a Stokes solver"
   ]
  },
  {
   "cell_type": "markdown",
   "id": "504f1e51",
   "metadata": {
    "slideshow": {
     "slide_type": "notes"
    },
    "tags": []
   },
   "source": [
    "TODO: some text here, probably split this code into multiple cells."
   ]
  },
  {
   "cell_type": "code",
   "execution_count": 2,
   "id": "a4291de5",
   "metadata": {},
   "outputs": [],
   "source": [
    "def u_ex(x):\n",
    "    sinx = ufl.sin(ufl.pi * x[0]) \n",
    "    siny = ufl.sin(ufl.pi * x[1])\n",
    "    cosx = ufl.cos(ufl.pi * x[0])\n",
    "    cosy = ufl.cos(ufl.pi * x[1])\n",
    "    return 2*ufl.pi *sinx * siny * ufl.as_vector((cosy * sinx, - cosx * siny))\n",
    "\n",
    "def p_ex(x):\n",
    "    return ufl.sin(2*ufl.pi*x[0]) * ufl.sin(2*ufl.pi*x[1])\n",
    "\n",
    "def source(x):\n",
    "    u, p = u_ex(x), p_ex(x)\n",
    "    return - ufl.div(ufl.grad(u)) + ufl.grad(p)\n",
    "\n",
    "\n",
    "\n",
    "def solve_stokes(u_element, p_element, domain):\n",
    "    V = fem.FunctionSpace(domain, u_element)\n",
    "    Q = fem.FunctionSpace(domain, p_element)\n",
    "\n",
    "    \n",
    "    # Velocity boundary condition\n",
    "    g = fem.Function(V)\n",
    "    g.x.set(0.0)\n",
    "    tdim = domain.topology.dim\n",
    "    domain.topology.create_connectivity(tdim - 1, tdim)\n",
    "    bdry_facets = mesh.exterior_facet_indices(domain.topology)\n",
    "    dofs = fem.locate_dofs_topological(V, tdim - 1, bdry_facets)\n",
    "    bcv = fem.dirichletbc(g, dofs)\n",
    "\n",
    "    bcs = [bcv]\n",
    "\n",
    "    # Define variational problem\n",
    "    u, p = ufl.TrialFunction(V), ufl.TrialFunction(Q)\n",
    "    v, q = ufl.TestFunction(V), ufl.TestFunction(Q)\n",
    "    x = ufl.SpatialCoordinate(domain)\n",
    "    f = source(x)\n",
    "    a_matrix = [[ufl.inner(ufl.grad(u), ufl.grad(v)) * ufl.dx, ufl.inner(p, ufl.div(v)) * ufl.dx],\n",
    "              [ufl.inner(ufl.div(u), q) * ufl.dx, None]]\n",
    "    a = fem.form(a_matrix)\n",
    "    L = fem.form([ufl.inner(f, v) * ufl.dx,  ufl.inner(fem.Constant(domain, PETSc.ScalarType(0)), q) * ufl.dx])\n",
    "\n",
    "    # We will use a block-diagonal preconditioner to solve this problem:\n",
    "    a_p11 = fem.form(ufl.inner(p, q) * ufl.dx)\n",
    "    a_p = [[a[0][0], None],\n",
    "           [None, a_p11]]\n",
    "\n",
    "    # Assemble LHS matrix and RHS vector\n",
    "    A = fem.petsc.assemble_matrix_nest(a, bcs=bcs)\n",
    "    A.assemble()\n",
    "\n",
    "    # We create a nested matrix `P` to use as the preconditioner. The\n",
    "    # top-left block of `P` is shared with the top-left block of `A`. The\n",
    "    # bottom-right diagonal entry is assembled from the form `a_p11`:\n",
    "\n",
    "    P11 = fem.petsc.assemble_matrix(a_p11, [])\n",
    "    P = PETSc.Mat().createNest([[A.getNestSubMatrix(0, 0), None], [None, P11]])\n",
    "    P.assemble()\n",
    "    b = fem.petsc.assemble_vector_nest(L)\n",
    "    fem.petsc.apply_lifting_nest(b, a, bcs=bcs)\n",
    "\n",
    "    # Sum contributions from ghost entries on the owner\n",
    "    for b_sub in b.getNestSubVecs():\n",
    "        b_sub.ghostUpdate(addv=PETSc.InsertMode.ADD, mode=PETSc.ScatterMode.REVERSE)\n",
    "\n",
    "    # Set Dirichlet boundary condition values in the RHS\n",
    "    bcs0 = fem.bcs_by_block(fem.extract_function_spaces(L), bcs)\n",
    "    fem.petsc.set_bc_nest(b, bcs0)\n",
    "\n",
    "    # Create nullspace vector\n",
    "    null_vec = fem.petsc.create_vector_nest(L)\n",
    "\n",
    "    # Set velocity part to zero and the pressure part to a non-zero constant\n",
    "    null_vecs = null_vec.getNestSubVecs()\n",
    "    null_vecs[0].set(0.0), null_vecs[1].set(1.0)\n",
    "\n",
    "    # Normalize the vector, create a nullspace object, and attach it to the\n",
    "    # matrix\n",
    "    null_vec.normalize()\n",
    "    nsp = PETSc.NullSpace().create(vectors=[null_vec])\n",
    "    assert nsp.test(A)\n",
    "    A.setNullSpace(nsp)\n",
    "  \n",
    "    # Now we create a Krylov Subspace Solver `ksp`. We configure it to use\n",
    "    # the MINRES method, and a block-diagonal preconditioner using PETSc's\n",
    "    # additive fieldsplit type preconditioner:\n",
    "\n",
    "    # +\n",
    "    ksp = PETSc.KSP().create(domain.comm)\n",
    "    ksp.setOperators(A, P)\n",
    "    ksp.setType(\"minres\")\n",
    "    ksp.setTolerances(rtol=1e-9)\n",
    "    ksp.getPC().setType(\"fieldsplit\")\n",
    "    ksp.getPC().setFieldSplitType(PETSc.PC.CompositeType.ADDITIVE)\n",
    "\n",
    "    # Define the matrix blocks in the preconditioner with the velocity and\n",
    "    # pressure matrix index sets\n",
    "    nested_IS = P.getNestISs()\n",
    "    ksp.getPC().setFieldSplitIS(\n",
    "        (\"u\", nested_IS[0][0]),\n",
    "        (\"p\", nested_IS[0][1]))\n",
    "\n",
    "    # Set the preconditioners for each block\n",
    "    ksp_u, ksp_p = ksp.getPC().getFieldSplitSubKSP()\n",
    "    ksp_u.setType(\"preonly\")\n",
    "    ksp_u.getPC().setType(\"gamg\")\n",
    "    ksp_p.setType(\"preonly\")\n",
    "    ksp_p.getPC().setType(\"jacobi\")\n",
    "    ksp.setFromOptions()\n",
    "\n",
    "    # Compute the solution\n",
    "    u = fem.Function(V)\n",
    "    p = fem.Function(Q)\n",
    "    w = PETSc.Vec().createNest([u.vector, p.vector])\n",
    "    ksp.solve(b, w)\n",
    "    assert ksp.getConvergedReason() > 0\n",
    "    u.x.scatter_forward()\n",
    "    p.x.scatter_forward()\n",
    "\n",
    "    # Error computation\n",
    "    error_u = u - u_ex(x)\n",
    "    H1_u = fem.form(ufl.inner(error_u, error_u) * ufl.dx + ufl.inner(ufl.grad(error_u), ufl.grad(error_u)) * ufl.dx)\n",
    "    velocity_error = domain.comm.allreduce(np.sqrt(fem.assemble.assemble_scalar(H1_u)), op = MPI.SUM)\n",
    "    error_p = -p - p_ex(x)\n",
    "\n",
    "    L2_p = fem.form(error_p*error_p*ufl.dx)\n",
    "    pressure_error = domain.comm.allreduce(np.sqrt(fem.assemble.assemble_scalar(L2_p)), op = MPI.SUM)\n",
    "    print( ksp.getConvergedReason(), velocity_error, pressure_error)\n",
    "    return velocity_error, pressure_error"
   ]
  },
  {
   "cell_type": "markdown",
   "id": "83195fb8",
   "metadata": {
    "slideshow": {
     "slide_type": "notes"
    },
    "tags": []
   },
   "source": [
    "TODO: some text here"
   ]
  },
  {
   "cell_type": "code",
   "execution_count": 3,
   "id": "9e553442",
   "metadata": {},
   "outputs": [],
   "source": [
    "def compute_errors(element_u, element_p, nmeshes=5):\n",
    "    N0 = 10\n",
    "    hs = np.zeros(nmeshes)\n",
    "    u_errors = np.zeros(nmeshes)\n",
    "    p_errors = np.zeros(nmeshes)\n",
    "    for i in range(nmeshes):\n",
    "        # This works\n",
    "        # domain = mesh.create_rectangle(\n",
    "        #    MPI.COMM_WORLD, [np.array([0, 0]), np.array([1, 1])],\n",
    "        #    [N0*2**i, N0*2**i], mesh.CellType.triangle, mesh.GhostMode.none)\n",
    "        # This doesn't work\n",
    "        domain = mesh.create_rectangle(\n",
    "            MPI.COMM_WORLD, [np.array([0, 0]), np.array([1, 1])],\n",
    "            [N0, N0], mesh.CellType.triangle, mesh.GhostMode.none)\n",
    "        for j in range(i):\n",
    "            domain.topology.create_entities(1)\n",
    "            domain = mesh.refine(domain)\n",
    "        u_errors[i] , p_errors[i] = solve_stokes(element_u, element_p, domain)\n",
    "        num_local_cells = domain.topology.index_map(domain.topology.dim).size_local\n",
    "        hs[i] = np.max(cpp.mesh.h(domain, domain.topology.dim, np.arange(num_local_cells, dtype=np.int32)))\n",
    "    return hs, u_errors, p_errors"
   ]
  },
  {
   "cell_type": "markdown",
   "id": "496d0c50",
   "metadata": {
    "slideshow": {
     "slide_type": "subslide"
    },
    "tags": []
   },
   "source": [
    "## The elements"
   ]
  },
  {
   "cell_type": "markdown",
   "id": "9ceb9ba8",
   "metadata": {
    "lines_to_next_cell": 0,
    "tags": []
   },
   "source": [
    "We now use the Stokes solver we have defined to experiment with a range of element pairs that can be used. First, we define a function that takes an element as input and plots a graph showing the error as $h$ is decreased."
   ]
  },
  {
   "cell_type": "code",
   "execution_count": 4,
   "id": "c7cec1b6",
   "metadata": {
    "lines_to_next_cell": 0
   },
   "outputs": [],
   "source": [
    "%matplotlib inline\n",
    "\n",
    "def error_plot(element_u, element_p, convergence=None, nmeshes=5):\n",
    "    hs, v_errors, p_errors = compute_errors(element_u, element_p, nmeshes)\n",
    "\n",
    "    legend = []\n",
    "    if convergence is not None:\n",
    "        y_value = 1.2 * v_errors[0]\n",
    "        plt.plot([hs[0], hs[-1]], [y_value, y_value * (hs[-1] / hs[0])**convergence], \"k--\")\n",
    "        legend.append(f\"order {convergence}\")\n",
    "    print(hs, v_errors, p_errors)\n",
    "    plt.plot(hs, v_errors, \"bo-\")\n",
    "    plt.plot(hs, p_errors, \"ro-\")\n",
    "    legend += [\"velocity\", \"pressure\"]\n",
    "    plt.legend(legend)\n",
    "    plt.xscale(\"log\")\n",
    "    plt.yscale(\"log\")\n",
    "    plt.axis(\"equal\")\n",
    "    plt.ylabel(\"Error in energy norm\")\n",
    "    plt.xlabel(\"$h$\")\n",
    "    plt.xlim(plt.xlim()[::-1])"
   ]
  },
  {
   "cell_type": "markdown",
   "id": "babc54a3-8d6c-4d6c-9ec0-6074bc69a727",
   "metadata": {
    "tags": []
   },
   "source": [
    "## Piecewise constant pressure spaces"
   ]
  },
  {
   "cell_type": "markdown",
   "id": "40fa980e-4da9-4e95-8e0f-0c252dc5efc1",
   "metadata": {},
   "source": [
    "For our first element, we pair piecewise linear elements with piecewise constants. Using these elements, we do not converge to the solution."
   ]
  },
  {
   "cell_type": "code",
   "execution_count": 5,
   "id": "08bd17f6-08ef-45d4-93c9-81a2a2ba93bb",
   "metadata": {},
   "outputs": [
    {
     "name": "stdout",
     "output_type": "stream",
     "text": [
      "2 14.089687140544413 116.57847206491417\n",
      "2 2.3931484431608623 11.18167655094235\n",
      "2 1.2838246339784884 12.383961556439877\n",
      "2 0.6163484095528391 10.94745685019369\n",
      "2 0.3768867708515607 11.021846051590966\n",
      "[0.14142136 0.07071068 0.03535534 0.01767767 0.00883883] [14.08968714  2.39314844  1.28382463  0.61634841  0.37688677] [116.57847206  11.18167655  12.38396156  10.94745685  11.02184605]\n"
     ]
    },
    {
     "data": {
      "image/png": "[encoded data removed]",
      "text/plain": [
       "<Figure size 432x288 with 1 Axes>"
      ]
     },
     "metadata": {
      "needs_background": "light"
     },
     "output_type": "display_data"
    }
   ],
   "source": [
    "element_u = ufl.VectorElement(\"Lagrange\", \"triangle\", 1)\n",
    "element_p = ufl.FiniteElement(\"DG\", \"triangle\", 0)\n",
    "error_plot(element_u, element_p)"
   ]
  },
  {
   "cell_type": "markdown",
   "id": "58f779db-4310-47a1-a244-bbb754ac3c98",
   "metadata": {},
   "source": [
    "One way to obtain convergence with a piecewise constant pressure space is to use a piecewise quadratic space for the velocity (Fortin, 1972)."
   ]
  },
  {
   "cell_type": "code",
   "execution_count": 6,
   "id": "e0f4fa3b",
   "metadata": {
    "lines_to_next_cell": 2
   },
   "outputs": [
    {
     "name": "stdout",
     "output_type": "stream",
     "text": [
      "2 0.4121113245474692 0.10432907399812742\n",
      "2 0.11041092611613444 0.054208663558809406\n",
      "2 0.03576411646952679 0.026392117733299462\n",
      "2 0.014429370880784153 0.013116725494011666\n",
      "2 0.006706241388393503 0.006549173343514354\n",
      "[0.14142136 0.07071068 0.03535534 0.01767767 0.00883883] [0.41211132 0.11041093 0.03576412 0.01442937 0.00670624] [0.10432907 0.05420866 0.02639212 0.01311673 0.00654917]\n"
     ]
    },
    {
     "data": {
      "image/png": "[encoded data removed]",
      "text/plain": [
       "<Figure size 432x288 with 1 Axes>"
      ]
     },
     "metadata": {
      "needs_background": "light"
     },
     "output_type": "display_data"
    }
   ],
   "source": [
    "element_u = ufl.VectorElement(\"Lagrange\", \"triangle\", 2)\n",
    "element_p = ufl.FiniteElement(\"DG\", \"triangle\", 0)\n",
    "error_plot(element_u, element_p, 1)"
   ]
  },
  {
   "cell_type": "markdown",
   "id": "a8c698b7-16dc-4a3b-8d0c-75b399d40867",
   "metadata": {},
   "source": [
    "Alternatively, the same order convergence can be achieved using fewer degrees of freedom if a Crouzeix-Raviart element is used for the velocity space (Crouziex, Raviart, 1973)."
   ]
  },
  {
   "cell_type": "code",
   "execution_count": 7,
   "id": "e6636e21-90ce-4a01-8960-f41fa6328b66",
   "metadata": {},
   "outputs": [
    {
     "name": "stdout",
     "output_type": "stream",
     "text": [
      "2 2.940354906253069 0.6586371682910992\n",
      "2 1.4600505335388916 0.4224386316898796\n",
      "2 0.7316635839837614 0.20998765829336496\n",
      "2 0.3657534112771323 0.10591727853501025\n",
      "2 0.1832026057305125 0.05179180183348196\n",
      "[0.14142136 0.07071068 0.03535534 0.01767767 0.00883883] [2.94035491 1.46005053 0.73166358 0.36575341 0.18320261] [0.65863717 0.42243863 0.20998766 0.10591728 0.0517918 ]\n"
     ]
    },
    {
     "data": {
      "image/png": "[encoded data removed]",
      "text/plain": [
       "<Figure size 432x288 with 1 Axes>"
      ]
     },
     "metadata": {
      "needs_background": "light"
     },
     "output_type": "display_data"
    }
   ],
   "source": [
    "element_u = ufl.VectorElement(\"CR\", \"triangle\", 1)\n",
    "element_p = ufl.FiniteElement(\"DG\", \"triangle\", 0)\n",
    "error_plot(element_u, element_p, 1)"
   ]
  },
  {
   "cell_type": "markdown",
   "id": "28307a71-0baa-4f3d-8b07-3d3a83c09ba2",
   "metadata": {
    "tags": []
   },
   "source": [
    "## Piecewise linear pressure space"
   ]
  },
  {
   "cell_type": "markdown",
   "id": "4f2a6d0e-e722-44fb-8682-97bee8addb9c",
   "metadata": {},
   "source": [
    "When using a piecewise linear pressure space, we could again try using a velocity space one degree higher, but we would again observe that there is no convergence. In order to achieve convergence, we can augment the quadratic space with a cubic bubble function on the triangle (Crouziex, Falk, 1988)."
   ]
  },
  {
   "cell_type": "code",
   "execution_count": 8,
   "id": "ae296215-3c42-44a1-8c02-46c41cb3c8b4",
   "metadata": {},
   "outputs": [
    {
     "name": "stdout",
     "output_type": "stream",
     "text": [
      "2 0.6205725749843867 1.0512159620536956\n",
      "2 0.12584501042521545 0.15436648492418786\n",
      "2 0.03238440290627475 0.041730354638162485\n",
      "2 0.008054053845537364 0.01014311914951187\n",
      "2 0.002100854227973997 0.0029168746613385454\n",
      "[0.14142136 0.07071068 0.03535534 0.01767767 0.00883883] [0.62057257 0.12584501 0.0323844  0.00805405 0.00210085] [1.05121596 0.15436648 0.04173035 0.01014312 0.00291687]\n"
     ]
    },
    {
     "data": {
      "image/png": "[encoded data removed]",
      "text/plain": [
       "<Figure size 432x288 with 1 Axes>"
      ]
     },
     "metadata": {
      "needs_background": "light"
     },
     "output_type": "display_data"
    }
   ],
   "source": [
    "element_u = ufl.VectorElement(ufl.FiniteElement(\"Lagrange\", \"triangle\", 2) + ufl.FiniteElement(\"Bubble\", \"triangle\", 3))\n",
    "element_p = ufl.FiniteElement(\"DG\", \"triangle\", 1)\n",
    "error_plot(element_u, element_p, 2)"
   ]
  },
  {
   "cell_type": "markdown",
   "id": "b77b4fde-cae2-406d-82f0-490a0679d283",
   "metadata": {},
   "source": [
    "## Piecewise quadratic pressure space"
   ]
  },
  {
   "cell_type": "markdown",
   "id": "9f385dd1-90f8-415c-b40d-6504fb339b74",
   "metadata": {},
   "source": [
    "When using a piecewise quadratic space, we want to use a cubic velocity space. This cubic space must be augmented with quartic bubble functions. We have to define these bubble functions using a custom element, as the basis functions of a degree 3 Lagrange space and a degree 4 bubble space are not linearly independent: the custom element omits one of the bubbles (Crouzeix, Falk, 1988)."
   ]
  },
  {
   "cell_type": "code",
   "execution_count": 9,
   "id": "6f2564d0-350c-4b45-a45d-e2d1209f9b22",
   "metadata": {},
   "outputs": [
    {
     "name": "stdout",
     "output_type": "stream",
     "text": [
      "2 0.04245118979713626 0.05382399048565006\n",
      "2 6.977748676176273 6.434619803220036\n",
      "2 1.5507990724145944 1.6848917130696455\n",
      "[0.14142136 0.07071068 0.03535534] [0.04245119 6.97774868 1.55079907] [0.05382399 6.4346198  1.68489171]\n"
     ]
    },
    {
     "data": {
      "image/png": "[encoded data removed]",
      "text/plain": [
       "<Figure size 432x288 with 1 Axes>"
      ]
     },
     "metadata": {
      "needs_background": "light"
     },
     "output_type": "display_data"
    }
   ],
   "source": [
    "wcoeffs = np.zeros((9, 10))\n",
    "pts, wts = basix.make_quadrature(basix.CellType.triangle, 6)\n",
    "poly = basix.tabulate_polynomials(basix.PolynomialType.legendre, basix.CellType.triangle, 3, pts)\n",
    "x = pts[:, 0]\n",
    "y = pts[:, 1]\n",
    "f = x * (1 - x) * y * (1 - y)\n",
    "for j, f in enumerate([\n",
    "    1, x, y, x**2*y, x*y**2, (1-x-y)**2*y, (1-x-y)*y**2, x**2*(1-x-y), x*(1-x-y)**2\n",
    "]):\n",
    "    for i in range(10):\n",
    "        wcoeffs[j, i] = sum(f * poly[i, :] * wts)\n",
    "\n",
    "x = [[], [], [], []]\n",
    "x[0].append(np.array([[0.0, 0.0]]))\n",
    "x[0].append(np.array([[1.0, 0.0]]))\n",
    "x[0].append(np.array([[0.0, 1.0]]))\n",
    "x[1].append(np.array([[2 / 3, 1 / 3], [1 / 3, 2 / 3]]))\n",
    "x[1].append(np.array([[0.0, 1 / 3], [0.0, 2 / 3]]))\n",
    "x[1].append(np.array([[1 / 3, 0.0], [2 / 3, 0.0]]))\n",
    "x[2].append(np.zeros((0, 2)))\n",
    "\n",
    "M = [[], [], [], []]\n",
    "for _ in range(3):\n",
    "    M[0].append(np.array([[[[1.]]]]))\n",
    "for _ in range(3):\n",
    "    M[1].append(np.array([[[[1.], [0.]]], [[[0.], [1.]]]]))\n",
    "M[2].append(np.zeros((0, 1, 0, 1)))\n",
    "\n",
    "p3_without_bubble = basix.ufl_wrapper.BasixElement(basix.create_custom_element(\n",
    "    basix.CellType.triangle, [], wcoeffs, x, M, 0, basix.MapType.identity, False, 2, 3))\n",
    "element_u = ufl.VectorElement(ufl.EnrichedElement(p3_without_bubble,ufl.FiniteElement(\"Bubble\", \"triangle\", 4)))\n",
    "element_p = ufl.FiniteElement(\"DG\", \"triangle\", 2)\n",
    "error_plot(element_u, element_p, 3, 3)"
   ]
  },
  {
   "cell_type": "markdown",
   "id": "401912a0-31d6-4a86-86f9-3024bd6a41f5",
   "metadata": {},
   "source": [
    "This last example is converging with the wrong order... (Crouzeix, Falk, 1988)"
   ]
  },
  {
   "cell_type": "code",
   "execution_count": 10,
   "id": "5b2be936-749a-4cf5-a2f1-b576b370f87b",
   "metadata": {},
   "outputs": [
    {
     "name": "stdout",
     "output_type": "stream",
     "text": [
      "2 0.6451270809056044 0.7337816109803574\n",
      "2 9.354760634391466 16.648275617927773\n",
      "2 2.0311680504782483 2.682580744102708\n",
      "[0.14142136 0.07071068 0.03535534] [0.64512708 9.35476063 2.03116805] [ 0.73378161 16.64827562  2.68258074]\n"
     ]
    },
    {
     "data": {
      "image/png": "[encoded data removed]",
      "text/plain": [
       "<Figure size 432x288 with 1 Axes>"
      ]
     },
     "metadata": {
      "needs_background": "light"
     },
     "output_type": "display_data"
    }
   ],
   "source": [
    "wcoeffs = np.eye(10)\n",
    "\n",
    "x = [[], [], [], []]\n",
    "for _ in range(3):\n",
    "    x[0].append(np.zeros((0, 2)))\n",
    "x[1].append(np.array([[1 - i, i] for i in [0.25, 0.5, 0.75]]))\n",
    "x[1].append(np.array([[0.0, i] for i in [0.25, 0.5, 0.75]]))\n",
    "x[1].append(np.array([[i, 0.0] for i in [0.25, 0.5, 0.75]]))\n",
    "x[2].append(np.array([[1 / 3, 1 / 3]]))\n",
    "\n",
    "M = [[], [], [], []]\n",
    "for _ in range(3):\n",
    "    M[0].append(np.zeros((0, 1, 0, 1)))\n",
    "for _ in range(3):\n",
    "    M[1].append(np.array([[[[1.], [0.], [0.]]], [[[0.], [1.], [0.]]], [[[0.], [0.], [1.]]]]))\n",
    "M[2].append(np.array([[[[1.]]]]))\n",
    "\n",
    "crouzeix_falk = basix.ufl_wrapper.BasixElement(basix.create_custom_element(\n",
    "    basix.CellType.triangle, [], wcoeffs, x, M, 0, basix.MapType.identity, False, 3, 3))\n",
    "element_u = ufl.VectorElement(crouzeix_falk)\n",
    "element_p = ufl.FiniteElement(\"DG\", \"triangle\", 2)\n",
    "error_plot(element_u, element_p, 3, 3)"
   ]
  },
  {
   "cell_type": "markdown",
   "id": "1589e5d3",
   "metadata": {},
   "source": [
    "## References\n",
    "\n",
    "Crouzeix, Michel and Falk, Richard S. Nonconforming finite elements for the Stokes problem, *Mathematics of Computation* 52, 437–456, 1989. [DOI: [10.2307/2008475](https://doi.org/10.2307/2008475)]\n",
    "\n",
    "Crouzeix, Michel and Raviart, Pierre-Arnaud. Conforming and nonconforming finite element methods for solving the stationary Stokes equations, *Revue Française d'Automatique, Informatique et Recherche Opérationnelle* 3, 33–75, 1973. [DOI: [10.1051/m2an/197307R300331](https://doi.org/10.1051/m2an/197307R300331)]\n",
    "\n",
    "Fortin, Michel. Calcul numérique des écoulements des fluides de Bingham et des fluides newtoniens incompressibles par la méthode des éléments finis (PhD thesis), Univ. Paris, 1972. "
   ]
  },
  {
   "cell_type": "code",
   "execution_count": null,
   "id": "8fe03988-d766-41ad-b459-b808401e82b7",
   "metadata": {},
   "outputs": [],
   "source": []
  },
  {
   "cell_type": "code",
   "execution_count": null,
   "id": "7d00a983-a0d9-471e-9bec-d65f464eabc5",
   "metadata": {},
   "outputs": [],
   "source": []
  }
 ],
 "metadata": {
  "jupytext": {
   "formats": "ipynb,py:light"
  },
  "kernelspec": {
   "display_name": "Python 3 (ipykernel)",
   "language": "python",
   "name": "python3"
  },
  "language_info": {
   "codemirror_mode": {
    "name": "ipython",
    "version": 3
   },
   "file_extension": ".py",
   "mimetype": "text/x-python",
   "name": "python",
   "nbconvert_exporter": "python",
   "pygments_lexer": "ipython3",
   "version": "3.10.4"
  }
 },
 "nbformat": 4,
 "nbformat_minor": 5
}
