{
 "cells": [
  {
   "cell_type": "markdown",
   "id": "51e6f0eb",
   "metadata": {
    "slideshow": {
     "slide_type": "slide"
    },
    "tags": []
   },
   "source": [
    "# Stokes equation"
   ]
  },
  {
   "cell_type": "markdown",
   "id": "12afe587-a28c-491e-abc0-58b0088a4be7",
   "metadata": {
    "slideshow": {
     "slide_type": "skip"
    },
    "tags": []
   },
   "source": [
    "Authors: J.S. Dokken, M.W. Scroggs, S. Roggendorf"
   ]
  },
  {
   "cell_type": "markdown",
   "id": "120e279b",
   "metadata": {
    "tags": []
   },
   "source": [
    "$$\\begin{align}\n",
    "-\\Delta \\mathbf{u} + \\nabla p &= \\mathbf{f}(x,y) \\quad \\text{in } \\Omega\\\\\n",
    "\\nabla \\cdot \\mathbf{u} &= 0 \\qquad\\quad \\text{in } \\Omega\\\\\n",
    "\\mathbf{u} &= \\mathbf{0}\\qquad\\quad \\text{on } \\partial\\Omega\n",
    "\\end{align}\n",
    "$$\n",
    "In this tutorial you will learn how to:"
   ]
  },
  {
   "cell_type": "markdown",
   "id": "6ad7e66d-a6e9-4670-bb9c-a3d2fddff7cf",
   "metadata": {
    "slideshow": {
     "slide_type": "fragment"
    },
    "tags": []
   },
   "source": [
    "- Create manufactured solutions with UFL\n",
    "- Use block-preconditioners\n",
    "- Use custom finite elements"
   ]
  },
  {
   "cell_type": "markdown",
   "id": "1d0f852b-1099-4f9d-b60a-045a17cbb1c2",
   "metadata": {
    "slideshow": {
     "slide_type": "slide"
    },
    "tags": []
   },
   "source": [
    "## Imports"
   ]
  },
  {
   "cell_type": "markdown",
   "id": "026d6390",
   "metadata": {
    "slideshow": {
     "slide_type": "notes"
    },
    "tags": []
   },
   "source": [
    "We start by importing most of the modules we will use in this tutorial."
   ]
  },
  {
   "cell_type": "code",
   "execution_count": 1,
   "id": "eb7ac5d2",
   "metadata": {
    "tags": []
   },
   "outputs": [],
   "source": [
    "from dolfinx import fem, mesh\n",
    "\n",
    "from mpi4py import MPI\n",
    "from petsc4py import PETSc\n",
    "\n",
    "import basix, basix.ufl_wrapper\n",
    "import matplotlib.pylab as plt\n",
    "import numpy as np"
   ]
  },
  {
   "cell_type": "markdown",
   "id": "56b7f168",
   "metadata": {
    "slideshow": {
     "slide_type": "notes"
    },
    "tags": []
   },
   "source": [
    "However, we pay special attention to `UFL`, the unified form language package, which is used to represent variational forms.\n",
    "As we will dependend on alot of functions from this package, we \n",
    "import the components that we will use in this code explicitly"
   ]
  },
  {
   "cell_type": "code",
   "execution_count": 2,
   "id": "f735fd97-942e-42d9-8886-372210271d3d",
   "metadata": {
    "slideshow": {
     "slide_type": "fragment"
    },
    "tags": []
   },
   "outputs": [],
   "source": [
    "from ufl import (VectorElement, EnrichedElement, FiniteElement,\n",
    "                 SpatialCoordinate, TrialFunction, TestFunction,\n",
    "                 as_vector, cos, sin, inner, div, grad, dx, pi)"
   ]
  },
  {
   "cell_type": "markdown",
   "id": "62b9c8f6-8d86-4757-bb82-d1086adbf5fc",
   "metadata": {
    "slideshow": {
     "slide_type": "slide"
    },
    "tags": []
   },
   "source": [
    "## Defining a manufactured solution"
   ]
  },
  {
   "cell_type": "markdown",
   "id": "340615e7-94c3-4779-bba5-04d99d9ba826",
   "metadata": {
    "slideshow": {
     "slide_type": "notes"
    },
    "tags": []
   },
   "source": [
    "We will use a known analytical solution to the Stokes equations in this tutorial. We define the exact velocity and pressure as the following:"
   ]
  },
  {
   "cell_type": "code",
   "execution_count": 3,
   "id": "db2a77d6-95c7-49d3-b39c-3750b6a7f8e4",
   "metadata": {},
   "outputs": [],
   "source": [
    "def u_ex(x):\n",
    "    sinx = sin(pi * x[0]) \n",
    "    siny = sin(pi * x[1])\n",
    "    cosx = cos(pi * x[0])\n",
    "    cosy = cos(pi * x[1])\n",
    "    c_factor = 2 * pi * sinx * siny\n",
    "    return c_factor * as_vector((cosy * sinx, - cosx * siny))\n",
    "\n",
    "def p_ex(x):\n",
    "    return sin(2 * pi * x[0]) * sin(2 * pi * x[1])"
   ]
  },
  {
   "cell_type": "markdown",
   "id": "c4e4f304-5fca-4860-a40f-ae292242dc7c",
   "metadata": {
    "slideshow": {
     "slide_type": "notes"
    },
    "tags": []
   },
   "source": [
    "Here the input to each function is the coordinates (x,y) of the problem. These will in turn be defined by using `x = ufl.SpatialCoordinate(domain)`.\n",
    "\n",
    "We use the strong formulation of the PDE to compute the source function $\\mathbf{f}$ using UFL operators"
   ]
  },
  {
   "cell_type": "code",
   "execution_count": 4,
   "id": "b53ef52c-7761-48d5-8964-c26b4279b9f7",
   "metadata": {
    "slideshow": {
     "slide_type": "fragment"
    },
    "tags": []
   },
   "outputs": [],
   "source": [
    "def source(x):\n",
    "    u, p = u_ex(x), p_ex(x)\n",
    "    return - div(grad(u)) + grad(p)"
   ]
  },
  {
   "cell_type": "markdown",
   "id": "9e101f42-0048-408d-a460-f3321797d432",
   "metadata": {
    "slideshow": {
     "slide_type": "slide"
    },
    "tags": []
   },
   "source": [
    "## Defining the variational form"
   ]
  },
  {
   "cell_type": "markdown",
   "id": "84d10fa8-adbb-4f2d-90b2-ed1122b98d6a",
   "metadata": {
    "slideshow": {
     "slide_type": "notes"
    },
    "tags": []
   },
   "source": [
    "We will solve the PDE by creating a set of variational forms, one for each component of the problem"
   ]
  },
  {
   "cell_type": "markdown",
   "id": "51df1510-3a4e-4241-9240-7f1710a51597",
   "metadata": {},
   "source": [
    "$$\\begin{align}\n",
    "A w &= b,\\\\\n",
    "\\begin{pmatrix}\n",
    "A_{\\mathbf{u},\\mathbf{u}} & A_{\\mathbf{u},p} \\\\\n",
    "A_{p,\\mathbf{u}} & 0\n",
    "\\end{pmatrix}\n",
    "\\begin{pmatrix} u\\\\ p \\end{pmatrix}\n",
    "&= \\begin{pmatrix}\\mathbf{f}\\\\ 0 \\end{pmatrix}\n",
    "\\end{align}$$"
   ]
  },
  {
   "cell_type": "code",
   "execution_count": 5,
   "id": "b71c05e1-4f5e-489c-98e6-3b8acda98c61",
   "metadata": {
    "slideshow": {
     "slide_type": "fragment"
    },
    "tags": []
   },
   "outputs": [],
   "source": [
    "def create_bilinear_form(V, Q):\n",
    "    u, p = TrialFunction(V), TrialFunction(Q)\n",
    "    v, q = TestFunction(V), TestFunction(Q)\n",
    "    a_uu = inner(grad(u), grad(v)) * dx\n",
    "    a_up = inner(p, div(v)) * dx\n",
    "    a_pu = inner(div(u), q) * dx\n",
    "    return fem.form([[a_uu, a_up], [a_pu, None]])"
   ]
  },
  {
   "cell_type": "code",
   "execution_count": 6,
   "id": "d2708400-9078-420f-ae26-2209b5beb610",
   "metadata": {
    "slideshow": {
     "slide_type": "fragment"
    },
    "tags": []
   },
   "outputs": [],
   "source": [
    "def create_linear_form(V, Q):\n",
    "    v, q = TestFunction(V), TestFunction(Q)\n",
    "    domain = V.mesh\n",
    "    x = SpatialCoordinate(domain)\n",
    "    f = source(x)\n",
    "    return fem.form([inner(f, v) * dx,\n",
    "                     inner(fem.Constant(domain, 0.), q) * dx])"
   ]
  },
  {
   "cell_type": "markdown",
   "id": "63a64795-4ef8-48f5-85a9-f1062d35ef20",
   "metadata": {
    "slideshow": {
     "slide_type": "slide"
    },
    "tags": []
   },
   "source": [
    "## Boundary conditions"
   ]
  },
  {
   "cell_type": "code",
   "execution_count": 19,
   "id": "d9a592d2-d725-4cea-b53a-e433d7379fdc",
   "metadata": {},
   "outputs": [],
   "source": [
    "def create_velocity_bc(V):\n",
    "    domain = V.mesh\n",
    "    g = fem.Constant(domain, [0.,0.])\n",
    "    tdim = domain.topology.dim\n",
    "    domain.topology.create_connectivity(tdim - 1, tdim)\n",
    "    bdry_facets = mesh.exterior_facet_indices(domain.topology)\n",
    "    dofs = fem.locate_dofs_topological(V, tdim - 1, bdry_facets)\n",
    "    return [fem.dirichletbc(g, dofs, V)]"
   ]
  },
  {
   "cell_type": "markdown",
   "id": "a26e672b-4739-4e40-841b-6b09c2bb26c2",
   "metadata": {
    "slideshow": {
     "slide_type": "notes"
    },
    "tags": []
   },
   "source": [
    "In the problem description above, we have only added a boundary condition for the velocity.\n",
    "This means that the problem is singular, i.e. the pressure is only determined up to a constant. We therefore create a PETSc nullspace operator for the pressure."
   ]
  },
  {
   "cell_type": "code",
   "execution_count": 20,
   "id": "3a71da5c-9500-4a1a-b55c-669bb9a14f04",
   "metadata": {
    "slideshow": {
     "slide_type": "fragment"
    },
    "tags": []
   },
   "outputs": [],
   "source": [
    "def create_nullspace(lhs_form, rhs_form):\n",
    "    null_vec = fem.petsc.create_vector_nest(rhs_form)\n",
    "    null_vecs = null_vec.getNestSubVecs()\n",
    "    null_vecs[0].set(0.0)\n",
    "    null_vecs[1].set(1.0)\n",
    "    null_vec.normalize()\n",
    "    nsp = PETSc.NullSpace().create(vectors=[null_vec])\n",
    "    return nsp"
   ]
  },
  {
   "cell_type": "markdown",
   "id": "59ca9b22-0867-4846-ae05-cbb7925bc430",
   "metadata": {
    "slideshow": {
     "slide_type": "slide"
    },
    "tags": []
   },
   "source": [
    "## Create a block preconditioner"
   ]
  },
  {
   "cell_type": "markdown",
   "id": "60b998bd-b6d9-420a-bc6b-53c5bd5ca146",
   "metadata": {
    "slideshow": {
     "slide_type": "notes"
    },
    "tags": []
   },
   "source": [
    "We create a nested matrix `P` to use as the preconditioner.\n",
    "The top-left block of `P` is the top-left block of `A`. \n",
    "The bottom-right diagonal entry is a mass matrix."
   ]
  },
  {
   "cell_type": "code",
   "execution_count": 21,
   "id": "08769ee5-fb56-4260-a958-326164f31d31",
   "metadata": {},
   "outputs": [],
   "source": [
    "def create_preconditioner(Q, a_uu):\n",
    "    p, q = TrialFunction(Q), TestFunction(Q)\n",
    "    a_p11 = fem.form(inner(p, q) * dx)\n",
    "    a_p = fem.form([[a_uu, None],\n",
    "                    [None, a_p11]])\n",
    "    P = fem.petsc.assemble_matrix_nest(a_p)\n",
    "    P.assemble()\n",
    "    return P"
   ]
  },
  {
   "cell_type": "code",
   "execution_count": null,
   "id": "a29fb3b0-f7ec-4e96-94eb-bda28adebd2c",
   "metadata": {},
   "outputs": [],
   "source": []
  },
  {
   "cell_type": "code",
   "execution_count": 26,
   "id": "12d85f47",
   "metadata": {},
   "outputs": [],
   "source": [
    "\n",
    "\n",
    "\n",
    "def assemble_scalar(J, comm: MPI.Comm):\n",
    "    scalar_form = fem.form(J)\n",
    "    local_J = fem.assemble_scalar(scalar_form)\n",
    "    return comm.allreduce(local_J, op=MPI.SUM)\n",
    "\n",
    "\n",
    "def solve_stokes(u_element, p_element, domain):\n",
    "    V = fem.FunctionSpace(domain, u_element)\n",
    "    Q = fem.FunctionSpace(domain, p_element)\n",
    "    \n",
    "    lhs_form = create_bilinear_form(V, Q)\n",
    "    rhs_form = create_linear_form(V, Q)\n",
    "    \n",
    "    bcs = create_velocity_bc(V)\n",
    "    nsp = create_nullspace(lhs_form, rhs_form)\n",
    "    \n",
    "    A = fem.petsc.assemble_matrix_nest(lhs_form, bcs=bcs)\n",
    "    A.assemble()\n",
    "    assert nsp.test(A)\n",
    "    A.setNullSpace(nsp)\n",
    "    \n",
    "    P = create_preconditioner(Q, lhs_form[0][0])\n",
    "    \n",
    "    # Assemble rhs and create boundary conditions\n",
    "    b = fem.petsc.assemble_vector_nest(rhs_form)\n",
    "    fem.petsc.apply_lifting_nest(b, lhs_form, bcs=bcs)\n",
    "    for b_sub in b.getNestSubVecs():\n",
    "        b_sub.ghostUpdate(addv=PETSc.InsertMode.ADD, mode=PETSc.ScatterMode.REVERSE)\n",
    "    bcs0 = fem.bcs_by_block(fem.extract_function_spaces(rhs_form), bcs)\n",
    "    fem.petsc.set_bc_nest(b, bcs0)\n",
    "    \n",
    "    from IPython import embed;embed()\n",
    "    # Now we create a Krylov Subspace Solver `ksp`. We configure it to use\n",
    "    # the MINRES method, and a block-diagonal preconditioner using PETSc's\n",
    "    # additive fieldsplit type preconditioner:\n",
    "\n",
    "    # +\n",
    "    ksp = PETSc.KSP().create(domain.comm)\n",
    "    ksp.setOperators(A, P)\n",
    "    ksp.setType(\"minres\")\n",
    "    ksp.setTolerances(rtol=1e-9)\n",
    "    ksp.getPC().setType(\"fieldsplit\")\n",
    "    ksp.getPC().setFieldSplitType(PETSc.PC.CompositeType.ADDITIVE)\n",
    "\n",
    "    # Define the matrix blocks in the preconditioner with the velocity and\n",
    "    # pressure matrix index sets\n",
    "    nested_IS = P.getNestISs()\n",
    "    ksp.getPC().setFieldSplitIS(\n",
    "        (\"u\", nested_IS[0][0]),\n",
    "        (\"p\", nested_IS[0][1]))\n",
    "\n",
    "    # Set the preconditioners for each block\n",
    "    ksp_u, ksp_p = ksp.getPC().getFieldSplitSubKSP()\n",
    "    ksp_u.setType(\"preonly\")\n",
    "    ksp_u.getPC().setType(\"gamg\")\n",
    "    ksp_p.setType(\"preonly\")\n",
    "    ksp_p.getPC().setType(\"jacobi\")\n",
    "    ksp.setFromOptions()\n",
    "\n",
    "    # Compute the solution\n",
    "    u = fem.Function(V)\n",
    "    p = fem.Function(Q)\n",
    "    w = PETSc.Vec().createNest([u.vector, p.vector])\n",
    "    ksp.solve(b, w)\n",
    "    print( ksp.getConvergedReason())\n",
    "    assert ksp.getConvergedReason() > 0\n",
    "    u.x.scatter_forward()\n",
    "    p.x.scatter_forward()\n",
    "\n",
    "    # Error computation\n",
    "    error_u = u - u_ex(x)\n",
    "    H1_u = inner(error_u, error_u) * dx + inner(grad(error_u), grad(error_u)) * dx\n",
    "    velocity_error = np.sqrt(assemble_scalar(H1_u, domain.comm))\n",
    "    error_p = -p - p_ex(x)\n",
    "    L2_p = fem.form(error_p * error_p * dx)\n",
    "    pressure_error = np.sqrt(assemble_scalar(L2_p, domain.comm))\n",
    "    return velocity_error, pressure_error"
   ]
  },
  {
   "cell_type": "markdown",
   "id": "87eb6098",
   "metadata": {
    "slideshow": {
     "slide_type": "notes"
    },
    "tags": []
   },
   "source": [
    "TODO: some text here"
   ]
  },
  {
   "cell_type": "code",
   "execution_count": 23,
   "id": "52a2704e",
   "metadata": {},
   "outputs": [],
   "source": [
    "def compute_errors(element_u, element_p, refinements=5):\n",
    "    N0 = 7\n",
    "    hs = np.zeros(refinements)\n",
    "    u_errors = np.zeros(refinements)\n",
    "    p_errors = np.zeros(refinements)\n",
    "    comm = MPI.COMM_WORLD\n",
    "    for i in range(refinements):\n",
    "        N = N0 * 2**i\n",
    "        domain = mesh.create_unit_square(comm, N, N, \n",
    "                                         cell_type=mesh.CellType.triangle)\n",
    "        u_errors[i] , p_errors[i] = solve_stokes(element_u, element_p, domain)\n",
    "        hs[i] = 1. / N\n",
    "    return hs, u_errors, p_errors"
   ]
  },
  {
   "cell_type": "markdown",
   "id": "6013d685",
   "metadata": {
    "slideshow": {
     "slide_type": "subslide"
    },
    "tags": []
   },
   "source": [
    "## The elements"
   ]
  },
  {
   "cell_type": "markdown",
   "id": "e325a904",
   "metadata": {
    "lines_to_next_cell": 0,
    "tags": []
   },
   "source": [
    "We now use the Stokes solver we have defined to experiment with a range of element pairs that can be used. First, we define a function that takes an element as input and plots a graph showing the error as $h$ is decreased."
   ]
  },
  {
   "cell_type": "code",
   "execution_count": 24,
   "id": "9ec19416",
   "metadata": {
    "lines_to_next_cell": 0
   },
   "outputs": [],
   "source": [
    "def error_plot(element_u, element_p, convergence=None, nmeshes=5):\n",
    "    hs, v_errors, p_errors = compute_errors(element_u, element_p, nmeshes)\n",
    "\n",
    "    legend = []\n",
    "    if convergence is not None:\n",
    "        y_value = v_errors[-1] * 1.4\n",
    "        plt.plot([hs[0], hs[-1]], [y_value * (hs[0] / hs[-1])**convergence, y_value], \"k--\")\n",
    "        legend.append(f\"order {convergence}\")\n",
    "    print(hs, v_errors, p_errors)\n",
    "    plt.plot(hs, v_errors, \"bo-\")\n",
    "    plt.plot(hs, p_errors, \"ro-\")\n",
    "    legend += [\"velocity\", \"pressure\"]\n",
    "    plt.legend(legend)\n",
    "    plt.xscale(\"log\")\n",
    "    plt.yscale(\"log\")\n",
    "    plt.axis(\"equal\")\n",
    "    plt.ylabel(\"Error in energy norm\")\n",
    "    plt.xlabel(\"$h$\")\n",
    "    plt.xlim(plt.xlim()[::-1])\n",
    "    plt.grid(True)"
   ]
  },
  {
   "cell_type": "markdown",
   "id": "5089c8cf",
   "metadata": {
    "tags": []
   },
   "source": [
    "## Piecewise constant pressure spaces"
   ]
  },
  {
   "cell_type": "markdown",
   "id": "f8de7f59",
   "metadata": {},
   "source": [
    "For our first element, we pair piecewise linear elements with piecewise constants.\n",
    "\n",
    "<img src='./img/element-Lagrange-triangle-1-dofs-large.png' style='width:100px' /><img src='./img/element-Lagrange-triangle-0-dofs-large.png' style='width:100px' />\n",
    "\n",
    "Using these elements, we do not converge to the solution."
   ]
  },
  {
   "cell_type": "code",
   "execution_count": 25,
   "id": "0a7d18cc",
   "metadata": {},
   "outputs": [
    {
     "name": "stdout",
     "output_type": "stream",
     "text": [
      "-3\n"
     ]
    },
    {
     "ename": "AssertionError",
     "evalue": "",
     "output_type": "error",
     "traceback": [
      "\u001b[0;31m---------------------------------------------------------------------------\u001b[0m",
      "\u001b[0;31mAssertionError\u001b[0m                            Traceback (most recent call last)",
      "Input \u001b[0;32mIn [25]\u001b[0m, in \u001b[0;36m<cell line: 3>\u001b[0;34m()\u001b[0m\n\u001b[1;32m      1\u001b[0m element_u \u001b[38;5;241m=\u001b[39m VectorElement(\u001b[38;5;124m\"\u001b[39m\u001b[38;5;124mLagrange\u001b[39m\u001b[38;5;124m\"\u001b[39m, \u001b[38;5;124m\"\u001b[39m\u001b[38;5;124mtriangle\u001b[39m\u001b[38;5;124m\"\u001b[39m, \u001b[38;5;241m1\u001b[39m)\n\u001b[1;32m      2\u001b[0m element_p \u001b[38;5;241m=\u001b[39m FiniteElement(\u001b[38;5;124m\"\u001b[39m\u001b[38;5;124mDG\u001b[39m\u001b[38;5;124m\"\u001b[39m, \u001b[38;5;124m\"\u001b[39m\u001b[38;5;124mtriangle\u001b[39m\u001b[38;5;124m\"\u001b[39m, \u001b[38;5;241m0\u001b[39m)\n\u001b[0;32m----> 3\u001b[0m \u001b[43merror_plot\u001b[49m\u001b[43m(\u001b[49m\u001b[43melement_u\u001b[49m\u001b[43m,\u001b[49m\u001b[43m \u001b[49m\u001b[43melement_p\u001b[49m\u001b[43m)\u001b[49m\n",
      "Input \u001b[0;32mIn [24]\u001b[0m, in \u001b[0;36merror_plot\u001b[0;34m(element_u, element_p, convergence, nmeshes)\u001b[0m\n\u001b[1;32m      1\u001b[0m \u001b[38;5;28;01mdef\u001b[39;00m \u001b[38;5;21merror_plot\u001b[39m(element_u, element_p, convergence\u001b[38;5;241m=\u001b[39m\u001b[38;5;28;01mNone\u001b[39;00m, nmeshes\u001b[38;5;241m=\u001b[39m\u001b[38;5;241m5\u001b[39m):\n\u001b[0;32m----> 2\u001b[0m     hs, v_errors, p_errors \u001b[38;5;241m=\u001b[39m \u001b[43mcompute_errors\u001b[49m\u001b[43m(\u001b[49m\u001b[43melement_u\u001b[49m\u001b[43m,\u001b[49m\u001b[43m \u001b[49m\u001b[43melement_p\u001b[49m\u001b[43m,\u001b[49m\u001b[43m \u001b[49m\u001b[43mnmeshes\u001b[49m\u001b[43m)\u001b[49m\n\u001b[1;32m      4\u001b[0m     legend \u001b[38;5;241m=\u001b[39m []\n\u001b[1;32m      5\u001b[0m     \u001b[38;5;28;01mif\u001b[39;00m convergence \u001b[38;5;129;01mis\u001b[39;00m \u001b[38;5;129;01mnot\u001b[39;00m \u001b[38;5;28;01mNone\u001b[39;00m:\n",
      "Input \u001b[0;32mIn [23]\u001b[0m, in \u001b[0;36mcompute_errors\u001b[0;34m(element_u, element_p, refinements)\u001b[0m\n\u001b[1;32m      8\u001b[0m     N \u001b[38;5;241m=\u001b[39m N0 \u001b[38;5;241m*\u001b[39m \u001b[38;5;241m2\u001b[39m\u001b[38;5;241m*\u001b[39m\u001b[38;5;241m*\u001b[39mi\n\u001b[1;32m      9\u001b[0m     domain \u001b[38;5;241m=\u001b[39m mesh\u001b[38;5;241m.\u001b[39mcreate_unit_square(comm, N, N, \n\u001b[1;32m     10\u001b[0m                                      cell_type\u001b[38;5;241m=\u001b[39mmesh\u001b[38;5;241m.\u001b[39mCellType\u001b[38;5;241m.\u001b[39mtriangle)\n\u001b[0;32m---> 11\u001b[0m     u_errors[i] , p_errors[i] \u001b[38;5;241m=\u001b[39m \u001b[43msolve_stokes\u001b[49m\u001b[43m(\u001b[49m\u001b[43melement_u\u001b[49m\u001b[43m,\u001b[49m\u001b[43m \u001b[49m\u001b[43melement_p\u001b[49m\u001b[43m,\u001b[49m\u001b[43m \u001b[49m\u001b[43mdomain\u001b[49m\u001b[43m)\u001b[49m\n\u001b[1;32m     12\u001b[0m     hs[i] \u001b[38;5;241m=\u001b[39m \u001b[38;5;241m1.\u001b[39m \u001b[38;5;241m/\u001b[39m N\n\u001b[1;32m     13\u001b[0m \u001b[38;5;28;01mreturn\u001b[39;00m hs, u_errors, p_errors\n",
      "Input \u001b[0;32mIn [22]\u001b[0m, in \u001b[0;36msolve_stokes\u001b[0;34m(u_element, p_element, domain)\u001b[0m\n\u001b[1;32m     64\u001b[0m ksp\u001b[38;5;241m.\u001b[39msolve(b, w)\n\u001b[1;32m     65\u001b[0m \u001b[38;5;28mprint\u001b[39m( ksp\u001b[38;5;241m.\u001b[39mgetConvergedReason())\n\u001b[0;32m---> 66\u001b[0m \u001b[38;5;28;01massert\u001b[39;00m ksp\u001b[38;5;241m.\u001b[39mgetConvergedReason() \u001b[38;5;241m>\u001b[39m \u001b[38;5;241m0\u001b[39m\n\u001b[1;32m     67\u001b[0m u\u001b[38;5;241m.\u001b[39mx\u001b[38;5;241m.\u001b[39mscatter_forward()\n\u001b[1;32m     68\u001b[0m p\u001b[38;5;241m.\u001b[39mx\u001b[38;5;241m.\u001b[39mscatter_forward()\n",
      "\u001b[0;31mAssertionError\u001b[0m: "
     ]
    }
   ],
   "source": [
    "element_u = VectorElement(\"Lagrange\", \"triangle\", 1)\n",
    "element_p = FiniteElement(\"DG\", \"triangle\", 0)\n",
    "error_plot(element_u, element_p)"
   ]
  },
  {
   "cell_type": "markdown",
   "id": "afdb0478",
   "metadata": {},
   "source": [
    "One way to obtain convergence with a piecewise constant pressure space is to use a piecewise quadratic space for the velocity (Fortin, 1972).\n",
    "\n",
    "<img src='./img/element-Lagrange-triangle-2-dofs-large.png' style='width:100px' /><img src='./img/element-Lagrange-triangle-0-dofs-large.png' style='width:100px' />"
   ]
  },
  {
   "cell_type": "code",
   "execution_count": null,
   "id": "1bc5a774",
   "metadata": {
    "lines_to_next_cell": 2
   },
   "outputs": [],
   "source": [
    "element_u = VectorElement(\"Lagrange\", \"triangle\", 2)\n",
    "element_p = FiniteElement(\"DG\", \"triangle\", 0)\n",
    "error_plot(element_u, element_p, 1)"
   ]
  },
  {
   "cell_type": "markdown",
   "id": "ede4beca",
   "metadata": {},
   "source": [
    "Alternatively, the same order convergence can be achieved using fewer degrees of freedom if a Crouzeix-Raviart element is used for the velocity space (Crouziex, Raviart, 1973).\n",
    "\n",
    "<img src='./img/element-Crouzeix-Raviart-triangle-1-dofs-large.png' style='width:100px' /><img src='./img/element-Lagrange-triangle-0-dofs-large.png' style='width:100px' />"
   ]
  },
  {
   "cell_type": "code",
   "execution_count": null,
   "id": "7b8e5628",
   "metadata": {},
   "outputs": [],
   "source": [
    "element_u = VectorElement(\"CR\", \"triangle\", 1)\n",
    "element_p = FiniteElement(\"DG\", \"triangle\", 0)\n",
    "error_plot(element_u, element_p, 1)"
   ]
  },
  {
   "cell_type": "markdown",
   "id": "e9b946c3",
   "metadata": {
    "tags": []
   },
   "source": [
    "## Piecewise linear pressure space"
   ]
  },
  {
   "cell_type": "markdown",
   "id": "97b57bb0",
   "metadata": {},
   "source": [
    "When using a piecewise linear pressure space, we could again try using a velocity space one degree higher, but we would again observe that there is no convergence. In order to achieve convergence, we can augment the quadratic space with a cubic bubble function on the triangle (Crouziex, Falk, 1988).\n",
    "\n",
    "<img src='./img/element-bubble-enriched-Lagrange-triangle-2-dofs-large.png' style='width:100px' /><img src='./img/element-Lagrange-triangle-1-dofs-large.png' style='width:100px' />"
   ]
  },
  {
   "cell_type": "code",
   "execution_count": null,
   "id": "090c7af3",
   "metadata": {},
   "outputs": [],
   "source": [
    "enriched_element = FiniteElement(\"Lagrange\", \"triangle\", 2) + FiniteElement(\"Bubble\", \"triangle\", 3)\n",
    "element_u = VectorElement(enriched_element)\n",
    "element_p = FiniteElement(\"DG\", \"triangle\", 1)\n",
    "error_plot(element_u, element_p, 2)"
   ]
  },
  {
   "cell_type": "markdown",
   "id": "c78dee90",
   "metadata": {},
   "source": [
    "## Piecewise quadratic pressure space"
   ]
  },
  {
   "cell_type": "markdown",
   "id": "1a5ab5e1",
   "metadata": {},
   "source": [
    "When using a piecewise quadratic space, we can use a cubic velocity space augmented with quartic bubbles (Crouzeix, Falk, 1988).\n",
    "\n",
    "<img src='./img/element-bubble-enriched-Lagrange-triangle-3-dofs-large.png' style='width:100px' /><img src='./img/element-Lagrange-triangle-2-dofs-large.png' style='width:100px' />\n",
    "\n",
    "We have to define this velocity element as a custom element (it cannot be created as an enriched element, as the basis functions of degree 3 Lagrange and degree 4 bubbles are not linearly independent). More examples of how custom elements can be created can be found [in the Basix documentation](https://docs.fenicsproject.org/basix/v0.5.0/python/demo/demo_custom_element.py.html)."
   ]
  },
  {
   "cell_type": "markdown",
   "id": "08bae35b",
   "metadata": {},
   "source": [
    "### Defining the polynomial space\n",
    "\n",
    "When creating a custom element, we must input the coefficients that define a basis of the set of polynomials that our element spans. In this example, we will represent the 9 functions in our space in terms of the 10 orthonormal polynomials of degree $\\leqslant3$ on a quadrilateral, so we create a 9 by 10 matrix.\n",
    "\n",
    "A polynomial $f$ on the triangle can be written as\n",
    "$$f(x,y)=\\sum_i\\left(\\int_0^1\\int_0^{1-y}f(x, y)q_i(x, y) \\,\\mathrm{d}x\\,\\mathrm{d}y\\right)q_i(x,y),$$\n",
    "where $q_0$, $q_1$, ... are the orthonormal polynomials. The entries of our coefficient matrix are these integrals."
   ]
  },
  {
   "cell_type": "code",
   "execution_count": null,
   "id": "8eb61dbb",
   "metadata": {},
   "outputs": [],
   "source": [
    "wcoeffs = np.zeros((12, 15))\n",
    "pts, wts = basix.make_quadrature(basix.CellType.triangle, 8)\n",
    "poly = basix.tabulate_polynomials(basix.PolynomialType.legendre, basix.CellType.triangle, 4, pts)\n",
    "x = pts[:, 0]\n",
    "y = pts[:, 1]\n",
    "for j, f in enumerate([\n",
    "    1, x, y, x**2*y, x*y**2, (1-x-y)**2*y, (1-x-y)*y**2, x**2*(1-x-y), x*(1-x-y)**2,\n",
    "    x*y*(1-x-y), x**2*y*(1-x-y), x*y**2*(1-x-y)\n",
    "]):\n",
    "    for i in range(15):\n",
    "        wcoeffs[j, i] = sum(f * poly[i, :] * wts)"
   ]
  },
  {
   "cell_type": "markdown",
   "id": "4d73e102",
   "metadata": {},
   "source": [
    "### Interpolation\n",
    "\n",
    "Next, we compute the points and matrices that define how functions can be interpolated into this space. For this element, all the DOFs are point evaluations, so we create lists of these points and (reshaped) identity matrices."
   ]
  },
  {
   "cell_type": "code",
   "execution_count": null,
   "id": "6ad29eb2",
   "metadata": {},
   "outputs": [],
   "source": [
    "x = [[], [], [], []]\n",
    "x[0].append(np.array([[0.0, 0.0]]))\n",
    "x[0].append(np.array([[1.0, 0.0]]))\n",
    "x[0].append(np.array([[0.0, 1.0]]))\n",
    "x[1].append(np.array([[2 / 3, 1 / 3], [1 / 3, 2 / 3]]))\n",
    "x[1].append(np.array([[0.0, 1 / 3], [0.0, 2 / 3]]))\n",
    "x[1].append(np.array([[1 / 3, 0.0], [2 / 3, 0.0]]))\n",
    "x[2].append(np.array([[1 / 4, 1 / 4], [1 / 2, 1 / 4], [1 / 4, 1 / 2]]))\n",
    "\n",
    "M = [[], [], [], []]\n",
    "for _ in range(3):\n",
    "    M[0].append(np.array([[[[1.]]]]))\n",
    "for _ in range(3):\n",
    "    M[1].append(np.array([[[[1.], [0.]]], [[[0.], [1.]]]]))\n",
    "M[2].append(np.array([[[[1.], [0.], [0.]]], [[[0.], [1.], [0.]]], [[[0.], [0.], [1.]]]]))"
   ]
  },
  {
   "cell_type": "markdown",
   "id": "81994537",
   "metadata": {},
   "source": [
    "### Creating the element\n",
    "\n",
    "We now create the element by passing in the information we created above, as well as the cell type, value shape, number of derivatives used by the DOFs, map type, whether the element is discontinuous, the highest degree Lagrange space that is a subspace of the element, and the polynomial degree of the element."
   ]
  },
  {
   "cell_type": "code",
   "execution_count": null,
   "id": "7c9c03cc",
   "metadata": {},
   "outputs": [],
   "source": [
    "p3_plus_bubbles = basix.ufl_wrapper.BasixElement(basix.create_custom_element(\n",
    "    basix.CellType.triangle, [], wcoeffs, x, M, 0, basix.MapType.identity, False, 3, 4))\n",
    "element_u = VectorElement(p3_plus_bubbles)\n",
    "element_p = FiniteElement(\"DG\", \"triangle\", 2)\n",
    "error_plot(element_u, element_p, 3, 4)"
   ]
  },
  {
   "cell_type": "markdown",
   "id": "94450f5a",
   "metadata": {},
   "source": [
    "## References\n",
    "\n",
    "Crouzeix, Michel and Falk, Richard S. Nonconforming finite elements for the Stokes problem, *Mathematics of Computation* 52, 437–456, 1989. [DOI: [10.2307/2008475](https://doi.org/10.2307/2008475)]\n",
    "\n",
    "Crouzeix, Michel and Raviart, Pierre-Arnaud. Conforming and nonconforming finite element methods for solving the stationary Stokes equations, *Revue Française d'Automatique, Informatique et Recherche Opérationnelle* 3, 33–75, 1973. [DOI: [10.1051/m2an/197307R300331](https://doi.org/10.1051/m2an/197307R300331)]\n",
    "\n",
    "Fortin, Michel. Calcul numérique des écoulements des fluides de Bingham et des fluides newtoniens incompressibles par la méthode des éléments finis (PhD thesis), Univ. Paris, 1972.\n",
    "\n",
    "The images of elements used in this example were taken from DefElement:<br />\n",
    "The DefElement contributors. DefElement: an encyclopedia of finite element definitions, 2022, https://defelement.com [Online; accessed: 15-August-2022]."
   ]
  },
  {
   "cell_type": "code",
   "execution_count": null,
   "id": "c8534a58-1513-41a2-91d9-2221adcacfb7",
   "metadata": {},
   "outputs": [],
   "source": []
  }
 ],
 "metadata": {
  "jupytext": {
   "formats": "ipynb,py:light"
  },
  "kernelspec": {
   "display_name": "Python 3 (ipykernel)",
   "language": "python",
   "name": "python3"
  },
  "language_info": {
   "codemirror_mode": {
    "name": "ipython",
    "version": 3
   },
   "file_extension": ".py",
   "mimetype": "text/x-python",
   "name": "python",
   "nbconvert_exporter": "python",
   "pygments_lexer": "ipython3",
   "version": "3.10.4"
  }
 },
 "nbformat": 4,
 "nbformat_minor": 5
}
