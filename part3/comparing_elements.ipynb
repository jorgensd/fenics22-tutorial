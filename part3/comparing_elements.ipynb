{
 "cells": [
  {
   "cell_type": "markdown",
   "id": "51e6f0eb",
   "metadata": {
    "slideshow": {
     "slide_type": "slide"
    },
    "tags": []
   },
   "source": [
    "# Stokes equation"
   ]
  },
  {
   "cell_type": "markdown",
   "id": "12afe587-a28c-491e-abc0-58b0088a4be7",
   "metadata": {
    "slideshow": {
     "slide_type": "skip"
    },
    "tags": []
   },
   "source": [
    "Authors: J.S. Dokken, M.W. Scroggs, S. Roggendorf"
   ]
  },
  {
   "cell_type": "markdown",
   "id": "120e279b",
   "metadata": {
    "tags": []
   },
   "source": [
    "$$\\begin{align}\n",
    "-\\Delta \\mathbf{u} + \\nabla p &= \\mathbf{f}(x,y) \\quad \\text{in } \\Omega\\\\\n",
    "\\nabla \\cdot \\mathbf{u} &= 0 \\qquad\\quad \\text{in } \\Omega\\\\\n",
    "\\mathbf{u} &= \\mathbf{0}\\qquad\\quad \\text{on } \\partial\\Omega\n",
    "\\end{align}\n",
    "$$\n",
    "In this tutorial you will learn how to:"
   ]
  },
  {
   "cell_type": "markdown",
   "id": "6ad7e66d-a6e9-4670-bb9c-a3d2fddff7cf",
   "metadata": {
    "slideshow": {
     "slide_type": "fragment"
    },
    "tags": []
   },
   "source": [
    "- Create manufactured solutions with UFL\n",
    "- Use block-preconditioners\n",
    "- Use custom finite elements"
   ]
  },
  {
   "cell_type": "markdown",
   "id": "1d0f852b-1099-4f9d-b60a-045a17cbb1c2",
   "metadata": {
    "slideshow": {
     "slide_type": "slide"
    },
    "tags": []
   },
   "source": [
    "## Imports"
   ]
  },
  {
   "cell_type": "markdown",
   "id": "026d6390",
   "metadata": {
    "slideshow": {
     "slide_type": "notes"
    },
    "tags": []
   },
   "source": [
    "We start by importing most of the modules we will use in this tutorial."
   ]
  },
  {
   "cell_type": "code",
   "execution_count": 1,
   "id": "eb7ac5d2",
   "metadata": {
    "tags": []
   },
   "outputs": [],
   "source": [
    "from dolfinx import fem, mesh\n",
    "\n",
    "from mpi4py import MPI\n",
    "from petsc4py import PETSc\n",
    "\n",
    "import basix, basix.ufl_wrapper\n",
    "import matplotlib.pylab as plt\n",
    "import numpy as np"
   ]
  },
  {
   "cell_type": "markdown",
   "id": "56b7f168",
   "metadata": {
    "slideshow": {
     "slide_type": "notes"
    },
    "tags": []
   },
   "source": [
    "However, we pay special attention to `UFL`, the unified form language package, which is used to represent variational forms.\n",
    "As we will dependend on alot of functions from this package, we \n",
    "import the components that we will use in this code explicitly"
   ]
  },
  {
   "cell_type": "code",
   "execution_count": 2,
   "id": "f735fd97-942e-42d9-8886-372210271d3d",
   "metadata": {
    "slideshow": {
     "slide_type": "fragment"
    },
    "tags": []
   },
   "outputs": [],
   "source": [
    "from ufl import (VectorElement, EnrichedElement, FiniteElement,\n",
    "                 SpatialCoordinate, TrialFunction, TestFunction,\n",
    "                 as_vector, cos, sin, inner, div, grad, dx, pi)"
   ]
  },
  {
   "cell_type": "markdown",
   "id": "62b9c8f6-8d86-4757-bb82-d1086adbf5fc",
   "metadata": {
    "slideshow": {
     "slide_type": "slide"
    },
    "tags": []
   },
   "source": [
    "## Defining a manufactured solution"
   ]
  },
  {
   "cell_type": "markdown",
   "id": "340615e7-94c3-4779-bba5-04d99d9ba826",
   "metadata": {
    "slideshow": {
     "slide_type": "notes"
    },
    "tags": []
   },
   "source": [
    "We will use a known analytical solution to the Stokes equations in this tutorial. We define the exact velocity and pressure as the following:"
   ]
  },
  {
   "cell_type": "code",
   "execution_count": 3,
   "id": "db2a77d6-95c7-49d3-b39c-3750b6a7f8e4",
   "metadata": {},
   "outputs": [],
   "source": [
    "def u_ex(x):\n",
    "    sinx = sin(pi * x[0]) \n",
    "    siny = sin(pi * x[1])\n",
    "    cosx = cos(pi * x[0])\n",
    "    cosy = cos(pi * x[1])\n",
    "    c_factor = 2 * pi * sinx * siny\n",
    "    return c_factor * as_vector((cosy * sinx, - cosx * siny))\n",
    "\n",
    "def p_ex(x):\n",
    "    return sin(2 * pi * x[0]) * sin(2 * pi * x[1])"
   ]
  },
  {
   "cell_type": "markdown",
   "id": "c4e4f304-5fca-4860-a40f-ae292242dc7c",
   "metadata": {
    "slideshow": {
     "slide_type": "notes"
    },
    "tags": []
   },
   "source": [
    "Here the input to each function is the coordinates (x,y) of the problem. These will in turn be defined by using `x = ufl.SpatialCoordinate(domain)`.\n",
    "\n",
    "We use the strong formulation of the PDE to compute the source function $\\mathbf{f}$ using UFL operators"
   ]
  },
  {
   "cell_type": "code",
   "execution_count": 4,
   "id": "b53ef52c-7761-48d5-8964-c26b4279b9f7",
   "metadata": {
    "slideshow": {
     "slide_type": "fragment"
    },
    "tags": []
   },
   "outputs": [],
   "source": [
    "def source(x):\n",
    "    u, p = u_ex(x), p_ex(x)\n",
    "    return - div(grad(u)) + grad(p)"
   ]
  },
  {
   "cell_type": "markdown",
   "id": "9e101f42-0048-408d-a460-f3321797d432",
   "metadata": {
    "slideshow": {
     "slide_type": "slide"
    },
    "tags": []
   },
   "source": [
    "## Defining the variational form"
   ]
  },
  {
   "cell_type": "markdown",
   "id": "84d10fa8-adbb-4f2d-90b2-ed1122b98d6a",
   "metadata": {
    "slideshow": {
     "slide_type": "notes"
    },
    "tags": []
   },
   "source": [
    "We will solve the PDE by creating a set of variational forms, one for each component of the problem"
   ]
  },
  {
   "cell_type": "markdown",
   "id": "51df1510-3a4e-4241-9240-7f1710a51597",
   "metadata": {},
   "source": [
    "$$\\begin{align}\n",
    "A w &= b,\\\\\n",
    "\\begin{pmatrix}\n",
    "A_{\\mathbf{u},\\mathbf{u}} & A_{\\mathbf{u},p} \\\\\n",
    "A_{p,\\mathbf{u}} & 0\n",
    "\\end{pmatrix}\n",
    "\\begin{pmatrix} u\\\\ p \\end{pmatrix}\n",
    "&= \\begin{pmatrix}\\mathbf{f}\\\\ 0 \\end{pmatrix}\n",
    "\\end{align}$$"
   ]
  },
  {
   "cell_type": "code",
   "execution_count": 5,
   "id": "b71c05e1-4f5e-489c-98e6-3b8acda98c61",
   "metadata": {
    "slideshow": {
     "slide_type": "fragment"
    },
    "tags": []
   },
   "outputs": [],
   "source": [
    "def create_bilinear_form(V, Q):\n",
    "    u, p = TrialFunction(V), TrialFunction(Q)\n",
    "    v, q = TestFunction(V), TestFunction(Q)\n",
    "    a_uu = inner(grad(u), grad(v)) * dx\n",
    "    a_up = inner(p, div(v)) * dx\n",
    "    a_pu = inner(div(u), q) * dx\n",
    "    return fem.form([[a_uu, a_up], [a_pu, None]])"
   ]
  },
  {
   "cell_type": "code",
   "execution_count": 6,
   "id": "d2708400-9078-420f-ae26-2209b5beb610",
   "metadata": {
    "slideshow": {
     "slide_type": "fragment"
    },
    "tags": []
   },
   "outputs": [],
   "source": [
    "def create_linear_form(V, Q):\n",
    "    v, q = TestFunction(V), TestFunction(Q)\n",
    "    domain = V.mesh\n",
    "    x = SpatialCoordinate(domain)\n",
    "    f = source(x)\n",
    "    return fem.form([inner(f, v) * dx,\n",
    "                     inner(fem.Constant(domain, 0.), q) * dx])"
   ]
  },
  {
   "cell_type": "markdown",
   "id": "63a64795-4ef8-48f5-85a9-f1062d35ef20",
   "metadata": {
    "slideshow": {
     "slide_type": "slide"
    },
    "tags": []
   },
   "source": [
    "## Boundary conditions"
   ]
  },
  {
   "cell_type": "code",
   "execution_count": 7,
   "id": "d9a592d2-d725-4cea-b53a-e433d7379fdc",
   "metadata": {},
   "outputs": [],
   "source": [
    "def create_velocity_bc(V):\n",
    "    domain = V.mesh\n",
    "    g = fem.Constant(domain, [0.,0.])\n",
    "    tdim = domain.topology.dim\n",
    "    domain.topology.create_connectivity(tdim - 1, tdim)\n",
    "    bdry_facets = mesh.exterior_facet_indices(domain.topology)\n",
    "    dofs = fem.locate_dofs_topological(V, tdim - 1, bdry_facets)\n",
    "    return [fem.dirichletbc(g, dofs, V)]"
   ]
  },
  {
   "cell_type": "markdown",
   "id": "a26e672b-4739-4e40-841b-6b09c2bb26c2",
   "metadata": {
    "slideshow": {
     "slide_type": "notes"
    },
    "tags": []
   },
   "source": [
    "In the problem description above, we have only added a boundary condition for the velocity.\n",
    "This means that the problem is singular, i.e. the pressure is only determined up to a constant. We therefore create a PETSc nullspace operator for the pressure."
   ]
  },
  {
   "cell_type": "code",
   "execution_count": 8,
   "id": "3a71da5c-9500-4a1a-b55c-669bb9a14f04",
   "metadata": {
    "slideshow": {
     "slide_type": "fragment"
    },
    "tags": []
   },
   "outputs": [],
   "source": [
    "def create_nullspace(rhs_form):\n",
    "    null_vec = fem.petsc.create_vector_nest(rhs_form)\n",
    "    null_vecs = null_vec.getNestSubVecs()\n",
    "    null_vecs[0].set(0.0)\n",
    "    null_vecs[1].set(1.0)\n",
    "    null_vec.normalize()\n",
    "    nsp = PETSc.NullSpace().create(vectors=[null_vec])\n",
    "    return nsp"
   ]
  },
  {
   "cell_type": "markdown",
   "id": "59ca9b22-0867-4846-ae05-cbb7925bc430",
   "metadata": {
    "slideshow": {
     "slide_type": "slide"
    },
    "tags": []
   },
   "source": [
    "## Create a block preconditioner"
   ]
  },
  {
   "cell_type": "markdown",
   "id": "60b998bd-b6d9-420a-bc6b-53c5bd5ca146",
   "metadata": {
    "slideshow": {
     "slide_type": "notes"
    },
    "tags": []
   },
   "source": [
    "We create a nested matrix `P` to use as the preconditioner.\n",
    "The top-left block of `P` is the top-left block of `A`. \n",
    "The bottom-right diagonal entry is a mass matrix."
   ]
  },
  {
   "cell_type": "code",
   "execution_count": 9,
   "id": "08769ee5-fb56-4260-a958-326164f31d31",
   "metadata": {},
   "outputs": [],
   "source": [
    "def create_preconditioner(Q, a, bcs):\n",
    "    p, q = TrialFunction(Q), TestFunction(Q)\n",
    "    a_p11 = fem.form(inner(p, q) * dx)\n",
    "    a_p = fem.form([[a[0][0], None],\n",
    "                    [None, a_p11]])\n",
    "    P = fem.petsc.assemble_matrix_nest(a_p, bcs)\n",
    "    P.assemble()\n",
    "    return P"
   ]
  },
  {
   "cell_type": "markdown",
   "id": "f730e936-1263-401f-8983-0ce0888ddf9d",
   "metadata": {
    "slideshow": {
     "slide_type": "slide"
    },
    "tags": []
   },
   "source": [
    "## Assemble nest system"
   ]
  },
  {
   "cell_type": "code",
   "execution_count": 10,
   "id": "a29fb3b0-f7ec-4e96-94eb-bda28adebd2c",
   "metadata": {},
   "outputs": [],
   "source": [
    "def assemble_system(lhs_form, rhs_form, bcs):\n",
    "    A = fem.petsc.assemble_matrix_nest(lhs_form, bcs=bcs)\n",
    "    A.assemble()\n",
    "    \n",
    "    b = fem.petsc.assemble_vector_nest(rhs_form)\n",
    "    fem.petsc.apply_lifting_nest(b, lhs_form, bcs=bcs)\n",
    "    for b_sub in b.getNestSubVecs():\n",
    "        b_sub.ghostUpdate(addv=PETSc.InsertMode.ADD,\n",
    "                          mode=PETSc.ScatterMode.REVERSE)\n",
    "    spaces = fem.extract_function_spaces(rhs_form)\n",
    "    bcs0 = fem.bcs_by_block(spaces, bcs)\n",
    "    fem.petsc.set_bc_nest(b, bcs0)\n",
    "    return A, b"
   ]
  },
  {
   "cell_type": "markdown",
   "id": "64ae9638-0bc7-4988-bda1-9255bbb5d374",
   "metadata": {
    "slideshow": {
     "slide_type": "slide"
    },
    "tags": []
   },
   "source": [
    "## PETSc Krylov Subspace solver"
   ]
  },
  {
   "cell_type": "markdown",
   "id": "7f4b0865-ebd8-44c1-bf0f-80ce8aa1b26e",
   "metadata": {
    "slideshow": {
     "slide_type": "notes"
    },
    "tags": []
   },
   "source": [
    "In legacy DOLFIN, convenience functions were provided to interact with linear algebra packages such as PETSc.\n",
    "In DOLFINx, we instead rely on supplying the users with the appropriate data types for the backend. Then the user can access all of the features of the backend, not being constrained to the layer added in DOLFIN. One can also leverage the detailed documentation of PETSc. For block systems, see: https://petsc.org/release/docs/manual/ksp/?highlight=matnest#solving-block-matrices"
   ]
  },
  {
   "cell_type": "code",
   "execution_count": 11,
   "id": "6a474fb2-0f70-4d6d-aa55-cfc2402f8110",
   "metadata": {},
   "outputs": [],
   "source": [
    "def create_block_solver(A, b, P, comm):\n",
    "    ksp = PETSc.KSP().create(comm)\n",
    "    ksp.setOperators(A, P)\n",
    "    ksp.setType(\"minres\")\n",
    "    ksp.setTolerances(rtol=1e-9)\n",
    "    ksp.getPC().setType(\"fieldsplit\")\n",
    "    ksp.getPC().setFieldSplitType(PETSc.PC.CompositeType.ADDITIVE)\n",
    "\n",
    "    nested_IS = P.getNestISs()\n",
    "    ksp.getPC().setFieldSplitIS((\"u\", nested_IS[0][0]),\n",
    "                                (\"p\", nested_IS[0][1]))\n",
    "\n",
    "    # Set the preconditioners for each block\n",
    "    ksp_u, ksp_p = ksp.getPC().getFieldSplitSubKSP()\n",
    "    ksp_u.setType(\"preonly\")\n",
    "    ksp_u.getPC().setType(\"gamg\")\n",
    "    ksp_p.setType(\"preonly\")\n",
    "    ksp_p.getPC().setType(\"jacobi\")\n",
    "\n",
    "    # Monitor the convergence of the KSP\n",
    "    ksp.setFromOptions()\n",
    "    return ksp"
   ]
  },
  {
   "cell_type": "markdown",
   "id": "ce65797c-f9d5-4b64-b46d-32c2102f6487",
   "metadata": {
    "slideshow": {
     "slide_type": "slide"
    },
    "tags": []
   },
   "source": [
    "## Compute error estimates"
   ]
  },
  {
   "cell_type": "markdown",
   "id": "b50a0186-9307-44ce-928c-843bbef57de4",
   "metadata": {
    "slideshow": {
     "slide_type": "notes"
    },
    "tags": []
   },
   "source": [
    "In DOLFINx, assembling a scalar value does require any MPI-communication. `dolfinx.fem.petsc.assemble_scalar` will only integrate over the cells owned by the process.\n",
    "It is up to the user to gather the results, which can be gathered on for instance all processes, or a single process for outputting."
   ]
  },
  {
   "cell_type": "code",
   "execution_count": 12,
   "id": "c51b9d07-c380-48fe-8b41-911b93094438",
   "metadata": {},
   "outputs": [],
   "source": [
    "def assemble_scalar(J, comm: MPI.Comm):\n",
    "    scalar_form = fem.form(J)\n",
    "    local_J = fem.assemble_scalar(scalar_form)\n",
    "    return comm.allreduce(local_J, op=MPI.SUM)\n",
    "\n",
    "def compute_errors(u, p):\n",
    "    domain = u.function_space.mesh\n",
    "    x = SpatialCoordinate(domain)\n",
    "    error_u = u - u_ex(x)\n",
    "    H1_u = inner(error_u, error_u) * dx \\\n",
    "         + inner(grad(error_u), grad(error_u)) * dx\n",
    "    velocity_error = np.sqrt(assemble_scalar(H1_u, domain.comm))\n",
    "\n",
    "    error_p = -p - p_ex(x)\n",
    "    L2_p = fem.form(error_p * error_p * dx)\n",
    "    pressure_error = np.sqrt(assemble_scalar(L2_p, domain.comm))\n",
    "    return velocity_error, pressure_error"
   ]
  },
  {
   "cell_type": "markdown",
   "id": "e2a17eaa-fce6-4390-8f57-6ede013f65c4",
   "metadata": {
    "slideshow": {
     "slide_type": "slide"
    },
    "tags": []
   },
   "source": [
    "## Solving the Stokes problem with a block-preconditioner"
   ]
  },
  {
   "cell_type": "code",
   "execution_count": 13,
   "id": "12d85f47",
   "metadata": {},
   "outputs": [],
   "source": [
    "def solve_stokes(u_element, p_element, domain):\n",
    "    V = fem.FunctionSpace(domain, u_element)\n",
    "    Q = fem.FunctionSpace(domain, p_element)\n",
    "    \n",
    "    lhs_form = create_bilinear_form(V, Q)\n",
    "    rhs_form = create_linear_form(V, Q)\n",
    "    \n",
    "    bcs = create_velocity_bc(V)\n",
    "    nsp = create_nullspace(rhs_form)\n",
    "    A, b = assemble_system(lhs_form, rhs_form, bcs)\n",
    "    assert nsp.test(A)\n",
    "    A.setNullSpace(nsp)\n",
    "\n",
    "    P = create_preconditioner(Q, lhs_form, bcs)\n",
    "    ksp = create_block_solver(A, b, P, domain.comm)\n",
    " \n",
    "    u, p = fem.Function(V), fem.Function(Q)\n",
    "    w = PETSc.Vec().createNest([u.vector, p.vector])\n",
    "    ksp.solve(b, w)\n",
    "    assert ksp.getConvergedReason() > 0\n",
    "    u.x.scatter_forward()\n",
    "    p.x.scatter_forward()\n",
    "    return compute_errors(u, p)"
   ]
  },
  {
   "cell_type": "markdown",
   "id": "e325a904",
   "metadata": {
    "lines_to_next_cell": 0,
    "slideshow": {
     "slide_type": "notes"
    },
    "tags": []
   },
   "source": [
    "We now use the Stokes solver we have defined to experiment with a range of element pairs that can be used. First, we define a function that takes an element as input and plots a graph showing the error as $h$ is decreased."
   ]
  },
  {
   "cell_type": "code",
   "execution_count": 14,
   "id": "9ec19416",
   "metadata": {
    "lines_to_next_cell": 0,
    "slideshow": {
     "slide_type": "skip"
    },
    "tags": []
   },
   "outputs": [],
   "source": [
    "def error_plot(element_u, element_p, convergence_u=None,\n",
    "               convergence_p=None, refinements=5, N0=7):\n",
    "    hs = np.zeros(refinements)\n",
    "    u_errors = np.zeros(refinements)\n",
    "    p_errors = np.zeros(refinements)\n",
    "    comm = MPI.COMM_WORLD\n",
    "    for i in range(refinements):\n",
    "        N = N0 * 2**i\n",
    "        domain = mesh.create_unit_square(comm, N, N, \n",
    "                                         cell_type=mesh.CellType.triangle)\n",
    "        u_errors[i] , p_errors[i] = solve_stokes(element_u, element_p, domain)\n",
    "        hs[i] = 1. / N\n",
    "    legend = []\n",
    "    \n",
    "    if convergence_u is not None:\n",
    "        y_value = u_errors[-1] * 1.4\n",
    "        plt.plot([hs[0], hs[-1]], [y_value * (hs[0] / hs[-1])**convergence_u, y_value], \"k--\")\n",
    "        legend.append(f\"order {convergence_u}\")\n",
    "    if convergence_p is not None:\n",
    "        y_value = p_errors[-1] * 1.4\n",
    "        plt.plot([hs[0], hs[-1]], [y_value * (hs[0] / hs[-1])**convergence_p, y_value], \"m--\")\n",
    "        legend.append(f\"order {convergence_p}\")\n",
    "\n",
    "    plt.plot(hs, u_errors, \"bo-\")\n",
    "    plt.plot(hs, p_errors, \"ro-\")\n",
    "    legend += [r\"$H^1(\\mathbf{u_h}-\\mathbf{u}_{ex})$\", r\"$L^2(p_h-p_ex)$\"]\n",
    "    plt.legend(legend)\n",
    "    plt.xscale(\"log\")\n",
    "    plt.yscale(\"log\")\n",
    "    plt.axis(\"equal\")\n",
    "    plt.ylabel(\"Error in energy norm\")\n",
    "    plt.xlabel(\"$h$\")\n",
    "    plt.xlim(plt.xlim()[::-1])\n",
    "    plt.grid(True)"
   ]
  },
  {
   "cell_type": "markdown",
   "id": "5089c8cf",
   "metadata": {
    "slideshow": {
     "slide_type": "slide"
    },
    "tags": []
   },
   "source": [
    "## Piecewise constant pressure spaces"
   ]
  },
  {
   "cell_type": "markdown",
   "id": "859895f1-dfb1-4fbc-be34-f7ec01a65ac8",
   "metadata": {
    "slideshow": {
     "slide_type": "notes"
    },
    "tags": []
   },
   "source": [
    "For our first element, we pair piecewise linear elements with piecewise constants."
   ]
  },
  {
   "cell_type": "markdown",
   "id": "f8de7f59",
   "metadata": {},
   "source": [
    "<img src='./img/element-Lagrange-triangle-1-dofs-large.png' style='width:100px' /><img src='./img/element-Lagrange-triangle-0-dofs-large.png' style='width:100px' />"
   ]
  },
  {
   "cell_type": "markdown",
   "id": "a09fbb43-76c9-454e-be51-2b09b1cf2d3b",
   "metadata": {
    "slideshow": {
     "slide_type": "skip"
    },
    "tags": []
   },
   "source": [
    "Using these elements, we do not converge to the solution."
   ]
  },
  {
   "cell_type": "code",
   "execution_count": 15,
   "id": "0a7d18cc",
   "metadata": {},
   "outputs": [
    {
     "data": {
      "image/png": "[encoded data removed]",
      "text/plain": [
       "<Figure size 432x288 with 1 Axes>"
      ]
     },
     "metadata": {
      "needs_background": "light"
     },
     "output_type": "display_data"
    }
   ],
   "source": [
    "element_u = VectorElement(\"Lagrange\", \"triangle\", 1)\n",
    "element_p = FiniteElement(\"DG\", \"triangle\", 0)\n",
    "error_plot(element_u, element_p)"
   ]
  },
  {
   "cell_type": "markdown",
   "id": "ef29de3f-9102-4241-b52f-f35b62ed82fa",
   "metadata": {
    "slideshow": {
     "slide_type": "slide"
    },
    "tags": []
   },
   "source": [
    "## P2-DG0 (Fortin, 1972)"
   ]
  },
  {
   "cell_type": "markdown",
   "id": "46c61d53-dfda-4e13-8ef4-8cdc59175df6",
   "metadata": {
    "slideshow": {
     "slide_type": "notes"
    },
    "tags": []
   },
   "source": [
    "One way to obtain convergence with a piecewise constant pressure space is to use a piecewise quadratic space for the velocity (Fortin, 1972)."
   ]
  },
  {
   "cell_type": "markdown",
   "id": "afdb0478",
   "metadata": {},
   "source": [
    "<img src='./img/element-Lagrange-triangle-2-dofs-large.png' style='width:100px' /><img src='./img/element-Lagrange-triangle-0-dofs-large.png' style='width:100px' />"
   ]
  },
  {
   "cell_type": "code",
   "execution_count": 16,
   "id": "1bc5a774",
   "metadata": {
    "lines_to_next_cell": 2
   },
   "outputs": [
    {
     "data": {
      "image/png": "[encoded data removed]",
      "text/plain": [
       "<Figure size 432x288 with 1 Axes>"
      ]
     },
     "metadata": {
      "needs_background": "light"
     },
     "output_type": "display_data"
    }
   ],
   "source": [
    "element_u = VectorElement(\"Lagrange\", \"triangle\", 2)\n",
    "element_p = FiniteElement(\"DG\", \"triangle\", 0)\n",
    "error_plot(element_u, element_p, 2, 1)"
   ]
  },
  {
   "cell_type": "markdown",
   "id": "f827d1e3-7ffa-422c-97e9-16eae8c2da55",
   "metadata": {
    "slideshow": {
     "slide_type": "slide"
    },
    "tags": []
   },
   "source": [
    "## Crouzeix-Raviart"
   ]
  },
  {
   "cell_type": "markdown",
   "id": "be88c5c0-43cf-492e-b6c8-2f4ab7689f97",
   "metadata": {
    "slideshow": {
     "slide_type": "notes"
    },
    "tags": []
   },
   "source": [
    "Alternatively, the same order convergence can be achieved using fewer degrees of freedom if a Crouzeix-Raviart element is used for the velocity space (Crouziex, Raviart, 1973)."
   ]
  },
  {
   "cell_type": "markdown",
   "id": "ede4beca",
   "metadata": {},
   "source": [
    "<img src='./img/element-Crouzeix-Raviart-triangle-1-dofs-large.png' style='width:100px' /><img src='./img/element-Lagrange-triangle-0-dofs-large.png' style='width:100px' />"
   ]
  },
  {
   "cell_type": "code",
   "execution_count": 17,
   "id": "7b8e5628",
   "metadata": {},
   "outputs": [
    {
     "data": {
      "image/png": "[encoded data removed]",
      "text/plain": [
       "<Figure size 432x288 with 1 Axes>"
      ]
     },
     "metadata": {
      "needs_background": "light"
     },
     "output_type": "display_data"
    }
   ],
   "source": [
    "element_u = VectorElement(\"CR\", \"triangle\", 1)\n",
    "element_p = FiniteElement(\"DG\", \"triangle\", 0)\n",
    "error_plot(element_u, element_p, 1)"
   ]
  },
  {
   "cell_type": "markdown",
   "id": "e9b946c3",
   "metadata": {
    "slideshow": {
     "slide_type": "slide"
    },
    "tags": []
   },
   "source": [
    "## Piecewise linear pressure space (Crouziex, Falk, 1988)"
   ]
  },
  {
   "cell_type": "markdown",
   "id": "ce167a13-8fcc-468a-bb13-59ae6d2108d8",
   "metadata": {
    "slideshow": {
     "slide_type": "notes"
    },
    "tags": []
   },
   "source": [
    "When using a piecewise linear pressure space, we could again try using a velocity space one degree higher, but we would again observe that there is no convergence. In order to achieve convergence, we can augment the quadratic space with a cubic bubble function on the triangle (Crouziex, Falk, 1988)."
   ]
  },
  {
   "cell_type": "markdown",
   "id": "97b57bb0",
   "metadata": {},
   "source": [
    "<img src='./img/element-bubble-enriched-Lagrange-triangle-2-dofs-large.png' style='width:100px' /><img src='./img/element-Lagrange-triangle-1-dofs-large.png' style='width:100px' />"
   ]
  },
  {
   "cell_type": "code",
   "execution_count": 18,
   "id": "090c7af3",
   "metadata": {},
   "outputs": [
    {
     "data": {
      "image/png": "[encoded data removed]",
      "text/plain": [
       "<Figure size 432x288 with 1 Axes>"
      ]
     },
     "metadata": {
      "needs_background": "light"
     },
     "output_type": "display_data"
    }
   ],
   "source": [
    "enriched_element = FiniteElement(\"Lagrange\", \"triangle\", 2) \\\n",
    "                 + FiniteElement(\"Bubble\", \"triangle\", 3)\n",
    "element_u = VectorElement(enriched_element)\n",
    "element_p = FiniteElement(\"DG\", \"triangle\", 1)\n",
    "error_plot(element_u, element_p, 2)"
   ]
  },
  {
   "cell_type": "markdown",
   "id": "c78dee90",
   "metadata": {
    "slideshow": {
     "slide_type": "slide"
    },
    "tags": []
   },
   "source": [
    "## Piecewise quadratic pressure space (Crouzeix, Falk, 1988)"
   ]
  },
  {
   "cell_type": "markdown",
   "id": "e0acefc6-4f80-482d-a26e-ffc837983793",
   "metadata": {
    "slideshow": {
     "slide_type": "notes"
    },
    "tags": []
   },
   "source": [
    "When using a piecewise quadratic space, we can use a cubic velocity space augmented with quartic bubbles (Crouzeix, Falk, 1988)."
   ]
  },
  {
   "cell_type": "markdown",
   "id": "1a5ab5e1",
   "metadata": {},
   "source": [
    "<img src='./img/element-bubble-enriched-Lagrange-triangle-3-dofs-large.png' style='width:100px' /><img src='./img/element-Lagrange-triangle-2-dofs-large.png' style='width:100px' />"
   ]
  },
  {
   "cell_type": "markdown",
   "id": "0018acce-5def-49ff-9c26-c11d52e7b95f",
   "metadata": {},
   "source": [
    "### Custom elements"
   ]
  },
  {
   "cell_type": "markdown",
   "id": "9b8dec8c-9eb4-4c2f-9cd2-050abffc1d2e",
   "metadata": {
    "slideshow": {
     "slide_type": "notes"
    },
    "tags": []
   },
   "source": [
    "We have to define this velocity element as a custom element (it cannot be created as an enriched element, as the basis functions of degree 3 Lagrange and degree 4 bubbles are not linearly independent). More examples of how custom elements can be created can be found [in the Basix documentation](https://docs.fenicsproject.org/basix/v0.5.0/python/demo/demo_custom_element.py.html)."
   ]
  },
  {
   "cell_type": "markdown",
   "id": "08bae35b",
   "metadata": {
    "slideshow": {
     "slide_type": "notes"
    },
    "tags": []
   },
   "source": [
    "#### Defining the polynomial space\n",
    "\n",
    "When creating a custom element, we must input the coefficients that define a basis of the set of polynomials that our element spans. In this example, we will represent the 9 functions in our space in terms of the 10 orthonormal polynomials of degree $\\leqslant3$ on a quadrilateral, so we create a 9 by 10 matrix.\n",
    "\n",
    "A polynomial $f$ on the triangle can be written as\n",
    "$$f(x,y)=\\sum_i\\left(\\int_0^1\\int_0^{1-y}f(x, y)q_i(x, y) \\,\\mathrm{d}x\\,\\mathrm{d}y\\right)q_i(x,y),$$\n",
    "where $q_0$, $q_1$, ... are the orthonormal polynomials. The entries of our coefficient matrix are these integrals."
   ]
  },
  {
   "cell_type": "code",
   "execution_count": 19,
   "id": "8eb61dbb",
   "metadata": {
    "slideshow": {
     "slide_type": "notes"
    },
    "tags": []
   },
   "outputs": [],
   "source": [
    "wcoeffs = np.zeros((12, 15))\n",
    "pts, wts = basix.make_quadrature(basix.CellType.triangle, 8)\n",
    "poly = basix.tabulate_polynomials(basix.PolynomialType.legendre, basix.CellType.triangle, 4, pts)\n",
    "x = pts[:, 0]\n",
    "y = pts[:, 1]\n",
    "for j, f in enumerate([\n",
    "    1, x, y, x**2*y, x*y**2, (1-x-y)**2*y, (1-x-y)*y**2, x**2*(1-x-y), x*(1-x-y)**2,\n",
    "    x*y*(1-x-y), x**2*y*(1-x-y), x*y**2*(1-x-y)\n",
    "]):\n",
    "    for i in range(15):\n",
    "        wcoeffs[j, i] = sum(f * poly[i, :] * wts)"
   ]
  },
  {
   "cell_type": "markdown",
   "id": "4d73e102",
   "metadata": {
    "slideshow": {
     "slide_type": "notes"
    },
    "tags": []
   },
   "source": [
    "#### Interpolation\n",
    "\n",
    "Next, we compute the points and matrices that define how functions can be interpolated into this space. For this element, all the DOFs are point evaluations, so we create lists of these points and (reshaped) identity matrices."
   ]
  },
  {
   "cell_type": "code",
   "execution_count": 20,
   "id": "6ad29eb2",
   "metadata": {
    "slideshow": {
     "slide_type": "notes"
    },
    "tags": []
   },
   "outputs": [],
   "source": [
    "x = [[], [], [], []]\n",
    "x[0].append(np.array([[0.0, 0.0]]))\n",
    "x[0].append(np.array([[1.0, 0.0]]))\n",
    "x[0].append(np.array([[0.0, 1.0]]))\n",
    "x[1].append(np.array([[2 / 3, 1 / 3], [1 / 3, 2 / 3]]))\n",
    "x[1].append(np.array([[0.0, 1 / 3], [0.0, 2 / 3]]))\n",
    "x[1].append(np.array([[1 / 3, 0.0], [2 / 3, 0.0]]))\n",
    "x[2].append(np.array([[1 / 4, 1 / 4], [1 / 2, 1 / 4], [1 / 4, 1 / 2]]))\n",
    "\n",
    "M = [[], [], [], []]\n",
    "for _ in range(3):\n",
    "    M[0].append(np.array([[[[1.]]]]))\n",
    "for _ in range(3):\n",
    "    M[1].append(np.array([[[[1.], [0.]]], [[[0.], [1.]]]]))\n",
    "M[2].append(np.array([[[[1.], [0.], [0.]]], [[[0.], [1.], [0.]]], [[[0.], [0.], [1.]]]]))"
   ]
  },
  {
   "cell_type": "markdown",
   "id": "81994537",
   "metadata": {
    "slideshow": {
     "slide_type": "notes"
    },
    "tags": []
   },
   "source": [
    "#### Creating the element\n",
    "\n",
    "We now create the element by passing in the information we created above, as well as the cell type, value shape, number of derivatives used by the DOFs, map type, whether the element is discontinuous, the highest degree Lagrange space that is a subspace of the element, and the polynomial degree of the element."
   ]
  },
  {
   "cell_type": "code",
   "execution_count": 21,
   "id": "7c9c03cc",
   "metadata": {},
   "outputs": [
    {
     "data": {
      "image/png": "[encoded data removed]",
      "text/plain": [
       "<Figure size 432x288 with 1 Axes>"
      ]
     },
     "metadata": {
      "needs_background": "light"
     },
     "output_type": "display_data"
    }
   ],
   "source": [
    "p3_plus_bubbles = basix.create_custom_element(basix.CellType.triangle, [], wcoeffs, x, M, 0, basix.MapType.identity, False, 3, 4)\n",
    "element_u = VectorElement(basix.ufl_wrapper.BasixElement(p3_plus_bubbles))\n",
    "element_p = FiniteElement(\"DG\", \"triangle\", 2)\n",
    "error_plot(element_u, element_p, 3, refinements=4)"
   ]
  },
  {
   "cell_type": "markdown",
   "id": "94450f5a",
   "metadata": {
    "slideshow": {
     "slide_type": "slide"
    },
    "tags": []
   },
   "source": [
    "## References\n",
    "\n",
    "Crouzeix, Michel and Falk, Richard S. Nonconforming finite elements for the Stokes problem, *Mathematics of Computation* 52, 437–456, 1989. [DOI: [10.2307/2008475](https://doi.org/10.2307/2008475)]\n",
    "\n",
    "Crouzeix, Michel and Raviart, Pierre-Arnaud. Conforming and nonconforming finite element methods for solving the stationary Stokes equations, *Revue Française d'Automatique, Informatique et Recherche Opérationnelle* 3, 33–75, 1973. [DOI: [10.1051/m2an/197307R300331](https://doi.org/10.1051/m2an/197307R300331)]\n",
    "\n",
    "Fortin, Michel. Calcul numérique des écoulements des fluides de Bingham et des fluides newtoniens incompressibles par la méthode des éléments finis (PhD thesis), Univ. Paris, 1972.\n",
    "\n",
    "The images of elements used in this example were taken from DefElement:<br />\n",
    "The DefElement contributors. DefElement: an encyclopedia of finite element definitions, 2022, https://defelement.com [Online; accessed: 15-August-2022]."
   ]
  },
  {
   "cell_type": "code",
   "execution_count": null,
   "id": "c8534a58-1513-41a2-91d9-2221adcacfb7",
   "metadata": {},
   "outputs": [],
   "source": []
  }
 ],
 "metadata": {
  "jupytext": {
   "formats": "ipynb,py:light"
  },
  "kernelspec": {
   "display_name": "Python 3 (ipykernel)",
   "language": "python",
   "name": "python3"
  },
  "language_info": {
   "codemirror_mode": {
    "name": "ipython",
    "version": 3
   },
   "file_extension": ".py",
   "mimetype": "text/x-python",
   "name": "python",
   "nbconvert_exporter": "python",
   "pygments_lexer": "ipython3",
   "version": "3.10.4"
  }
 },
 "nbformat": 4,
 "nbformat_minor": 5
}
