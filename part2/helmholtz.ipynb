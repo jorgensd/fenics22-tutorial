{
 "cells": [
  {
   "cell_type": "markdown",
   "id": "e5450a52-a8e9-4616-8cd0-41cfac7c097f",
   "metadata": {
    "incorrectly_encoded_metadata": "slideshow={\"slide_type\": \"slide\"} tags=[] jp-MarkdownHeadingCollapsed=true",
    "lines_to_next_cell": 0,
    "slideshow": {
     "slide_type": "slide"
    },
    "tags": []
   },
   "source": [
    "# The Helmholtz equation\n",
    "\n",
    "\n",
    "In this tutorial, we will learn:\n",
    "\n",
    " - How to solve PDEs with complex-valued fields,\n",
    " - How to import and use high-order meshes from Gmsh,\n",
    " - How to use high order discretizations,\n",
    " - How to use UFL expressions."
   ]
  },
  {
   "cell_type": "markdown",
   "id": "ca874c12-82db-46d4-b826-b6aea843bf06",
   "metadata": {
    "slideshow": {
     "slide_type": "slide"
    },
    "tags": []
   },
   "source": [
    "## Problem statement\n",
    "We will solve the Helmholtz equation subject to a first order absorbing boundary condition:\n",
    "\n",
    "$$\n",
    "\\begin{align*}\n",
    "\\Delta u + k^2 u &= 0 \\qquad \\text{in } \\Omega,\\\\\n",
    "\\nabla u \\cdot \\mathbf{n} - jku &= g \\qquad \\text{on } \\partial\\Omega.\n",
    "\\end{align*}\n",
    "$$\n",
    "\n",
    "where $k$ is a pieciwise constant wavenumber, and $g$ is the boundary source term computed as:\n",
    "\n",
    "$$g = \\nabla u_i \\cdot \\mathbf{n} - jku_i$$\n",
    "\n",
    "and $u_i$ is the incoming plane wave. "
   ]
  },
  {
   "cell_type": "code",
   "execution_count": null,
   "id": "433d9338-15c9-4ed5-9fa0-c83281da39ee",
   "metadata": {
    "slideshow": {
     "slide_type": "skip"
    },
    "tags": []
   },
   "outputs": [],
   "source": [
    "import numpy as np\n",
    "from mpi4py import MPI\n",
    "\n",
    "from dolfinx import fem\n",
    "import ufl"
   ]
  },
  {
   "cell_type": "markdown",
   "id": "de959fc8-6fce-4ecb-83ab-b2ca6edb0475",
   "metadata": {
    "slideshow": {
     "slide_type": "slide"
    },
    "tags": []
   },
   "source": [
    "This code is only meant to be executed with complex-valued degrees of freedom. To be able to solve such problems, we use the complex build of PETSc."
   ]
  },
  {
   "cell_type": "code",
   "execution_count": null,
   "id": "257a7024-7fb4-4d10-9dee-eacd607bea97",
   "metadata": {
    "slideshow": {
     "slide_type": "fragment"
    },
    "tags": []
   },
   "outputs": [],
   "source": [
    "import sys\n",
    "from petsc4py import PETSc\n",
    "\n",
    "if not np.issubdtype(PETSc.ScalarType, np.complexfloating):\n",
    "    print(\"This tutorial requires complex number support\")\n",
    "    sys.exit(0)\n",
    "else:\n",
    "    print(f\"Using {PETSc.ScalarType}.\")"
   ]
  },
  {
   "cell_type": "markdown",
   "id": "da41ebf9-34dd-4238-bbcc-393648210608",
   "metadata": {
    "slideshow": {
     "slide_type": "slide"
    },
    "tags": []
   },
   "source": [
    "## Defining model parameters"
   ]
  },
  {
   "cell_type": "code",
   "execution_count": null,
   "id": "dd8366af-6cc1-4fee-80b0-a499b7c4cb8f",
   "metadata": {
    "slideshow": {
     "slide_type": "fragment"
    },
    "tags": []
   },
   "outputs": [],
   "source": [
    "# MPI communicator\n",
    "comm = MPI.COMM_WORLD\n",
    "\n",
    "# wavenumber in free space (air)\n",
    "k0 = 10 * np.pi\n",
    "\n",
    "# Corresponding wavelength\n",
    "lmbda = 2 * np.pi / k0\n",
    "\n",
    "# Polynomial degree\n",
    "degree = 4\n",
    "\n",
    "# Mesh order\n",
    "mesh_order = 2"
   ]
  },
  {
   "cell_type": "markdown",
   "id": "7bfd09b8-9a20-4294-8ab1-781ab2c08cd8",
   "metadata": {
    "slideshow": {
     "slide_type": "slide"
    },
    "tags": []
   },
   "source": [
    "## Interfacing with GMSH\n",
    "\n",
    "We will use [Gmsh](http://gmsh.info/) to generate the computational domain (mesh) for this example. As long as Gmsh has been installed (including its Python API), DOLFINx supports direct input of Gmsh models (generated on one process). DOLFINx will then in turn distribute the mesh over all processes in the communicator passed to `dolfinx.io.gmshio.model_to_mesh`.\n",
    "\n",
    "The function `generate_mesh` creates a Gmsh model on rank 0 of `MPI.COMM_WORLD`.The function `generate_mesh` creates a Gmsh model on rank 0 of `MPI.COMM_WORLD`."
   ]
  },
  {
   "cell_type": "code",
   "execution_count": null,
   "id": "42b6d858-a1bc-4eb9-896d-c2ad5245cde4",
   "metadata": {
    "slideshow": {
     "slide_type": "skip"
    },
    "tags": []
   },
   "outputs": [],
   "source": [
    "try:\n",
    "    import gmsh\n",
    "except ModuleNotFoundError:\n",
    "    print(\"This demo requires gmsh to be installed\")\n",
    "    sys.exit(0)"
   ]
  },
  {
   "cell_type": "code",
   "execution_count": null,
   "id": "eec83fe0-eced-437c-b4de-116792338d07",
   "metadata": {
    "scrolled": true,
    "slideshow": {
     "slide_type": "fragment"
    },
    "tags": []
   },
   "outputs": [],
   "source": [
    "import gmsh\n",
    "from dolfinx.io import gmshio\n",
    "from mesh_generation import generate_mesh\n",
    "\n",
    "gmsh.initialize()\n",
    "model = generate_mesh(lmbda, order=mesh_order)\n",
    "mesh, cell_tags, _ = gmshio.model_to_mesh(model, comm, 0, gdim=2)\n",
    "gmsh.finalize()"
   ]
  },
  {
   "cell_type": "markdown",
   "id": "e3566dea-f954-484c-b41d-d6787c44f1af",
   "metadata": {
    "slideshow": {
     "slide_type": "slide"
    },
    "tags": []
   },
   "source": [
    "## Material parameters\n",
    "\n",
    "In this problem, the wave number in the different parts of the domain depends on cell markers, inputted through `cell_tags`.\n",
    "We use the fact that a Discontinuous Galerkin space of order 0 (cell-wise piecewise constants) has a one-to-one mapping with the cells local to the process."
   ]
  },
  {
   "cell_type": "code",
   "execution_count": null,
   "id": "d6b41f72-c9ae-4111-b268-0a7e53c7d459",
   "metadata": {
    "slideshow": {
     "slide_type": "fragment"
    },
    "tags": []
   },
   "outputs": [],
   "source": [
    "DG = fem.FunctionSpace(mesh, (\"DG\", 0))\n",
    "k = fem.Function(DG)\n",
    "k.x.array[:] = k0\n",
    "k.x.array[cell_tags.find(1)] = 2*k0"
   ]
  },
  {
   "cell_type": "markdown",
   "id": "7cb879f1-da87-40e4-8b97-694078d5cb25",
   "metadata": {
    "slideshow": {
     "slide_type": "subslide"
    },
    "tags": []
   },
   "source": [
    "Now we can visualize the wavenumber distribution throughout the computational domain:"
   ]
  },
  {
   "cell_type": "code",
   "execution_count": null,
   "id": "a008a5e1-4a99-4def-8545-516f39eabaca",
   "metadata": {
    "slideshow": {
     "slide_type": "fragment"
    },
    "tags": []
   },
   "outputs": [],
   "source": [
    "import pyvista\n",
    "import matplotlib.pyplot as plt\n",
    "from dolfinx.plot import create_vtk_mesh\n",
    "\n",
    "pyvista.set_jupyter_backend(\"pythreejs\")\n",
    "\n",
    "topology, cells, geometry = create_vtk_mesh(mesh)\n",
    "grid = pyvista.UnstructuredGrid(topology, cells, geometry)\n",
    "grid.cell_data[\"Marker\"] = k.x.array.real\n",
    "plotter = pyvista.Plotter()\n",
    "renderer = plotter.add_mesh(grid, show_edges=True)\n",
    "plotter.view_xy()\n",
    "plotter.show()"
   ]
  },
  {
   "cell_type": "markdown",
   "id": "27cc978a-bc0d-4a77-856d-f17e27f06094",
   "metadata": {
    "slideshow": {
     "slide_type": "slide"
    },
    "tags": []
   },
   "source": [
    "## Boundary conditions\n",
    "\n",
    "Next, we define the boundary source term, by using `ufl.SpatialCoordinate`. When using this function, all quantities using this expression will be evaluated at quadrature points."
   ]
  },
  {
   "cell_type": "code",
   "execution_count": null,
   "id": "cf99d1fe-55df-4630-910e-a3caf118153b",
   "metadata": {
    "slideshow": {
     "slide_type": "fragment"
    },
    "tags": []
   },
   "outputs": [],
   "source": [
    "n = ufl.FacetNormal(mesh)\n",
    "x = ufl.SpatialCoordinate(mesh)\n",
    "ui = ufl.exp(-1j * k * x[0])\n",
    "g = ufl.dot(ufl.grad(ui), n) + 1j * k * ui"
   ]
  },
  {
   "cell_type": "markdown",
   "id": "eae8efd8-d18c-4075-b3fd-db1b3d142335",
   "metadata": {
    "slideshow": {
     "slide_type": "slide"
    },
    "tags": []
   },
   "source": [
    "## Variational form\n",
    "\n",
    "Next, we can define the variational problem, using a 4th order Lagrange space. Note that as we are using complex valued functions, we have to use the appropriate inner product, see [DOLFINx tutorial: Complex numbers](https://jorgensd.github.io/dolfinx-tutorial/chapter1/complex_mode.html) for more information.\n",
    "\n",
    "\n",
    "$$ -\\int_\\Omega \\nabla u \\cdot \\nabla \\bar{v} ~ dx + \\int_\\Omega k^2 u \\,\\bar{v}~ dx - j\\int_{\\partial \\Omega} ku  \\bar{v} ~ ds = \\int_{\\partial \\Omega} g \\, \\bar{v}~ ds \\qquad \\forall v \\in \\widehat{V}. $$"
   ]
  },
  {
   "cell_type": "code",
   "execution_count": null,
   "id": "f7b6e171-6832-4174-8804-b0315f5a3c11",
   "metadata": {
    "slideshow": {
     "slide_type": "fragment"
    },
    "tags": []
   },
   "outputs": [],
   "source": [
    "element = ufl.FiniteElement(\"Lagrange\", mesh.ufl_cell(), degree)\n",
    "V = fem.FunctionSpace(mesh, element)\n",
    "u = ufl.TrialFunction(V)\n",
    "v = ufl.TestFunction(V)"
   ]
  },
  {
   "cell_type": "code",
   "execution_count": null,
   "id": "b4327cad-a8f7-4009-9f17-e50341fc4082",
   "metadata": {
    "slideshow": {
     "slide_type": "fragment"
    },
    "tags": []
   },
   "outputs": [],
   "source": [
    "a = - ufl.inner(ufl.grad(u), ufl.grad(v)) * ufl.dx \\\n",
    "    + k**2 * ufl.inner(u, v) * ufl.dx \\\n",
    "    - 1j * k * ufl.inner(u, v) * ufl.ds\n",
    "L = ufl.inner(g, v) * ufl.ds"
   ]
  },
  {
   "cell_type": "markdown",
   "id": "078f094e-4ae9-4403-98ea-bc2dcf053483",
   "metadata": {
    "slideshow": {
     "slide_type": "slide"
    },
    "tags": []
   },
   "source": [
    "## Linear solver"
   ]
  },
  {
   "cell_type": "markdown",
   "id": "9547f3e1-38f3-43f2-9a0b-b6ea297dfa59",
   "metadata": {
    "slideshow": {
     "slide_type": "notes"
    },
    "tags": []
   },
   "source": [
    "Next, we will solve the problem using a direct solver (LU)."
   ]
  },
  {
   "cell_type": "code",
   "execution_count": null,
   "id": "6c8ea5ef-77df-4a44-a06e-85ed2f186940",
   "metadata": {
    "slideshow": {
     "slide_type": "fragment"
    },
    "tags": []
   },
   "outputs": [],
   "source": [
    "opt = {\"ksp_type\": \"preonly\", \"pc_type\": \"lu\"}\n",
    "problem = fem.petsc.LinearProblem(a, L, petsc_options=opt)\n",
    "uh = problem.solve()\n",
    "uh.name = \"u\""
   ]
  },
  {
   "cell_type": "markdown",
   "id": "31456b13-bec6-4e82-9e33-975d92b0be55",
   "metadata": {
    "lines_to_next_cell": 0,
    "slideshow": {
     "slide_type": "slide"
    },
    "tags": []
   },
   "source": [
    "## Postprocessing\n",
    "\n",
    "### Visualising using PyVista"
   ]
  },
  {
   "cell_type": "code",
   "execution_count": null,
   "id": "006df3cc-5436-4ba2-ae2e-4205e5a1f117",
   "metadata": {
    "lines_to_next_cell": 2,
    "slideshow": {
     "slide_type": "fragment"
    },
    "tags": []
   },
   "outputs": [],
   "source": [
    "topology, cells, geometry = create_vtk_mesh(V)\n",
    "grid = pyvista.UnstructuredGrid(topology, cells, geometry)\n",
    "grid.point_data[\"Re(u)\"] = uh.x.array.real\n",
    "grid.point_data[\"Im(u)\"] = uh.x.array.imag"
   ]
  },
  {
   "cell_type": "code",
   "execution_count": null,
   "id": "25752387-c225-4db5-a1bc-3287062d603a",
   "metadata": {
    "slideshow": {
     "slide_type": "skip"
    },
    "tags": []
   },
   "outputs": [],
   "source": [
    "pyvista.start_xvfb(0.5) # Start virtual framebuffer for plotting\n",
    "\n",
    "import matplotlib.pyplot as plt\n",
    "def plot_function(grid, name):\n",
    "    plotter = pyvista.Plotter()\n",
    "    grid.set_active_scalars(name)\n",
    "    renderer = plotter.add_mesh(grid, show_edges=False)\n",
    "    img = plotter.screenshot(f\"{name}.png\",\n",
    "                         transparent_background=True,\n",
    "                         window_size=(1000,1000))\n",
    "    plt.axis(\"off\")\n",
    "    plt.gcf().set_size_inches(10,10)\n",
    "    fig = plt.imshow(img)\n"
   ]
  },
  {
   "cell_type": "code",
   "execution_count": null,
   "id": "34817139-1016-44cc-8d40-c16f239d9ab4",
   "metadata": {
    "slideshow": {
     "slide_type": "subslide"
    },
    "tags": []
   },
   "outputs": [],
   "source": [
    "plot_function(grid, \"Re(u)\")"
   ]
  },
  {
   "cell_type": "code",
   "execution_count": null,
   "id": "1f8be388-885f-4bef-a8cb-4b549bec0480",
   "metadata": {
    "slideshow": {
     "slide_type": "subslide"
    },
    "tags": []
   },
   "outputs": [],
   "source": [
    "plot_function(grid, \"Im(u)\")"
   ]
  },
  {
   "cell_type": "markdown",
   "id": "0cbf8d9b-04e1-4013-95ff-cce689897a64",
   "metadata": {
    "slideshow": {
     "slide_type": "slide"
    },
    "tags": []
   },
   "source": [
    "### Saving functions"
   ]
  },
  {
   "cell_type": "code",
   "execution_count": null,
   "id": "e93e9893-5111-4389-8ba2-e615b393cdb4",
   "metadata": {
    "slideshow": {
     "slide_type": "fragment"
    },
    "tags": []
   },
   "outputs": [],
   "source": [
    "from dolfinx.io import XDMFFile, VTXWriter\n",
    "\n",
    "# XDMF write the solution as a P1 function\n",
    "with XDMFFile(comm, \"out.xdmf\", \"w\") as file:\n",
    "    file.write_mesh(mesh)\n",
    "    file.write_function(uh)\n",
    "\n",
    "# VTX can write higher order function\n",
    "with VTXWriter(comm, \"out_high_order.bp\", [uh]) as f:\n",
    "    f.write(0.0)"
   ]
  }
 ],
 "metadata": {
  "jupytext": {
   "formats": "ipynb,py:light"
  },
  "kernelspec": {
   "display_name": "Python 3 (DOLFINx complex)",
   "language": "python",
   "name": "python3-complex"
  },
  "language_info": {
   "codemirror_mode": {
    "name": "ipython",
    "version": 3
   },
   "file_extension": ".py",
   "mimetype": "text/x-python",
   "name": "python",
   "nbconvert_exporter": "python",
   "pygments_lexer": "ipython3",
   "version": "3.10.4"
  },
  "vscode": {
   "interpreter": {
    "hash": "aee8b7b246df8f9039afb4144a1f6fd8d2ca17a180786b69acc140d282b71a49"
   }
  }
 },
 "nbformat": 4,
 "nbformat_minor": 5
}
