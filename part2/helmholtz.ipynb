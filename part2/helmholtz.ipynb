{
 "cells": [
  {
   "cell_type": "code",
   "execution_count": 1,
   "id": "9045d78b-b6a4-4f0e-a1d2-6bd913430dee",
   "metadata": {
    "lines_to_next_cell": 0,
    "slideshow": {
     "slide_type": "slide"
    },
    "tags": []
   },
   "outputs": [
    {
     "name": "stdout",
     "output_type": "stream",
     "text": [
      "Using <class 'numpy.complex128'>.\n"
     ]
    }
   ],
   "source": [
    "# The Helmholtz equation\n",
    "\n",
    "import sys\n",
    "\n",
    "import numpy as np\n",
    "from mpi4py import MPI\n",
    "from petsc4py import PETSc\n",
    "\n",
    "import ufl\n",
    "from dolfinx.fem import Function, FunctionSpace\n",
    "from dolfinx.fem.petsc import LinearProblem\n",
    "from dolfinx.io import XDMFFile, VTXWriter\n",
    "from dolfinx.io.gmshio import model_to_mesh\n",
    "\n",
    "\n",
    "if not np.issubdtype(PETSc.ScalarType, np.complexfloating):\n",
    "    print(\"This tutorial requires complex number support\")\n",
    "    exit(0)\n",
    "else:\n",
    "    print(f\"Using {PETSc.ScalarType}.\")"
   ]
  },
  {
   "cell_type": "code",
   "execution_count": 2,
   "id": "0a0a28ff-8853-4867-a8b9-cceb38adf4e5",
   "metadata": {},
   "outputs": [
    {
     "name": "stdout",
     "output_type": "stream",
     "text": [
      "Info    : Meshing 1D...\n",
      "Info    : [  0%] Meshing curve 1 (Line)\n",
      "Info    : [ 20%] Meshing curve 2 (Line)\n",
      "Info    : [ 40%] Meshing curve 3 (Line)\n",
      "Info    : [ 50%] Meshing curve 4 (Line)\n",
      "Info    : [ 70%] Meshing curve 5 (Circle)\n",
      "Info    : [ 90%] Meshing curve 6 (Circle)\n",
      "Info    : Done meshing 1D (Wall 0.000980396s, CPU 0.001561s)\n",
      "Info    : Meshing 2D...\n",
      "Info    : [  0%] Meshing surface 1 (Plane, Frontal-Delaunay)\n",
      "Info    : [ 40%] Meshing surface 2 (Plane, Frontal-Delaunay)\n",
      "Info    : [ 70%] Meshing surface 3 (Plane, Frontal-Delaunay)\n",
      "Info    : Done meshing 2D (Wall 0.0465658s, CPU 0.045643s)\n",
      "Info    : 1627 nodes 3286 elements\n"
     ]
    },
    {
     "name": "stderr",
     "output_type": "stream",
     "text": [
      "Error   : Unknown mesh format '/root/.local/share/jupyter/runtime/kernel-f4c697f2-e3af-41ca-bd67-7ed16179a5e5.json'\n"
     ]
    }
   ],
   "source": [
    "try:\n",
    "    import gmsh\n",
    "except ModuleNotFoundError:\n",
    "    print(\"This demo requires gmsh to be installed\")\n",
    "    sys.exit(0)\n",
    "\n",
    "from mesh_generation import generate_mesh\n",
    "\n",
    "k0 = 10 * np.pi\n",
    "lmbda = 2 * np.pi / k0\n",
    "\n",
    "model = generate_mesh(lmbda, 2)\n",
    "mesh, cell_tags, facet_tags = model_to_mesh(model, MPI.COMM_WORLD, 0, gdim=2)\n",
    "gmsh.finalize()"
   ]
  },
  {
   "cell_type": "code",
   "execution_count": 6,
   "id": "e93e9893-5111-4389-8ba2-e615b393cdb4",
   "metadata": {},
   "outputs": [],
   "source": [
    "n = ufl.FacetNormal(mesh)\n",
    "\n",
    "p = 4\n",
    "\n",
    "# Definition of function space\n",
    "element = ufl.FiniteElement(\"Lagrange\", ufl.triangle, p)\n",
    "V = FunctionSpace(mesh, element)\n",
    "\n",
    "\n",
    "# Define wave number\n",
    "DG = FunctionSpace(mesh, (\"DG\", 0))\n",
    "k = Function(DG)\n",
    "k.x.array[:] = k0\n",
    "k.x.array[cell_tags.values == 1] = 2*k0\n",
    "\n",
    "x = ufl.SpatialCoordinate(mesh)\n",
    "ui = ufl.exp(1.0j * k * x[0])\n",
    "g = ufl.dot(ufl.grad(ui), n) + 1j * k * ui\n",
    "\n",
    "# Define variational problem\n",
    "u = ufl.TrialFunction(V)\n",
    "v = ufl.TestFunction(V)\n",
    "\n",
    "# Weak Form\n",
    "ds = ufl.Measure(\"ds\", domain=mesh)\n",
    "dx = ufl.Measure(\"dx\", domain=mesh)\n",
    "a = ufl.inner(ufl.grad(u), ufl.grad(v)) * dx \\\n",
    "    - k**2 * ufl.inner(u, v) * dx \\\n",
    "    + 1j * k * ufl.inner(u, v) * ds\n",
    "L = ufl.inner(g, v) * ds\n",
    "\n",
    "\n",
    "# Compute solution\n",
    "uh = Function(V)\n",
    "uh.name = \"u\"\n",
    "problem = LinearProblem(a, L, u=uh, petsc_options={\n",
    "                        \"ksp_type\": \"preonly\", \"pc_type\": \"lu\"})\n",
    "problem.solve()\n",
    "\n",
    "# XDMF write the solution as a P1 function\n",
    "with XDMFFile(MPI.COMM_WORLD, \"out.xdmf\", \"w\") as file:\n",
    "    file.write_mesh(mesh)\n",
    "    file.write_function(uh)\n",
    "\n",
    "# VTX can write higher order function\n",
    "with VTXWriter(MPI.COMM_WORLD, \"out_high_order.bp\", uh) as f:\n",
    "    f.write(0.0)"
   ]
  }
 ],
 "metadata": {
  "jupytext": {
   "formats": "ipynb,py:light"
  },
  "kernelspec": {
   "display_name": "Python 3 (DOLFINx complex)",
   "language": "python",
   "name": "python3-complex"
  },
  "language_info": {
   "codemirror_mode": {
    "name": "ipython",
    "version": 3
   },
   "file_extension": ".py",
   "mimetype": "text/x-python",
   "name": "python",
   "nbconvert_exporter": "python",
   "pygments_lexer": "ipython3",
   "version": "3.10.4"
  },
  "vscode": {
   "interpreter": {
    "hash": "aee8b7b246df8f9039afb4144a1f6fd8d2ca17a180786b69acc140d282b71a49"
   }
  }
 },
 "nbformat": 4,
 "nbformat_minor": 5
}
