{
 "cells": [
  {
   "cell_type": "markdown",
   "id": "68d7991c-6664-49d6-a8a2-71b43fc0abda",
   "metadata": {
    "slideshow": {
     "slide_type": "slide"
    },
    "tags": []
   },
   "source": [
    "# The heat equation"
   ]
  },
  {
   "cell_type": "markdown",
   "id": "f44f5cf7-1344-474e-b121-936caa13797a",
   "metadata": {
    "slideshow": {
     "slide_type": "notes"
    },
    "tags": []
   },
   "source": [
    "This notebook will show you how to solve a transient problem using DOLFINx, and highlight differences between `dolfin` and `dolfinx`.\n",
    "We start by looking at the structure of DOLFINx:"
   ]
  },
  {
   "cell_type": "markdown",
   "id": "36ccb951-19ab-4b69-a13c-e0a3356f305b",
   "metadata": {},
   "source": [
    "Relevant DOLFINx modules\n",
    "- `dolfinx.mesh`: Classes and functions related to the computational domain\n",
    "- `dolfinx.fem`: Finite element method functionality\n",
    "- `dolfinx.io`: Input/Output (read/write) functionality\n",
    "- `dolfinx.plot`: Convenience functions for exporting plotting data"
   ]
  },
  {
   "cell_type": "code",
   "execution_count": null,
   "id": "a9fbb5d1-0dad-44f6-9a32-93535f74db4e",
   "metadata": {
    "tags": []
   },
   "outputs": [],
   "source": [
    "from dolfinx import mesh, fem, io, plot"
   ]
  },
  {
   "cell_type": "markdown",
   "id": "28904567-9391-44c1-9e7b-b55e7486a93b",
   "metadata": {
    "slideshow": {
     "slide_type": "fragment"
    },
    "tags": []
   },
   "source": [
    "## Creating a distributed computational domain (mesh)"
   ]
  },
  {
   "cell_type": "markdown",
   "id": "54fb77a5-7b70-4e7f-9cf3-e1c88251b796",
   "metadata": {
    "slideshow": {
     "slide_type": "notes"
    },
    "tags": []
   },
   "source": [
    "To create a simple computational domain in DOLFINx, we use the mesh generation utils in `dolfinx.mesh`. Here we have tools to build rectangles of triangular/quadrilateral and boxes of tetrahedral/hexahedral elements. We start by creating a rectangle spanning [0,0]X[10,3], with 100 and 20 elements in each direction respectively."
   ]
  },
  {
   "cell_type": "code",
   "execution_count": null,
   "id": "e473b08c-ef9f-4756-a981-47b2958c7c4e",
   "metadata": {},
   "outputs": [],
   "source": [
    "from mpi4py import MPI\n",
    "length = 10\n",
    "width = 3\n",
    "Nx = 100\n",
    "Ny = 20\n",
    "domain = mesh.create_rectangle(MPI.COMM_WORLD, \n",
    "                               [[0.,0.],[length, width]],\n",
    "                               [Nx, Ny], \n",
    "                               cell_type=mesh.CellType.quadrilateral)"
   ]
  },
  {
   "cell_type": "markdown",
   "id": "6282cedf-36df-4209-9a54-5f274f74c9ab",
   "metadata": {
    "slideshow": {
     "slide_type": "notes"
    },
    "tags": []
   },
   "source": [
    "As opposed to DOLFIN, we work on simply python structures (nested listes/numpy arrays).\n",
    "We also note that we have to send in a communicator. This is because we want the user to be aware of how the mesh is distributed when running in parallel. \n",
    "If we would use the communicator `MPI.COMM_SELF`, each process initialized when running the script would have a mesh local to its process."
   ]
  },
  {
   "cell_type": "markdown",
   "id": "5c7e163a-acdd-49f3-8873-fde09f59b8d0",
   "metadata": {
    "slideshow": {
     "slide_type": "subslide"
    },
    "tags": []
   },
   "source": [
    "## Creating a mesh on each process"
   ]
  },
  {
   "cell_type": "code",
   "execution_count": null,
   "id": "23061a93-3b46-45ab-ba95-987e01db1cca",
   "metadata": {
    "lines_to_next_cell": 0,
    "tags": []
   },
   "outputs": [],
   "source": [
    "local_domain =  mesh.create_rectangle(MPI.COMM_SELF,\n",
    "                               [[0.,0.],[length, width]],\n",
    "                               [Nx, Ny], \n",
    "                               cell_type=mesh.CellType.quadrilateral)"
   ]
  },
  {
   "cell_type": "markdown",
   "id": "7f792ea5-ce66-4f91-a2d7-10f5a361b9d6",
   "metadata": {
    "lines_to_next_cell": 2,
    "slideshow": {
     "slide_type": "slide"
    },
    "tags": []
   },
   "source": [
    "## Setting up a variational problem"
   ]
  },
  {
   "cell_type": "markdown",
   "id": "eea38f11-101f-4fd8-a8bb-af43979cc839",
   "metadata": {
    "slideshow": {
     "slide_type": "notes"
    },
    "tags": []
   },
   "source": [
    "We will solve the heat equation, with a backward Euler time stepping scheme, i.e."
   ]
  },
  {
   "cell_type": "markdown",
   "id": "3578231c-f2ff-4cbe-beba-aeef1e7a3c40",
   "metadata": {},
   "source": [
    "$$\n",
    "\\begin{align*}\n",
    "\\frac{u_{n+1}-u_n}{\\Delta t} - \\nabla \\cdot (\\mu  \\nabla u_{n+1}) &= f(x,t) \\qquad \\text{in } \\Omega,\\\\\n",
    "u &= u_D(x,t) \\qquad \\text{on } \\partial\\Omega_D,\\\\\n",
    "\\mu\\frac{\\partial u}{\\partial n} &=0 \\qquad \\text{on } \\partial\\Omega_N\n",
    "\\end{align*}\n",
    "$$ \n",
    "with $u_D = \\sin(t)\\cos(y)$, $f=0$."
   ]
  },
  {
   "cell_type": "markdown",
   "id": "7fdc0d5f-e35b-4146-9839-ddf3a791f3c0",
   "metadata": {
    "slideshow": {
     "slide_type": "notes"
    },
    "tags": []
   },
   "source": [
    "We start by defining the function space, the corresponding test and trial functions, as well as material and temporal parameters. We note that we use explicit imports from ufl to create the test and trial functions, to avoid confusion as to where they originate from. DOLFINx and UFL supports both real and complex valued functions. However, to be able to the PETSc linear algebra backend, which only supports a single floating type at compilation, we need to use appropriate scalar types in our variational form. This ensures that we generate consistent matrices/vectors"
   ]
  },
  {
   "cell_type": "code",
   "execution_count": null,
   "id": "1d859674-2bb7-4454-a538-f935b0f56558",
   "metadata": {},
   "outputs": [],
   "source": [
    "from ufl import TestFunction, TrialFunction, dx, grad, inner, system\n",
    "from petsc4py import PETSc\n",
    "V = fem.FunctionSpace(domain, (\"Lagrange\", 1))\n",
    "u = TrialFunction(V)\n",
    "v = TestFunction(V)\n",
    "un = fem.Function(V)\n",
    "f = fem.Constant(domain, PETSc.ScalarType(0.0))\n",
    "mu = fem.Constant(domain, PETSc.ScalarType(0.1))\n",
    "dt = fem.Constant(domain, PETSc.ScalarType(0.01))"
   ]
  },
  {
   "cell_type": "markdown",
   "id": "83e93c23-e8ea-47c0-8912-38be470bc43a",
   "metadata": {
    "slideshow": {
     "slide_type": "notes"
    },
    "tags": []
   },
   "source": [
    "The variational form can be written in UFL syntax, as done in old DOLFIN:"
   ]
  },
  {
   "cell_type": "code",
   "execution_count": null,
   "id": "b4e8878f-5f35-427c-9318-71d4bcdfdcce",
   "metadata": {
    "slideshow": {
     "slide_type": "fragment"
    },
    "tags": []
   },
   "outputs": [],
   "source": [
    "F = inner(u - un, v) * dx + mu * inner(grad(u), grad(v)) * dx \\\n",
    "  - inner(f, v) * dx\n",
    "(a, L) = system(F)"
   ]
  },
  {
   "cell_type": "markdown",
   "id": "a7b2f012-1b98-466b-bc6a-5634f91a431a",
   "metadata": {
    "slideshow": {
     "slide_type": "slide"
    },
    "tags": []
   },
   "source": [
    "## Creating Dirichlet conditions"
   ]
  },
  {
   "cell_type": "markdown",
   "id": "fd839336-90e1-4383-9b1f-1fcd2e6e82de",
   "metadata": {
    "slideshow": {
     "slide_type": "notes"
    },
    "tags": []
   },
   "source": [
    "To give the user freedom to set boundary conditions on single degrees of freedom, the `dolfinx.fem.dirichletbc` takes in the list of degrees of freedom as input. These can be obtained in many ways, but we supply a few convenience functions, such as `dolfinx.fem.locate_dofs_topological` and `dolfinx.locate_dofs_geometrical`.\n",
    "Locating dofs topologically is in general adviced, as certain finite elements do not have a geometrical coordinate (Nedelec, RT etc). DOLFINx also has convenicence functions to obtain a list of all boundary facets."
   ]
  },
  {
   "cell_type": "code",
   "execution_count": null,
   "id": "e3c7dd5e-af0b-4223-a0aa-1ca3c217b93a",
   "metadata": {},
   "outputs": [],
   "source": [
    "import numpy as np\n",
    "tdim = domain.topology.dim\n",
    "def dirichlet_facets(x):\n",
    "    return np.isclose(x[0], length)\n",
    "\n",
    "bc_facets = mesh.locate_entities_boundary(domain, tdim-1, dirichlet_facets)\n",
    "print(type(bc_facets))"
   ]
  },
  {
   "cell_type": "code",
   "execution_count": null,
   "id": "bb57b84a-e230-45f4-9a11-466fca63f61b",
   "metadata": {
    "slideshow": {
     "slide_type": "fragment"
    },
    "tags": []
   },
   "outputs": [],
   "source": [
    "bndry_dofs = fem.locate_dofs_topological(V, tdim-1, bc_facets)\n",
    "print(type(bndry_dofs))"
   ]
  },
  {
   "cell_type": "markdown",
   "id": "736df497-ad53-4d45-ac67-09c4b5c97d58",
   "metadata": {},
   "source": [
    "### Creating a time dependent boundary condition"
   ]
  },
  {
   "cell_type": "markdown",
   "id": "dca755a6-67e2-490d-a65e-85785200d6d8",
   "metadata": {
    "slideshow": {
     "slide_type": "notes"
    },
    "tags": []
   },
   "source": [
    "There are many ways of creating boundary conditions. In this example, we will create a time and spatially dependent function `uD(x,t)`. To do this we will use a function working on numpy arrays, where the input `x` is a 2D vector where each column corresponds to a coordinate (x,y,z)."
   ]
  },
  {
   "cell_type": "code",
   "execution_count": null,
   "id": "5060c070-1cd2-43b5-b162-d18ca7490d96",
   "metadata": {},
   "outputs": [],
   "source": [
    "def uD_function(t):\n",
    "    return lambda x: np.sin(t) * np.cos(x[1])\n",
    "\n",
    "uD = fem.Function(V)\n",
    "t = 0\n",
    "uD.interpolate(uD_function(t))"
   ]
  },
  {
   "cell_type": "code",
   "execution_count": null,
   "id": "e207eeca-5e43-47b0-8993-460a7341eb56",
   "metadata": {
    "slideshow": {
     "slide_type": "fragment"
    },
    "tags": []
   },
   "outputs": [],
   "source": [
    "bcs = [fem.dirichletbc(uD, bndry_dofs)]"
   ]
  },
  {
   "cell_type": "markdown",
   "id": "fd747071-0c80-4c48-b018-58769e121fd9",
   "metadata": {
    "slideshow": {
     "slide_type": "slide"
    },
    "tags": []
   },
   "source": [
    "## Setting up a time dependent solver"
   ]
  },
  {
   "cell_type": "markdown",
   "id": "fb7586ac-6788-41c8-a828-d1f4618c98a2",
   "metadata": {
    "lines_to_next_cell": 0,
    "slideshow": {
     "slide_type": "notes"
    },
    "tags": []
   },
   "source": [
    "For the linear solver, we would like to create the matrix and vector used for the solving at each time step.\n",
    "As the matrix is time-indepentent, we can assemble this once outside the temporal loop."
   ]
  },
  {
   "cell_type": "code",
   "execution_count": null,
   "id": "78c9e008-6532-42b5-9369-e58cb422be2a",
   "metadata": {},
   "outputs": [],
   "source": [
    "a_form = fem.form(a)\n",
    "A = fem.petsc.assemble_matrix(a_form, bcs=bcs)\n",
    "A.assemble()"
   ]
  },
  {
   "cell_type": "markdown",
   "id": "8d4515c5-0284-4293-b527-7bdbd79bd31a",
   "metadata": {
    "slideshow": {
     "slide_type": "notes"
    },
    "tags": []
   },
   "source": [
    "Next, we can generate the integration kernel for the right hand side, and create the rhs vector `b` that we will assemble into at each time step"
   ]
  },
  {
   "cell_type": "code",
   "execution_count": null,
   "id": "4fc3678a-48f6-42b7-b7f5-f1bc33566fa5",
   "metadata": {
    "slideshow": {
     "slide_type": "fragment"
    },
    "tags": []
   },
   "outputs": [],
   "source": [
    "rhs_form = fem.form(L)\n",
    "b = fem.petsc.create_vector(rhs_form)"
   ]
  },
  {
   "cell_type": "markdown",
   "id": "4ae18fe0-81a1-42f8-ba3a-38797cfc41ac",
   "metadata": {
    "slideshow": {
     "slide_type": "notes"
    },
    "tags": []
   },
   "source": [
    "We next create the PETSc KSP solver, and set it to solve it with a direct solver (LU)."
   ]
  },
  {
   "cell_type": "code",
   "execution_count": null,
   "id": "624d6a1f-7854-4a15-bfd9-fb1b4fdddccb",
   "metadata": {
    "slideshow": {
     "slide_type": "fragment"
    },
    "tags": []
   },
   "outputs": [],
   "source": [
    "solver = PETSc.KSP().create(domain.comm)\n",
    "solver.setOperators(A)\n",
    "solver.setType(PETSc.KSP.Type.PREONLY)\n",
    "solver.getPC().setType(PETSc.PC.Type.LU)"
   ]
  },
  {
   "cell_type": "markdown",
   "id": "6e83a638-fd11-41e6-a1de-4c5828fcccc1",
   "metadata": {
    "slideshow": {
     "slide_type": "slide"
    },
    "tags": []
   },
   "source": [
    "## Solving a time dependent problem"
   ]
  },
  {
   "cell_type": "markdown",
   "id": "e47c0e0a-54bb-441e-a30d-7ee4d48d596a",
   "metadata": {
    "slideshow": {
     "slide_type": "notes"
    },
    "tags": []
   },
   "source": [
    "We are now ready to solve the time dependent problem. At each time step, we need to:\n",
    "1. Update the time dependent boundary condition and source\n",
    "2. Reassemble the right hand side vector `b`\n",
    "3. Apply boundary conditions to `b`\n",
    "4. Solve linear problem `Au = b`\n",
    "5. Update previous time step, `un = u`"
   ]
  },
  {
   "cell_type": "code",
   "execution_count": null,
   "id": "54d60e10-5b23-4d53-b38d-a499ba7cc67a",
   "metadata": {
    "lines_to_next_cell": 0
   },
   "outputs": [],
   "source": [
    "T = np.pi\n",
    "uh = fem.Function(V)\n",
    "vtx = io.VTXWriter(domain.comm, \"uh.bp\", [uh])\n",
    "while t < T:\n",
    "    # Update boundary condition\n",
    "    t += dt.value\n",
    "    uD.interpolate(uD_function(t))\n",
    "    \n",
    "    # Assemble RHS\n",
    "    with b.localForm() as loc:\n",
    "        loc.set(0)\n",
    "    fem.petsc.assemble_vector(b, rhs_form)\n",
    "    \n",
    "    # Apply boundary condition\n",
    "    fem.petsc.apply_lifting(b, [a_form], [bcs])\n",
    "    b.ghostUpdate(addv=PETSc.InsertMode.ADD_VALUES,\n",
    "                  mode=PETSc.ScatterMode.REVERSE)\n",
    "    fem.petsc.set_bc(b, bcs)\n",
    "\n",
    "    # Solve linear problem\n",
    "    solver.solve(b, uh.vector)\n",
    "    uh.x.scatter_forward()\n",
    "    \n",
    "    # Update un\n",
    "    un.x.array[:] = uh.x.array\n",
    "    vtx.write(t)\n",
    "vtx.close()"
   ]
  },
  {
   "cell_type": "markdown",
   "id": "fe41148d-bd2c-46d2-b8ff-5cc3afac772d",
   "metadata": {
    "slideshow": {
     "slide_type": "slide"
    },
    "tags": []
   },
   "source": [
    "# Plotting the solution"
   ]
  },
  {
   "cell_type": "markdown",
   "id": "0cd7a671-07fc-4b15-99e2-09cf1d3f88de",
   "metadata": {
    "slideshow": {
     "slide_type": "notes"
    },
    "tags": []
   },
   "source": [
    "We plot the solution using [pyvista](https://github.com/pyvista/pyvista), which supports plotting of VTK structures. \n",
    "We create a VTK grid for plotting the solution by using `dolfinx.plot.create_vtk_mesh`, and sending in the function space `V`. The function space has to be continuous or discontinuous Lagrange space."
   ]
  },
  {
   "cell_type": "code",
   "execution_count": null,
   "id": "04bc219a-44fd-4106-a367-151b7a9016b2",
   "metadata": {},
   "outputs": [],
   "source": [
    "import pyvista\n",
    "topology, cells, geometry = plot.create_vtk_mesh(V)\n",
    "grid = pyvista.UnstructuredGrid(topology, cells, geometry)"
   ]
  },
  {
   "cell_type": "markdown",
   "id": "dca0f8ee-e68f-4e83-be26-be26421df380",
   "metadata": {
    "slideshow": {
     "slide_type": "notes"
    },
    "tags": []
   },
   "source": [
    "We can attach the data from the degrees of freedom to the mesh"
   ]
  },
  {
   "cell_type": "code",
   "execution_count": null,
   "id": "92c8b9f3-b522-481e-aff2-1b3b570b1bb4",
   "metadata": {
    "lines_to_next_cell": 2
   },
   "outputs": [],
   "source": [
    "grid.point_data[\"uh\"] = uh.x.array.real"
   ]
  },
  {
   "cell_type": "code",
   "execution_count": null,
   "id": "76389e8d-258b-4dca-9bb5-25e3c21ee9a4",
   "metadata": {
    "slideshow": {
     "slide_type": "skip"
    },
    "tags": []
   },
   "outputs": [],
   "source": [
    "pyvista.start_xvfb(0.5) # Start virtual framebuffer for plotting\n",
    "sargs = dict(title_font_size=25, label_font_size=20, fmt=\"%.2e\", color=\"black\",\n",
    "            position_x=0.1, position_y=0.8, width=0.8, height=0.1)"
   ]
  },
  {
   "cell_type": "code",
   "execution_count": null,
   "id": "2b47c6fc-9a6a-4319-b372-7c032365d59e",
   "metadata": {
    "slideshow": {
     "slide_type": "fragment"
    },
    "tags": []
   },
   "outputs": [],
   "source": [
    "plotter = pyvista.Plotter()\n",
    "renderer = plotter.add_mesh(grid, show_edges=True,\n",
    "                            scalar_bar_args=sargs)"
   ]
  },
  {
   "cell_type": "code",
   "execution_count": null,
   "id": "59f20a25-21db-477c-afeb-d584efaac4a4",
   "metadata": {
    "slideshow": {
     "slide_type": "skip"
    },
    "tags": []
   },
   "outputs": [],
   "source": [
    "# Settings for presentation mode\n",
    "plotter.view_xy()\n",
    "plotter.camera.zoom(1.3)"
   ]
  },
  {
   "cell_type": "code",
   "execution_count": null,
   "id": "1219b08b-5b1f-4787-814c-c2f8fb14c415",
   "metadata": {},
   "outputs": [],
   "source": [
    "img = plotter.screenshot(\"uh.png\",\n",
    "                         transparent_background=True,\n",
    "                         window_size=(1000,1000))"
   ]
  },
  {
   "cell_type": "code",
   "execution_count": null,
   "id": "eb98e8b9-9736-4abf-a0f5-323f3fec490b",
   "metadata": {
    "slideshow": {
     "slide_type": "slide"
    },
    "tags": []
   },
   "outputs": [],
   "source": [
    "import matplotlib.pyplot as plt\n",
    "plt.axis(\"off\")\n",
    "plt.gcf().set_size_inches(15,15)\n",
    "fig = plt.imshow(img)"
   ]
  }
 ],
 "metadata": {
  "jupytext": {
   "formats": "ipynb,py:light"
  },
  "kernelspec": {
   "display_name": "Python 3 (ipykernel)",
   "language": "python",
   "name": "python3"
  },
  "language_info": {
   "codemirror_mode": {
    "name": "ipython",
    "version": 3
   },
   "file_extension": ".py",
   "mimetype": "text/x-python",
   "name": "python",
   "nbconvert_exporter": "python",
   "pygments_lexer": "ipython3",
   "version": "3.10.4"
  }
 },
 "nbformat": 4,
 "nbformat_minor": 5
}
