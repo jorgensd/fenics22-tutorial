{
 "cells": [
  {
   "cell_type": "markdown",
   "id": "68d7991c-6664-49d6-a8a2-71b43fc0abda",
   "metadata": {
    "slideshow": {
     "slide_type": "slide"
    },
    "tags": []
   },
   "source": [
    "# The heat equation"
   ]
  },
  {
   "cell_type": "markdown",
   "id": "f44f5cf7-1344-474e-b121-936caa13797a",
   "metadata": {
    "slideshow": {
     "slide_type": "notes"
    },
    "tags": []
   },
   "source": [
    "This notebook will show you how to solve a transient problem using DOLFINx, and highlight differences between `dolfin` and `dolfinx`.\n",
    "We start by looking at the structure of DOLFINx:"
   ]
  },
  {
   "cell_type": "markdown",
   "id": "36ccb951-19ab-4b69-a13c-e0a3356f305b",
   "metadata": {},
   "source": [
    "Relevant DOLFINx modules\n",
    "- `dolfinx.mesh`: Classes and functions related to the computational domain\n",
    "- `dolfinx.fem`: Finite element method functionality\n",
    "- `dolfinx.io`: Input/Output (read/write) functionality\n",
    "- `dolfinx.plot`: Convenience functions for exporting plotting data"
   ]
  },
  {
   "cell_type": "code",
   "execution_count": 2,
   "id": "a9fbb5d1-0dad-44f6-9a32-93535f74db4e",
   "metadata": {
    "tags": []
   },
   "outputs": [],
   "source": [
    "from dolfinx import mesh, fem, io, plot"
   ]
  },
  {
   "cell_type": "markdown",
   "id": "28904567-9391-44c1-9e7b-b55e7486a93b",
   "metadata": {
    "slideshow": {
     "slide_type": "fragment"
    },
    "tags": []
   },
   "source": [
    "## Creating a distributed computational domain (mesh)"
   ]
  },
  {
   "cell_type": "markdown",
   "id": "54fb77a5-7b70-4e7f-9cf3-e1c88251b796",
   "metadata": {
    "slideshow": {
     "slide_type": "notes"
    },
    "tags": []
   },
   "source": [
    "To create a simple computational domain in DOLFINx, we use the mesh generation utils in `dolfinx.mesh`. Here we have tools to build rectangles of triangular/quadrilateral and boxes of tetrahedral/hexahedral elements. We start by creating a rectangle spanning [0,0]X[2,3], with 15 and 20 elements in each direction respectively."
   ]
  },
  {
   "cell_type": "code",
   "execution_count": 2,
   "id": "e473b08c-ef9f-4756-a981-47b2958c7c4e",
   "metadata": {},
   "outputs": [],
   "source": [
    "from mpi4py import MPI\n",
    "domain = mesh.create_rectangle(MPI.COMM_WORLD, \n",
    "                               [[0.,0.],[2.,3.]],\n",
    "                               [15, 20], \n",
    "                               cell_type=mesh.CellType.quadrilateral)"
   ]
  },
  {
   "cell_type": "markdown",
   "id": "6282cedf-36df-4209-9a54-5f274f74c9ab",
   "metadata": {
    "slideshow": {
     "slide_type": "notes"
    },
    "tags": []
   },
   "source": [
    "As opposed to DOLFIN, we work on simply python structures (nested listes/numpy arrays).\n",
    "We also note that we have to send in a communicator. This is because we want the user to be aware of how the mesh is distributed when running in parallel. \n",
    "If we would use the communicator `MPI.COMM_SELF`, each process initialized when running the script would have a mesh local to its process."
   ]
  },
  {
   "cell_type": "markdown",
   "id": "5c7e163a-acdd-49f3-8873-fde09f59b8d0",
   "metadata": {},
   "source": [
    "## Creating a mesh on each process"
   ]
  },
  {
   "cell_type": "code",
   "execution_count": 4,
   "id": "23061a93-3b46-45ab-ba95-987e01db1cca",
   "metadata": {
    "lines_to_next_cell": 0,
    "tags": []
   },
   "outputs": [],
   "source": [
    "local_domain =  mesh.create_rectangle(MPI.COMM_SELF,\n",
    "                               [[0.,0.],[2.,3.]],\n",
    "                               [15, 20], \n",
    "                               cell_type=mesh.CellType.quadrilateral)"
   ]
  },
  {
   "cell_type": "code",
   "execution_count": null,
   "id": "0b027c25-9ea7-4d0f-bd5d-b77f4a9ca7b3",
   "metadata": {
    "lines_to_next_cell": 2
   },
   "outputs": [],
   "source": []
  }
 ],
 "metadata": {
  "jupytext": {
   "formats": "ipynb,py:light"
  },
  "kernelspec": {
   "display_name": "Python 3 (DOLFINx complex)",
   "language": "python",
   "name": "python3-complex"
  },
  "language_info": {
   "codemirror_mode": {
    "name": "ipython",
    "version": 3
   },
   "file_extension": ".py",
   "mimetype": "text/x-python",
   "name": "python",
   "nbconvert_exporter": "python",
   "pygments_lexer": "ipython3",
   "version": "3.10.4"
  }
 },
 "nbformat": 4,
 "nbformat_minor": 5
}
